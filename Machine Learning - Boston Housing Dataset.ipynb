{
 "cells": [
  {
   "cell_type": "markdown",
   "metadata": {},
   "source": [
    "***"
   ]
  },
  {
   "cell_type": "markdown",
   "metadata": {},
   "source": [
    " <h1><center>Machine Learning - Boston Housing Dataset</center></h1> "
   ]
  },
  {
   "cell_type": "markdown",
   "metadata": {},
   "source": [
    "***"
   ]
  },
  {
   "cell_type": "markdown",
   "metadata": {},
   "source": [
    "\n",
    "![Boston](https://datasmarts.net/wp-content/uploads/2017/12/boston.jpeg)"
   ]
  },
  {
   "cell_type": "markdown",
   "metadata": {},
   "source": [
    "## Introduction"
   ]
  },
  {
   "cell_type": "markdown",
   "metadata": {},
   "source": [
    "Boston Housing dataset contains information collected by the U.S Census Service concerning housing in the area of Boston Mass. It was originally published by Harrison, D. and Rubinfeld, D.L. `Hedonic prices and the demand for clean air', J. Environ. Economics & Management, vol.5, 81-102, 1978.[1]\n",
    "\n",
    "In this study Harrison and Rubinfield look at the problems associated with using housing market data for measuring the willingness to pay for clean air. MEDV, the median value of house prices is the dependent variable in this study and NOX, the nitrate oxides concentration is an indendent variable and a measure of air pollution. The paper makes the assumtpion that \n",
    "people will pay for better air pollution reflected in the housing value and go on to build a housing model to peredict if this is indeed the case.[2]\n",
    "\n",
    "My reasearch into the boston housing dataset has shown that is a popular machine learning dataset and commonly referenced\n",
    "in data science articles. Most of the articles focus on the variables with the highest correlation coefficient and\n",
    "then go on to do some linear regression modelling.  [3][4][5]. In an artice by Ritie Ng, he notes an intereseting point that\n",
    "\"16 data points have an 'MEDV' value of 50.0. These data points likely contain missing or censored values and have been removed\".[6] \n",
    "\n",
    "Within the dataset , there are 506 rows, 14 attributes with the MEDV usually being the target attribute. The definitions of these attributes are outlined in the cells below. \n",
    "\n",
    "\n",
    "Next I will outline the project requirements:"
   ]
  },
  {
   "attachments": {},
   "cell_type": "markdown",
   "metadata": {},
   "source": [
    "![ProjectSpecs.png](https://raw.githubusercontent.com/donalcarr/Datasets/master/ProjectSpecs.png)\n"
   ]
  },
  {
   "cell_type": "markdown",
   "metadata": {},
   "source": [
    "As per the project specifications, this notebook will be split into three sections starting with **descriptive** statistics on the\n",
    "boston housing dataset.\n",
    "\n",
    "First I will import the libraries needed to carry out my analysis."
   ]
  },
  {
   "cell_type": "code",
   "execution_count": 1,
   "metadata": {},
   "outputs": [],
   "source": [
    "#import python libraries for code execution\n",
    "%matplotlib inline\n",
    "\n",
    "import numpy as np\n",
    "import matplotlib.pyplot as plt \n",
    "\n",
    "import pandas as pd  \n",
    "import seaborn as sns \n",
    "import scipy.stats as ss"
   ]
  },
  {
   "cell_type": "markdown",
   "metadata": {},
   "source": [
    "## ***Descriptive Statistics***"
   ]
  },
  {
   "cell_type": "markdown",
   "metadata": {},
   "source": [
    "Add Notes on what your doing"
   ]
  },
  {
   "cell_type": "code",
   "execution_count": 2,
   "metadata": {},
   "outputs": [],
   "source": [
    "#dataset is avaiable in the sklearn library so we import form there\n",
    "from sklearn.datasets import load_boston\n",
    "boston_dataset = load_boston()"
   ]
  },
  {
   "cell_type": "code",
   "execution_count": 3,
   "metadata": {},
   "outputs": [
    {
     "name": "stdout",
     "output_type": "stream",
     "text": [
      ".. _boston_dataset:\n",
      "\n",
      "Boston house prices dataset\n",
      "---------------------------\n",
      "\n",
      "**Data Set Characteristics:**  \n",
      "\n",
      "    :Number of Instances: 506 \n",
      "\n",
      "    :Number of Attributes: 13 numeric/categorical predictive. Median Value (attribute 14) is usually the target.\n",
      "\n",
      "    :Attribute Information (in order):\n",
      "        - CRIM     per capita crime rate by town\n",
      "        - ZN       proportion of residential land zoned for lots over 25,000 sq.ft.\n",
      "        - INDUS    proportion of non-retail business acres per town\n",
      "        - CHAS     Charles River dummy variable (= 1 if tract bounds river; 0 otherwise)\n",
      "        - NOX      nitric oxides concentration (parts per 10 million)\n",
      "        - RM       average number of rooms per dwelling\n",
      "        - AGE      proportion of owner-occupied units built prior to 1940\n",
      "        - DIS      weighted distances to five Boston employment centres\n",
      "        - RAD      index of accessibility to radial highways\n",
      "        - TAX      full-value property-tax rate per $10,000\n",
      "        - PTRATIO  pupil-teacher ratio by town\n",
      "        - B        1000(Bk - 0.63)^2 where Bk is the proportion of blacks by town\n",
      "        - LSTAT    % lower status of the population\n",
      "        - MEDV     Median value of owner-occupied homes in $1000's\n",
      "\n",
      "    :Missing Attribute Values: None\n",
      "\n",
      "    :Creator: Harrison, D. and Rubinfeld, D.L.\n",
      "\n",
      "This is a copy of UCI ML housing dataset.\n",
      "https://archive.ics.uci.edu/ml/machine-learning-databases/housing/\n",
      "\n",
      "\n",
      "This dataset was taken from the StatLib library which is maintained at Carnegie Mellon University.\n",
      "\n",
      "The Boston house-price data of Harrison, D. and Rubinfeld, D.L. 'Hedonic\n",
      "prices and the demand for clean air', J. Environ. Economics & Management,\n",
      "vol.5, 81-102, 1978.   Used in Belsley, Kuh & Welsch, 'Regression diagnostics\n",
      "...', Wiley, 1980.   N.B. Various transformations are used in the table on\n",
      "pages 244-261 of the latter.\n",
      "\n",
      "The Boston house-price data has been used in many machine learning papers that address regression\n",
      "problems.   \n",
      "     \n",
      ".. topic:: References\n",
      "\n",
      "   - Belsley, Kuh & Welsch, 'Regression diagnostics: Identifying Influential Data and Sources of Collinearity', Wiley, 1980. 244-261.\n",
      "   - Quinlan,R. (1993). Combining Instance-Based and Model-Based Learning. In Proceedings on the Tenth International Conference of Machine Learning, 236-243, University of Massachusetts, Amherst. Morgan Kaufmann.\n",
      "\n"
     ]
    }
   ],
   "source": [
    "#prints the variables and information about the dataset\n",
    "print(boston_dataset.DESCR)\n"
   ]
  },
  {
   "cell_type": "code",
   "execution_count": 4,
   "metadata": {},
   "outputs": [
    {
     "data": {
      "text/html": [
       "<div>\n",
       "<style scoped>\n",
       "    .dataframe tbody tr th:only-of-type {\n",
       "        vertical-align: middle;\n",
       "    }\n",
       "\n",
       "    .dataframe tbody tr th {\n",
       "        vertical-align: top;\n",
       "    }\n",
       "\n",
       "    .dataframe thead th {\n",
       "        text-align: right;\n",
       "    }\n",
       "</style>\n",
       "<table border=\"1\" class=\"dataframe\">\n",
       "  <thead>\n",
       "    <tr style=\"text-align: right;\">\n",
       "      <th></th>\n",
       "      <th>CRIM</th>\n",
       "      <th>ZN</th>\n",
       "      <th>INDUS</th>\n",
       "      <th>CHAS</th>\n",
       "      <th>NOX</th>\n",
       "      <th>RM</th>\n",
       "      <th>AGE</th>\n",
       "      <th>DIS</th>\n",
       "      <th>RAD</th>\n",
       "      <th>TAX</th>\n",
       "      <th>PTRATIO</th>\n",
       "      <th>B</th>\n",
       "      <th>LSTAT</th>\n",
       "    </tr>\n",
       "  </thead>\n",
       "  <tbody>\n",
       "    <tr>\n",
       "      <td>0</td>\n",
       "      <td>0.00632</td>\n",
       "      <td>18.0</td>\n",
       "      <td>2.31</td>\n",
       "      <td>0.0</td>\n",
       "      <td>0.538</td>\n",
       "      <td>6.575</td>\n",
       "      <td>65.2</td>\n",
       "      <td>4.0900</td>\n",
       "      <td>1.0</td>\n",
       "      <td>296.0</td>\n",
       "      <td>15.3</td>\n",
       "      <td>396.90</td>\n",
       "      <td>4.98</td>\n",
       "    </tr>\n",
       "    <tr>\n",
       "      <td>1</td>\n",
       "      <td>0.02731</td>\n",
       "      <td>0.0</td>\n",
       "      <td>7.07</td>\n",
       "      <td>0.0</td>\n",
       "      <td>0.469</td>\n",
       "      <td>6.421</td>\n",
       "      <td>78.9</td>\n",
       "      <td>4.9671</td>\n",
       "      <td>2.0</td>\n",
       "      <td>242.0</td>\n",
       "      <td>17.8</td>\n",
       "      <td>396.90</td>\n",
       "      <td>9.14</td>\n",
       "    </tr>\n",
       "    <tr>\n",
       "      <td>2</td>\n",
       "      <td>0.02729</td>\n",
       "      <td>0.0</td>\n",
       "      <td>7.07</td>\n",
       "      <td>0.0</td>\n",
       "      <td>0.469</td>\n",
       "      <td>7.185</td>\n",
       "      <td>61.1</td>\n",
       "      <td>4.9671</td>\n",
       "      <td>2.0</td>\n",
       "      <td>242.0</td>\n",
       "      <td>17.8</td>\n",
       "      <td>392.83</td>\n",
       "      <td>4.03</td>\n",
       "    </tr>\n",
       "    <tr>\n",
       "      <td>3</td>\n",
       "      <td>0.03237</td>\n",
       "      <td>0.0</td>\n",
       "      <td>2.18</td>\n",
       "      <td>0.0</td>\n",
       "      <td>0.458</td>\n",
       "      <td>6.998</td>\n",
       "      <td>45.8</td>\n",
       "      <td>6.0622</td>\n",
       "      <td>3.0</td>\n",
       "      <td>222.0</td>\n",
       "      <td>18.7</td>\n",
       "      <td>394.63</td>\n",
       "      <td>2.94</td>\n",
       "    </tr>\n",
       "    <tr>\n",
       "      <td>4</td>\n",
       "      <td>0.06905</td>\n",
       "      <td>0.0</td>\n",
       "      <td>2.18</td>\n",
       "      <td>0.0</td>\n",
       "      <td>0.458</td>\n",
       "      <td>7.147</td>\n",
       "      <td>54.2</td>\n",
       "      <td>6.0622</td>\n",
       "      <td>3.0</td>\n",
       "      <td>222.0</td>\n",
       "      <td>18.7</td>\n",
       "      <td>396.90</td>\n",
       "      <td>5.33</td>\n",
       "    </tr>\n",
       "  </tbody>\n",
       "</table>\n",
       "</div>"
      ],
      "text/plain": [
       "      CRIM    ZN  INDUS  CHAS    NOX     RM   AGE     DIS  RAD    TAX  \\\n",
       "0  0.00632  18.0   2.31   0.0  0.538  6.575  65.2  4.0900  1.0  296.0   \n",
       "1  0.02731   0.0   7.07   0.0  0.469  6.421  78.9  4.9671  2.0  242.0   \n",
       "2  0.02729   0.0   7.07   0.0  0.469  7.185  61.1  4.9671  2.0  242.0   \n",
       "3  0.03237   0.0   2.18   0.0  0.458  6.998  45.8  6.0622  3.0  222.0   \n",
       "4  0.06905   0.0   2.18   0.0  0.458  7.147  54.2  6.0622  3.0  222.0   \n",
       "\n",
       "   PTRATIO       B  LSTAT  \n",
       "0     15.3  396.90   4.98  \n",
       "1     17.8  396.90   9.14  \n",
       "2     17.8  392.83   4.03  \n",
       "3     18.7  394.63   2.94  \n",
       "4     18.7  396.90   5.33  "
      ]
     },
     "execution_count": 4,
     "metadata": {},
     "output_type": "execute_result"
    }
   ],
   "source": [
    "#creates a dataframe for analysing the dataset\n",
    "boston = pd.DataFrame(boston_dataset.data, columns=boston_dataset.feature_names)\n",
    "#.head gives me a view of the first 5 rows in the dataset\n",
    "boston.head()"
   ]
  },
  {
   "cell_type": "code",
   "execution_count": 5,
   "metadata": {},
   "outputs": [
    {
     "data": {
      "text/html": [
       "<div>\n",
       "<style scoped>\n",
       "    .dataframe tbody tr th:only-of-type {\n",
       "        vertical-align: middle;\n",
       "    }\n",
       "\n",
       "    .dataframe tbody tr th {\n",
       "        vertical-align: top;\n",
       "    }\n",
       "\n",
       "    .dataframe thead th {\n",
       "        text-align: right;\n",
       "    }\n",
       "</style>\n",
       "<table border=\"1\" class=\"dataframe\">\n",
       "  <thead>\n",
       "    <tr style=\"text-align: right;\">\n",
       "      <th></th>\n",
       "      <th>CRIM</th>\n",
       "      <th>ZN</th>\n",
       "      <th>INDUS</th>\n",
       "      <th>CHAS</th>\n",
       "      <th>NOX</th>\n",
       "      <th>RM</th>\n",
       "      <th>AGE</th>\n",
       "      <th>DIS</th>\n",
       "      <th>RAD</th>\n",
       "      <th>TAX</th>\n",
       "      <th>PTRATIO</th>\n",
       "      <th>B</th>\n",
       "      <th>LSTAT</th>\n",
       "    </tr>\n",
       "  </thead>\n",
       "  <tbody>\n",
       "    <tr>\n",
       "      <td>501</td>\n",
       "      <td>0.06263</td>\n",
       "      <td>0.0</td>\n",
       "      <td>11.93</td>\n",
       "      <td>0.0</td>\n",
       "      <td>0.573</td>\n",
       "      <td>6.593</td>\n",
       "      <td>69.1</td>\n",
       "      <td>2.4786</td>\n",
       "      <td>1.0</td>\n",
       "      <td>273.0</td>\n",
       "      <td>21.0</td>\n",
       "      <td>391.99</td>\n",
       "      <td>9.67</td>\n",
       "    </tr>\n",
       "    <tr>\n",
       "      <td>502</td>\n",
       "      <td>0.04527</td>\n",
       "      <td>0.0</td>\n",
       "      <td>11.93</td>\n",
       "      <td>0.0</td>\n",
       "      <td>0.573</td>\n",
       "      <td>6.120</td>\n",
       "      <td>76.7</td>\n",
       "      <td>2.2875</td>\n",
       "      <td>1.0</td>\n",
       "      <td>273.0</td>\n",
       "      <td>21.0</td>\n",
       "      <td>396.90</td>\n",
       "      <td>9.08</td>\n",
       "    </tr>\n",
       "    <tr>\n",
       "      <td>503</td>\n",
       "      <td>0.06076</td>\n",
       "      <td>0.0</td>\n",
       "      <td>11.93</td>\n",
       "      <td>0.0</td>\n",
       "      <td>0.573</td>\n",
       "      <td>6.976</td>\n",
       "      <td>91.0</td>\n",
       "      <td>2.1675</td>\n",
       "      <td>1.0</td>\n",
       "      <td>273.0</td>\n",
       "      <td>21.0</td>\n",
       "      <td>396.90</td>\n",
       "      <td>5.64</td>\n",
       "    </tr>\n",
       "    <tr>\n",
       "      <td>504</td>\n",
       "      <td>0.10959</td>\n",
       "      <td>0.0</td>\n",
       "      <td>11.93</td>\n",
       "      <td>0.0</td>\n",
       "      <td>0.573</td>\n",
       "      <td>6.794</td>\n",
       "      <td>89.3</td>\n",
       "      <td>2.3889</td>\n",
       "      <td>1.0</td>\n",
       "      <td>273.0</td>\n",
       "      <td>21.0</td>\n",
       "      <td>393.45</td>\n",
       "      <td>6.48</td>\n",
       "    </tr>\n",
       "    <tr>\n",
       "      <td>505</td>\n",
       "      <td>0.04741</td>\n",
       "      <td>0.0</td>\n",
       "      <td>11.93</td>\n",
       "      <td>0.0</td>\n",
       "      <td>0.573</td>\n",
       "      <td>6.030</td>\n",
       "      <td>80.8</td>\n",
       "      <td>2.5050</td>\n",
       "      <td>1.0</td>\n",
       "      <td>273.0</td>\n",
       "      <td>21.0</td>\n",
       "      <td>396.90</td>\n",
       "      <td>7.88</td>\n",
       "    </tr>\n",
       "  </tbody>\n",
       "</table>\n",
       "</div>"
      ],
      "text/plain": [
       "        CRIM   ZN  INDUS  CHAS    NOX     RM   AGE     DIS  RAD    TAX  \\\n",
       "501  0.06263  0.0  11.93   0.0  0.573  6.593  69.1  2.4786  1.0  273.0   \n",
       "502  0.04527  0.0  11.93   0.0  0.573  6.120  76.7  2.2875  1.0  273.0   \n",
       "503  0.06076  0.0  11.93   0.0  0.573  6.976  91.0  2.1675  1.0  273.0   \n",
       "504  0.10959  0.0  11.93   0.0  0.573  6.794  89.3  2.3889  1.0  273.0   \n",
       "505  0.04741  0.0  11.93   0.0  0.573  6.030  80.8  2.5050  1.0  273.0   \n",
       "\n",
       "     PTRATIO       B  LSTAT  \n",
       "501     21.0  391.99   9.67  \n",
       "502     21.0  396.90   9.08  \n",
       "503     21.0  396.90   5.64  \n",
       "504     21.0  393.45   6.48  \n",
       "505     21.0  396.90   7.88  "
      ]
     },
     "execution_count": 5,
     "metadata": {},
     "output_type": "execute_result"
    }
   ],
   "source": [
    "boston.tail()"
   ]
  },
  {
   "cell_type": "code",
   "execution_count": 6,
   "metadata": {},
   "outputs": [],
   "source": [
    "#add taget variable price to dataset\n",
    "boston[\"MEDV\"] = boston_dataset.target"
   ]
  },
  {
   "cell_type": "code",
   "execution_count": 7,
   "metadata": {},
   "outputs": [
    {
     "data": {
      "text/html": [
       "<div>\n",
       "<style scoped>\n",
       "    .dataframe tbody tr th:only-of-type {\n",
       "        vertical-align: middle;\n",
       "    }\n",
       "\n",
       "    .dataframe tbody tr th {\n",
       "        vertical-align: top;\n",
       "    }\n",
       "\n",
       "    .dataframe thead th {\n",
       "        text-align: right;\n",
       "    }\n",
       "</style>\n",
       "<table border=\"1\" class=\"dataframe\">\n",
       "  <thead>\n",
       "    <tr style=\"text-align: right;\">\n",
       "      <th></th>\n",
       "      <th>count</th>\n",
       "      <th>mean</th>\n",
       "      <th>std</th>\n",
       "      <th>min</th>\n",
       "      <th>25%</th>\n",
       "      <th>50%</th>\n",
       "      <th>75%</th>\n",
       "      <th>max</th>\n",
       "    </tr>\n",
       "  </thead>\n",
       "  <tbody>\n",
       "    <tr>\n",
       "      <td>CRIM</td>\n",
       "      <td>506.0</td>\n",
       "      <td>3.613524</td>\n",
       "      <td>8.601545</td>\n",
       "      <td>0.00632</td>\n",
       "      <td>0.082045</td>\n",
       "      <td>0.25651</td>\n",
       "      <td>3.677083</td>\n",
       "      <td>88.9762</td>\n",
       "    </tr>\n",
       "    <tr>\n",
       "      <td>ZN</td>\n",
       "      <td>506.0</td>\n",
       "      <td>11.363636</td>\n",
       "      <td>23.322453</td>\n",
       "      <td>0.00000</td>\n",
       "      <td>0.000000</td>\n",
       "      <td>0.00000</td>\n",
       "      <td>12.500000</td>\n",
       "      <td>100.0000</td>\n",
       "    </tr>\n",
       "    <tr>\n",
       "      <td>INDUS</td>\n",
       "      <td>506.0</td>\n",
       "      <td>11.136779</td>\n",
       "      <td>6.860353</td>\n",
       "      <td>0.46000</td>\n",
       "      <td>5.190000</td>\n",
       "      <td>9.69000</td>\n",
       "      <td>18.100000</td>\n",
       "      <td>27.7400</td>\n",
       "    </tr>\n",
       "    <tr>\n",
       "      <td>CHAS</td>\n",
       "      <td>506.0</td>\n",
       "      <td>0.069170</td>\n",
       "      <td>0.253994</td>\n",
       "      <td>0.00000</td>\n",
       "      <td>0.000000</td>\n",
       "      <td>0.00000</td>\n",
       "      <td>0.000000</td>\n",
       "      <td>1.0000</td>\n",
       "    </tr>\n",
       "    <tr>\n",
       "      <td>NOX</td>\n",
       "      <td>506.0</td>\n",
       "      <td>0.554695</td>\n",
       "      <td>0.115878</td>\n",
       "      <td>0.38500</td>\n",
       "      <td>0.449000</td>\n",
       "      <td>0.53800</td>\n",
       "      <td>0.624000</td>\n",
       "      <td>0.8710</td>\n",
       "    </tr>\n",
       "    <tr>\n",
       "      <td>RM</td>\n",
       "      <td>506.0</td>\n",
       "      <td>6.284634</td>\n",
       "      <td>0.702617</td>\n",
       "      <td>3.56100</td>\n",
       "      <td>5.885500</td>\n",
       "      <td>6.20850</td>\n",
       "      <td>6.623500</td>\n",
       "      <td>8.7800</td>\n",
       "    </tr>\n",
       "    <tr>\n",
       "      <td>AGE</td>\n",
       "      <td>506.0</td>\n",
       "      <td>68.574901</td>\n",
       "      <td>28.148861</td>\n",
       "      <td>2.90000</td>\n",
       "      <td>45.025000</td>\n",
       "      <td>77.50000</td>\n",
       "      <td>94.075000</td>\n",
       "      <td>100.0000</td>\n",
       "    </tr>\n",
       "    <tr>\n",
       "      <td>DIS</td>\n",
       "      <td>506.0</td>\n",
       "      <td>3.795043</td>\n",
       "      <td>2.105710</td>\n",
       "      <td>1.12960</td>\n",
       "      <td>2.100175</td>\n",
       "      <td>3.20745</td>\n",
       "      <td>5.188425</td>\n",
       "      <td>12.1265</td>\n",
       "    </tr>\n",
       "    <tr>\n",
       "      <td>RAD</td>\n",
       "      <td>506.0</td>\n",
       "      <td>9.549407</td>\n",
       "      <td>8.707259</td>\n",
       "      <td>1.00000</td>\n",
       "      <td>4.000000</td>\n",
       "      <td>5.00000</td>\n",
       "      <td>24.000000</td>\n",
       "      <td>24.0000</td>\n",
       "    </tr>\n",
       "    <tr>\n",
       "      <td>TAX</td>\n",
       "      <td>506.0</td>\n",
       "      <td>408.237154</td>\n",
       "      <td>168.537116</td>\n",
       "      <td>187.00000</td>\n",
       "      <td>279.000000</td>\n",
       "      <td>330.00000</td>\n",
       "      <td>666.000000</td>\n",
       "      <td>711.0000</td>\n",
       "    </tr>\n",
       "    <tr>\n",
       "      <td>PTRATIO</td>\n",
       "      <td>506.0</td>\n",
       "      <td>18.455534</td>\n",
       "      <td>2.164946</td>\n",
       "      <td>12.60000</td>\n",
       "      <td>17.400000</td>\n",
       "      <td>19.05000</td>\n",
       "      <td>20.200000</td>\n",
       "      <td>22.0000</td>\n",
       "    </tr>\n",
       "    <tr>\n",
       "      <td>B</td>\n",
       "      <td>506.0</td>\n",
       "      <td>356.674032</td>\n",
       "      <td>91.294864</td>\n",
       "      <td>0.32000</td>\n",
       "      <td>375.377500</td>\n",
       "      <td>391.44000</td>\n",
       "      <td>396.225000</td>\n",
       "      <td>396.9000</td>\n",
       "    </tr>\n",
       "    <tr>\n",
       "      <td>LSTAT</td>\n",
       "      <td>506.0</td>\n",
       "      <td>12.653063</td>\n",
       "      <td>7.141062</td>\n",
       "      <td>1.73000</td>\n",
       "      <td>6.950000</td>\n",
       "      <td>11.36000</td>\n",
       "      <td>16.955000</td>\n",
       "      <td>37.9700</td>\n",
       "    </tr>\n",
       "    <tr>\n",
       "      <td>MEDV</td>\n",
       "      <td>506.0</td>\n",
       "      <td>22.532806</td>\n",
       "      <td>9.197104</td>\n",
       "      <td>5.00000</td>\n",
       "      <td>17.025000</td>\n",
       "      <td>21.20000</td>\n",
       "      <td>25.000000</td>\n",
       "      <td>50.0000</td>\n",
       "    </tr>\n",
       "  </tbody>\n",
       "</table>\n",
       "</div>"
      ],
      "text/plain": [
       "         count        mean         std        min         25%        50%  \\\n",
       "CRIM     506.0    3.613524    8.601545    0.00632    0.082045    0.25651   \n",
       "ZN       506.0   11.363636   23.322453    0.00000    0.000000    0.00000   \n",
       "INDUS    506.0   11.136779    6.860353    0.46000    5.190000    9.69000   \n",
       "CHAS     506.0    0.069170    0.253994    0.00000    0.000000    0.00000   \n",
       "NOX      506.0    0.554695    0.115878    0.38500    0.449000    0.53800   \n",
       "RM       506.0    6.284634    0.702617    3.56100    5.885500    6.20850   \n",
       "AGE      506.0   68.574901   28.148861    2.90000   45.025000   77.50000   \n",
       "DIS      506.0    3.795043    2.105710    1.12960    2.100175    3.20745   \n",
       "RAD      506.0    9.549407    8.707259    1.00000    4.000000    5.00000   \n",
       "TAX      506.0  408.237154  168.537116  187.00000  279.000000  330.00000   \n",
       "PTRATIO  506.0   18.455534    2.164946   12.60000   17.400000   19.05000   \n",
       "B        506.0  356.674032   91.294864    0.32000  375.377500  391.44000   \n",
       "LSTAT    506.0   12.653063    7.141062    1.73000    6.950000   11.36000   \n",
       "MEDV     506.0   22.532806    9.197104    5.00000   17.025000   21.20000   \n",
       "\n",
       "                75%       max  \n",
       "CRIM       3.677083   88.9762  \n",
       "ZN        12.500000  100.0000  \n",
       "INDUS     18.100000   27.7400  \n",
       "CHAS       0.000000    1.0000  \n",
       "NOX        0.624000    0.8710  \n",
       "RM         6.623500    8.7800  \n",
       "AGE       94.075000  100.0000  \n",
       "DIS        5.188425   12.1265  \n",
       "RAD       24.000000   24.0000  \n",
       "TAX      666.000000  711.0000  \n",
       "PTRATIO   20.200000   22.0000  \n",
       "B        396.225000  396.9000  \n",
       "LSTAT     16.955000   37.9700  \n",
       "MEDV      25.000000   50.0000  "
      ]
     },
     "execution_count": 7,
     "metadata": {},
     "output_type": "execute_result"
    }
   ],
   "source": [
    "#TRANSFORM ROWS TO COLUMNS to get a view of the descriptive statistics for dataset\n",
    "\n",
    "boston.describe().T"
   ]
  },
  {
   "cell_type": "markdown",
   "metadata": {},
   "source": [
    "From the above summary statistics below is a description of the stats for the target variable MEDV. "
   ]
  },
  {
   "cell_type": "markdown",
   "metadata": {},
   "source": [
    "## MEDV - Median House Value"
   ]
  },
  {
   "cell_type": "code",
   "execution_count": 8,
   "metadata": {},
   "outputs": [],
   "source": [
    "min_price = boston.MEDV.min()\n",
    "max_price = boston.MEDV.max()\n",
    "mean_price = boston.MEDV.mean()\n",
    "median_price = boston.MEDV.median()\n",
    "std_dev_price = boston.MEDV.std()"
   ]
  },
  {
   "cell_type": "code",
   "execution_count": 9,
   "metadata": {},
   "outputs": [
    {
     "name": "stdout",
     "output_type": "stream",
     "text": [
      "Min price: $5.0\n",
      "Max price: $50.0\n",
      "Mean price: $22.532806324110698\n",
      "Median price $21.2\n",
      "Standard deviation of prices: $9.19710408737982\n"
     ]
    }
   ],
   "source": [
    "print(\"Min price: ${}\".format(min_price)) \n",
    "print(\"Max price: ${}\".format(max_price))\n",
    "print(\"Mean price: ${}\".format(mean_price)) # error with round function unsure why (TO BE FIXED)\n",
    "print(\"Median price ${}\".format(median_price))\n",
    "print(\"Standard deviation of prices: ${}\".format(std_dev_price))"
   ]
  },
  {
   "cell_type": "code",
   "execution_count": 10,
   "metadata": {},
   "outputs": [
    {
     "data": {
      "image/png": "[encoded data removed]",
      "text/plain": [
       "<Figure size 842.4x595.44 with 1 Axes>"
      ]
     },
     "metadata": {},
     "output_type": "display_data"
    }
   ],
   "source": [
    "## plot histogram of median house prices to understand the distribution of the data\n",
    "sns.set(rc={'figure.figsize':(11.7,8.27)})\n",
    "sns.distplot(boston['MEDV'], bins=30)\n",
    "plt.show()"
   ]
  },
  {
   "cell_type": "markdown",
   "metadata": {},
   "source": [
    "The distribution of the data is close to a normall distribution with some skewness to the right between the 40,000 to 50,000 price range.Most of the data points are between the 10,000 to 30,000 range as per the descriptive statistics above the chart.\n",
    "\n",
    "Next I will get a more specific view of the outliers using a boxplot chart."
   ]
  },
  {
   "cell_type": "code",
   "execution_count": 11,
   "metadata": {},
   "outputs": [
    {
     "data": {
      "text/plain": [
       "<matplotlib.axes._subplots.AxesSubplot at 0x25829e9f648>"
      ]
     },
     "execution_count": 11,
     "metadata": {},
     "output_type": "execute_result"
    },
    {
     "data": {
      "image/png": "[encoded data removed]",
      "text/plain": [
       "<Figure size 576x360 with 1 Axes>"
      ]
     },
     "metadata": {},
     "output_type": "display_data"
    }
   ],
   "source": [
    "# plot boxplot to understand outliers\n",
    "fig = plt.gcf()\n",
    "fig.set_size_inches( 8, 5)\n",
    "sns.set(style=\"whitegrid\")\n",
    "sns.boxplot(y=\"MEDV\",data=boston,color=\"red\")"
   ]
  },
  {
   "cell_type": "markdown",
   "metadata": {},
   "source": [
    "As per the histogram, I can see that the outliers are mostly in the range between 40 to 50 thousand. Interestingly,\n",
    "one outlier is priced at 5 housand which seems live a very low price for a home.\n",
    "\n",
    "As previous research into the data suggests that there is a correlation between RM, LSTAT and MEDV I will look at the plots for both of these independent variables."
   ]
  },
  {
   "cell_type": "markdown",
   "metadata": {},
   "source": [
    "## LSTAT - Lower status of the population"
   ]
  },
  {
   "cell_type": "code",
   "execution_count": 12,
   "metadata": {},
   "outputs": [],
   "source": [
    "min_priceLSTAT = boston.LSTAT.min()\n",
    "max_priceLSTAT = boston.LSTAT.max()\n",
    "mean_priceLSTAT = boston.LSTAT.mean()\n",
    "median_priceLSTAT = boston.LSTAT.median()\n",
    "std_dev_priceLSTAT = boston.LSTAT.std()"
   ]
  },
  {
   "cell_type": "code",
   "execution_count": 13,
   "metadata": {},
   "outputs": [
    {
     "name": "stdout",
     "output_type": "stream",
     "text": [
      "Min: 1.73%\n",
      "Max: 37.97%\n",
      "Mean: 12.653063241106723%\n",
      "Median 11.36%\n",
      "Standard deviation: 7.141061511348571%\n"
     ]
    }
   ],
   "source": [
    "print(\"Min: {}%\".format(min_priceLSTAT)) \n",
    "print(\"Max: {}%\".format(max_priceLSTAT))\n",
    "print(\"Mean: {}%\".format(mean_priceLSTAT)) # error with round function unsure why (TO BE FIXED)\n",
    "print(\"Median {}%\".format(median_priceLSTAT))\n",
    "print(\"Standard deviation: {}%\".format(std_dev_priceLSTAT))"
   ]
  },
  {
   "cell_type": "code",
   "execution_count": 14,
   "metadata": {
    "scrolled": true
   },
   "outputs": [
    {
     "data": {
      "image/png": "[encoded data removed]",
      "text/plain": [
       "<Figure size 842.4x595.44 with 1 Axes>"
      ]
     },
     "metadata": {},
     "output_type": "display_data"
    }
   ],
   "source": [
    "sns.set(rc={'figure.figsize':(11.7,8.27)})\n",
    "sns.distplot(boston['LSTAT'], bins=50)\n",
    "plt.show()"
   ]
  },
  {
   "cell_type": "markdown",
   "metadata": {},
   "source": [
    "The distribution of the LSTAT is right skewed and this can be seen visually through the longer tail to the right \n",
    "and typicaaly the mean is greater than the median in right skewed distributions and this is the case here.\n",
    "\n",
    "Mean 12.65% > Median 11.36%\n",
    "\n",
    "LSTAT indicates the proportion of the population in that neigbourhood that are deemed to be of lower status. We can see that \n",
    "on average 11% of the population in these neighborhoods are deemed to be of lower status with some outliers in the 30 to 40% range[6]\n",
    "\n",
    "Next I will get a more specific view of the outliers using a boxplot chart."
   ]
  },
  {
   "cell_type": "code",
   "execution_count": 15,
   "metadata": {},
   "outputs": [
    {
     "data": {
      "text/plain": [
       "<matplotlib.axes._subplots.AxesSubplot at 0x2582a294ec8>"
      ]
     },
     "execution_count": 15,
     "metadata": {},
     "output_type": "execute_result"
    },
    {
     "data": {
      "image/png": "[encoded data removed]",
      "text/plain": [
       "<Figure size 576x360 with 1 Axes>"
      ]
     },
     "metadata": {},
     "output_type": "display_data"
    }
   ],
   "source": [
    "# plot boxplot to understand outliers\n",
    "fig = plt.gcf()\n",
    "fig.set_size_inches( 8, 5)\n",
    "sns.set(style=\"whitegrid\")\n",
    "sns.boxplot(y=\"LSTAT\",data=boston,color=\"orange\")"
   ]
  },
  {
   "cell_type": "markdown",
   "metadata": {},
   "source": [
    "We can see that the outliers exist in the 30 to 35% range and most of the neighbourhoods have an LSTAT between 7 and 17%.\n",
    "\n",
    "The final variable I will investigate is RM average number of rooms per dwellling as this variable also had a strong correlation with MEDV according to previous articles."
   ]
  },
  {
   "cell_type": "markdown",
   "metadata": {},
   "source": [
    "## RM - Average number of rooms per dwelling"
   ]
  },
  {
   "cell_type": "code",
   "execution_count": 16,
   "metadata": {},
   "outputs": [],
   "source": [
    "min_priceRM = boston.RM.min()\n",
    "max_priceRM = boston.RM.max()\n",
    "mean_priceRM = boston.RM.mean()\n",
    "median_priceRM = boston.RM.median()\n",
    "std_dev_priceRM = boston.RM.std()"
   ]
  },
  {
   "cell_type": "code",
   "execution_count": 17,
   "metadata": {},
   "outputs": [
    {
     "name": "stdout",
     "output_type": "stream",
     "text": [
      "Min: 3.561\n",
      "Max: 8.78\n",
      "Mean: 6.284634387351787\n",
      "Median 6.2085\n",
      "Standard deviation: 0.7026171434153237\n"
     ]
    }
   ],
   "source": [
    "print(\"Min: {}\".format(min_priceRM)) \n",
    "print(\"Max: {}\".format(max_priceRM))\n",
    "print(\"Mean: {}\".format(mean_priceRM)) # error with round function unsure why (TO BE FIXED)\n",
    "print(\"Median {}\".format(median_priceRM))\n",
    "print(\"Standard deviation: {}\".format(std_dev_priceRM))"
   ]
  },
  {
   "cell_type": "code",
   "execution_count": 18,
   "metadata": {},
   "outputs": [
    {
     "data": {
      "image/png": "[encoded data removed]",
      "text/plain": [
       "<Figure size 842.4x595.44 with 1 Axes>"
      ]
     },
     "metadata": {},
     "output_type": "display_data"
    }
   ],
   "source": [
    "sns.set(rc={'figure.figsize':(11.7,8.27)})\n",
    "sns.distplot(boston['RM'], bins=30)\n",
    "plt.show()"
   ]
  },
  {
   "cell_type": "markdown",
   "metadata": {},
   "source": [
    "We can see from the above histogram that population is normally distributed and very little skewness. A typical normally distribution\n",
    "would have an equal median and mean and this case both mean and median are at 6.2 rooms per dwelling. \n",
    "\n",
    "Next I will get a more specific view of the outliers using a boxplot chart."
   ]
  },
  {
   "cell_type": "code",
   "execution_count": 19,
   "metadata": {},
   "outputs": [
    {
     "data": {
      "text/plain": [
       "<matplotlib.axes._subplots.AxesSubplot at 0x25829ebe4c8>"
      ]
     },
     "execution_count": 19,
     "metadata": {},
     "output_type": "execute_result"
    },
    {
     "data": {
      "image/png": "[encoded data removed]",
      "text/plain": [
       "<Figure size 576x360 with 1 Axes>"
      ]
     },
     "metadata": {},
     "output_type": "display_data"
    }
   ],
   "source": [
    "# plot boxplot to understand outliers\n",
    "fig = plt.gcf()\n",
    "fig.set_size_inches( 8, 5)\n",
    "sns.set(style=\"whitegrid\")\n",
    "sns.boxplot(y=\"RM\",data=boston,color=\"purple\")"
   ]
  },
  {
   "cell_type": "markdown",
   "metadata": {},
   "source": [
    "Boxplot indicates that the population centres around 6.2 rooms with outliers at over 8 rooms and less than 5. "
   ]
  },
  {
   "cell_type": "markdown",
   "metadata": {},
   "source": [
    "Next I will briefly look at the relationships btween the variables and then focus on the category variable CHAS Charles River dummy variable (= 1 if tract bounds river; 0 otherwise) and\n",
    "its relationship to MEDV."
   ]
  },
  {
   "cell_type": "markdown",
   "metadata": {},
   "source": [
    "# Inferential Statistics"
   ]
  },
  {
   "cell_type": "markdown",
   "metadata": {},
   "source": [
    "Intuitively, one would expect the following relationships between LSTAT, RM, CHAS and MEDV:\n",
    "\n",
    "- linear relationship as more rooms equals more space, hence a higher MEDV\n",
    "\n",
    "- Where the LSTAT is lower one would expect the MEDV to be lowere as the neighborhhod may have issue with crime etc.\n",
    "\n",
    "- Houses in neighbourhoods that tracts the river would have higher values due to views of the river and poosibly less \n",
    "  congestion\n",
    "  \n",
    "Following on from those intuitions I will model the relationships bwtween the variables focusing on CHAS and MEDV relationship."
   ]
  },
  {
   "cell_type": "markdown",
   "metadata": {},
   "source": [
    "## Correlation"
   ]
  },
  {
   "cell_type": "markdown",
   "metadata": {},
   "source": [
    "As already mentioned, previous research has indicated a strong relationship between LSTAT, RM and MEDV and the following\n",
    "heatmap replicates that view. "
   ]
  },
  {
   "cell_type": "code",
   "execution_count": 20,
   "metadata": {},
   "outputs": [
    {
     "data": {
      "text/plain": [
       "<matplotlib.axes._subplots.AxesSubplot at 0x2582a1d4a48>"
      ]
     },
     "execution_count": 20,
     "metadata": {},
     "output_type": "execute_result"
    },
    {
     "data": {
      "image/png": "[encoded data removed]",
      "text/plain": [
       "<Figure size 842.4x595.44 with 2 Axes>"
      ]
     },
     "metadata": {},
     "output_type": "display_data"
    }
   ],
   "source": [
    "#set plot size\n",
    "sns.set(rc={'figure.figsize':(11.7,8.27)})\n",
    "# heatmap for correlation analysis\n",
    "sns.heatmap(boston.corr().round(2), square=True, annot=True,cmap ='coolwarm')\n"
   ]
  },
  {
   "cell_type": "markdown",
   "metadata": {},
   "source": [
    "The strongest positive correlations are displayed in dark green and the strongest negative correlations are displayed\n",
    "in red - between 1 and minus 1\n",
    "\n",
    "The dependent variable (target variable) is MEDV (median house value) and the strongest correlation is with\n",
    "LSTAT (lowest status of the poulation) -0.74 and RM 0.7. A correlation can also be seen between MEDV and RM (0.7) RM and LSTAT (-0.61), but there is no correlation between MEDV and CHAS. \n",
    "\n"
   ]
  },
  {
   "cell_type": "markdown",
   "metadata": {},
   "source": [
    " Following on from the correlation matrix we can look at a pairplot chart that models the linear relationship between \n",
    " MEDV, LSTAT and RM."
   ]
  },
  {
   "cell_type": "code",
   "execution_count": 21,
   "metadata": {},
   "outputs": [
    {
     "data": {
      "image/png": "[encoded data removed]",
      "text/plain": [
       "<Figure size 576x360 with 2 Axes>"
      ]
     },
     "metadata": {},
     "output_type": "display_data"
    }
   ],
   "source": [
    "# regression plots\n",
    "sns.pairplot(boston, x_vars=[\"LSTAT\", \"RM\"], y_vars=[\"MEDV\"],\n",
    "            height=5, aspect=.8, kind=\"reg\",palette=\"husl\");\n"
   ]
  },
  {
   "cell_type": "code",
   "execution_count": 143,
   "metadata": {},
   "outputs": [
    {
     "data": {
      "text/plain": [
       "[<matplotlib.lines.Line2D at 0x2583d0f3808>]"
      ]
     },
     "execution_count": 143,
     "metadata": {},
     "output_type": "execute_result"
    },
    {
     "data": {
      "image/png": "[encoded data removed]",
      "text/plain": [
       "<Figure size 576x360 with 1 Axes>"
      ]
     },
     "metadata": {},
     "output_type": "display_data"
    }
   ],
   "source": [
    "fig = plt.gcf()\n",
    "fig.set_size_inches( 8, 5)\n",
    "trend = np.polyfit(boston['RM'],boston['MEDV'],2)\n",
    "plt.plot(boston['RM'],boston['MEDV'],'.')\n",
    "trendpoly = np.poly1d(trend) \n",
    "plt.plot(boston['RM'],trendpoly(boston['RM']))\n"
   ]
  },
  {
   "cell_type": "code",
   "execution_count": 145,
   "metadata": {},
   "outputs": [
    {
     "data": {
      "text/plain": [
       "[<matplotlib.lines.Line2D at 0x2583d16f308>]"
      ]
     },
     "execution_count": 145,
     "metadata": {},
     "output_type": "execute_result"
    },
    {
     "data": {
      "image/png": "[encoded data removed]",
      "text/plain": [
       "<Figure size 576x360 with 1 Axes>"
      ]
     },
     "metadata": {},
     "output_type": "display_data"
    }
   ],
   "source": [
    "fig = plt.gcf()\n",
    "fig.set_size_inches( 8, 5)\n",
    "trend2 = np.polyfit(boston['LSTAT'],boston['MEDV'],2)\n",
    "plt.plot(boston['LSTAT'],boston['MEDV'],'.')\n",
    "trendpoly2 = np.poly1d(trend2) \n",
    "plt.plot(boston['LSTAT'],trendpoly2(boston['LSTAT']))"
   ]
  },
  {
   "cell_type": "markdown",
   "metadata": {},
   "source": [
    "We can see that there is a linear relationship between both variables and MEDV, although the population does not completely\n",
    "follow linearly with some outliers. A negative linear relationship exists between LSTAT and MEDV indicating that house prices\n",
    "are higher where the LSTAT is lower. \n",
    "A positive linear relationship exists between RM and MEDV indicating that house prices are higher for homes with more rooms. \n",
    "We can see see outlier in both charts e.g. houses with between 5 and 9 rooms commanding the max MEDV and this could be associated \n",
    "with location and build of the house."
   ]
  },
  {
   "cell_type": "markdown",
   "metadata": {},
   "source": [
    "## CHAS - Charles River dummy variable (= 1 if tract bounds river; 0 otherwise)"
   ]
  },
  {
   "cell_type": "markdown",
   "metadata": {},
   "source": [
    "To start analysing the CHAS variable and its association with MEDV I need to first create a new category variable called CHAScat"
   ]
  },
  {
   "cell_type": "code",
   "execution_count": 22,
   "metadata": {},
   "outputs": [],
   "source": [
    "## create a new category variable to analyse CHAS\n",
    "boston[\"CHAScat\"] = boston[\"CHAS\"].astype('category')\n"
   ]
  },
  {
   "cell_type": "markdown",
   "metadata": {},
   "source": [
    "Next I want to know how many neighbourhoods bound the river"
   ]
  },
  {
   "cell_type": "code",
   "execution_count": 23,
   "metadata": {
    "scrolled": true
   },
   "outputs": [
    {
     "data": {
      "text/plain": [
       "CHAScat\n",
       "0.0    471\n",
       "1.0     35\n",
       "Name: MEDV, dtype: int64"
      ]
     },
     "execution_count": 23,
     "metadata": {},
     "output_type": "execute_result"
    }
   ],
   "source": [
    "## get count of neighbourhoods with houses that bounds or does not bound the river\n",
    "boston.groupby('CHAScat')['MEDV'].count()"
   ]
  },
  {
   "cell_type": "markdown",
   "metadata": {},
   "source": [
    "I can see that 35 neighbourhoods bound the river while 471 do not. Next I will mean and median to compare house prices and use boxplots to compare the \n",
    "median price of houses against the CHAScat variable to see if there is a difference in price. It will also give me a \n",
    "a view of the maximum and minimum values of both. \n"
   ]
  },
  {
   "cell_type": "code",
   "execution_count": 24,
   "metadata": {},
   "outputs": [
    {
     "name": "stdout",
     "output_type": "stream",
     "text": [
      "The median house price is: CHAScat\n",
      "0.0    20.9\n",
      "1.0    23.3\n",
      "Name: MEDV, dtype: float64\n",
      "The average house price is: CHAS\n",
      "0.0    22.093843\n",
      "1.0    28.440000\n",
      "Name: MEDV, dtype: float64\n"
     ]
    }
   ],
   "source": [
    "print(\"The median house price is:\",boston.groupby('CHAScat')['MEDV'].median())\n",
    "print(\"The average house price is:\",boston.groupby('CHAS')['MEDV'].mean())"
   ]
  },
  {
   "cell_type": "code",
   "execution_count": 25,
   "metadata": {
    "scrolled": true
   },
   "outputs": [
    {
     "data": {
      "text/plain": [
       "<matplotlib.axes._subplots.AxesSubplot at 0x25829e3a908>"
      ]
     },
     "execution_count": 25,
     "metadata": {},
     "output_type": "execute_result"
    },
    {
     "data": {
      "image/png": "[encoded data removed]",
      "text/plain": [
       "<Figure size 432x288 with 1 Axes>"
      ]
     },
     "metadata": {
      "needs_background": "light"
     },
     "output_type": "display_data"
    }
   ],
   "source": [
    "%matplotlib inline\n",
    "sns.boxplot(x='CHAScat', y='MEDV', data=boston)"
   ]
  },
  {
   "cell_type": "markdown",
   "metadata": {},
   "source": [
    "The category labels X are defined as follows:\n",
    "- 1 represents neighbourhoods with land that bounds the river while;\n",
    "- 0 represents neighbourhoods that don't bound the river.\n",
    "\n",
    "One would expect that houses closer to the river would have higher median prices and we can see that the median house price is higher for 1 i.e. box plot on the right, although not significantly. \n",
    "\n",
    "The interquartile range (25 - 75% percentile) illustrated by the rectangle for category 1 starts and ends much higher, at over 200,000 up to over 300,000 for houses that tract the land. This indicates that land that tracts the river have higher median house values. "
   ]
  },
  {
   "cell_type": "markdown",
   "metadata": {},
   "source": [
    "Add commentary on distpolts - kutosis value and so on"
   ]
  },
  {
   "cell_type": "code",
   "execution_count": 26,
   "metadata": {},
   "outputs": [],
   "source": [
    "tract0 = boston['MEDV'][boston['CHAScat'] == 0]"
   ]
  },
  {
   "cell_type": "code",
   "execution_count": 27,
   "metadata": {},
   "outputs": [],
   "source": [
    "tract1 = boston['MEDV'][boston['CHAScat'] == 1]"
   ]
  },
  {
   "cell_type": "code",
   "execution_count": 28,
   "metadata": {},
   "outputs": [
    {
     "data": {
      "image/png": "[encoded data removed]",
      "text/plain": [
       "<Figure size 1080x576 with 1 Axes>"
      ]
     },
     "metadata": {},
     "output_type": "display_data"
    }
   ],
   "source": [
    "sns.set(rc={'figure.figsize':(15,8)})\n",
    "sns.distplot(tract0, bins=50, label='Bounds river')\n",
    "sns.distplot(tract1, bins=50, label='Otherwise')\n",
    "plt.legend()\n",
    "plt.show()"
   ]
  },
  {
   "cell_type": "markdown",
   "metadata": {},
   "source": [
    "## T-Test"
   ]
  },
  {
   "cell_type": "markdown",
   "metadata": {},
   "source": [
    "The following code cells give us an understanding of both populations i.e. mean, standard deviation of the distribution and\n",
    "how skewness of the distribution. When conducting a Ttest it is importand understand these basic statistics to choose the\n",
    "correct TTest. \n",
    "\n",
    "I decided to use a welch's Ttest to perform my analysis as the sample sizes will be different, will be unpaired and the  \n",
    "variance is also different. See cells below for sample sizes, standard devaiation and skewness\n",
    "\n",
    "The null hypoteseis for this Ttest is that the populations being tested tract 0 (houses not on the river tract) and tract1 (houses on river tract) are not statisticallly significantly different. \n",
    "\n",
    "If the P Value is less than 0.5 then we reject the null hypotesis and have more than 95% confidence that the conclusion of the test will be valid and not just down to random chance."
   ]
  },
  {
   "cell_type": "code",
   "execution_count": 29,
   "metadata": {},
   "outputs": [
    {
     "data": {
      "text/plain": [
       "CHAScat\n",
       "0.0     8.831362\n",
       "1.0    11.816643\n",
       "Name: MEDV, dtype: float64"
      ]
     },
     "execution_count": 29,
     "metadata": {},
     "output_type": "execute_result"
    }
   ],
   "source": [
    "##check for similar standard deviations \n",
    "boston.groupby('CHAScat')['MEDV'].std()"
   ]
  },
  {
   "cell_type": "code",
   "execution_count": 30,
   "metadata": {},
   "outputs": [
    {
     "data": {
      "text/plain": [
       "CHAScat\n",
       "0.0    22.093843\n",
       "1.0    28.440000\n",
       "Name: MEDV, dtype: float64"
      ]
     },
     "execution_count": 30,
     "metadata": {},
     "output_type": "execute_result"
    }
   ],
   "source": [
    "##check for similar means\n",
    "boston.groupby('CHAScat')['MEDV'].mean()"
   ]
  },
  {
   "cell_type": "code",
   "execution_count": 31,
   "metadata": {},
   "outputs": [
    {
     "data": {
      "text/plain": [
       "CHAScat\n",
       "0.0    471\n",
       "1.0     35\n",
       "Name: MEDV, dtype: int64"
      ]
     },
     "execution_count": 31,
     "metadata": {},
     "output_type": "execute_result"
    }
   ],
   "source": [
    "##check population sizes\n",
    "boston.groupby('CHAScat')['MEDV'].count()"
   ]
  },
  {
   "cell_type": "code",
   "execution_count": 32,
   "metadata": {},
   "outputs": [
    {
     "data": {
      "text/plain": [
       "CHAScat\n",
       "0.0    1.056908\n",
       "1.0    0.943012\n",
       "Name: MEDV, dtype: float64"
      ]
     },
     "execution_count": 32,
     "metadata": {},
     "output_type": "execute_result"
    }
   ],
   "source": [
    "##check for similar variances in population\n",
    "boston.groupby('CHAScat')['MEDV'].skew()"
   ]
  },
  {
   "cell_type": "code",
   "execution_count": 33,
   "metadata": {},
   "outputs": [],
   "source": [
    "import matplotlib.patches as mpatches"
   ]
  },
  {
   "cell_type": "code",
   "execution_count": 34,
   "metadata": {},
   "outputs": [
    {
     "data": {
      "text/plain": [
       "<matplotlib.legend.Legend at 0x2582a44d048>"
      ]
     },
     "execution_count": 34,
     "metadata": {},
     "output_type": "execute_result"
    },
    {
     "data": {
      "image/png": "[encoded data removed]",
      "text/plain": [
       "<Figure size 1080x576 with 1 Axes>"
      ]
     },
     "metadata": {},
     "output_type": "display_data"
    }
   ],
   "source": [
    "green_patch = mpatches.Patch(color='g', label='Not on River tract')\n",
    "blue_patch = mpatches.Patch(color='b', label='On River tract')\n",
    "\n",
    "plt.hist(tract0, density=True, color='g', alpha=0.25)\n",
    "plt.hist(tract1, density=True, color='b', alpha=0.25)\n",
    "\n",
    "plt.legend(handles=[green_patch,blue_patch])"
   ]
  },
  {
   "cell_type": "code",
   "execution_count": 35,
   "metadata": {},
   "outputs": [
    {
     "data": {
      "text/plain": [
       "Ttest_indResult(statistic=-3.113291312794837, pvalue=0.003567170098137517)"
      ]
     },
     "execution_count": 35,
     "metadata": {},
     "output_type": "execute_result"
    }
   ],
   "source": [
    "#implement independent ttest\n",
    "ss.ttest_ind(tract0,tract1,equal_var = False)"
   ]
  },
  {
   "cell_type": "markdown",
   "metadata": {},
   "source": [
    "We can see that the pvalue is less than 0.5 and the null hypotesis can be rejected. Although both distributions\n",
    "over the median house values in both populations is statistically siginificantly different. "
   ]
  },
  {
   "cell_type": "markdown",
   "metadata": {},
   "source": [
    "## Predict using Keras Neural Networks"
   ]
  },
  {
   "cell_type": "markdown",
   "metadata": {},
   "source": [
    "![Neuron](https://s3.amazonaws.com/assets.datacamp.com/blog_assets/Keras+Python+Tutorial/content_content_neuron.png)"
   ]
  },
  {
   "cell_type": "markdown",
   "metadata": {},
   "source": [
    "#### What is a Neural Network? "
   ]
  },
  {
   "cell_type": "markdown",
   "metadata": {},
   "source": [
    "\"Neural networks are a set of *algorithms*, modeled loosely after the human brain, that are designed to *recognize patterns*. \n",
    "They interpret sensory data through a kind of machine perception, labeling or clustering raw input. \n",
    "The patterns they recognize are *numerical*, contained in *vectors*, into which all real-world data, be it images, sound, text or \n",
    "time series, must be translated.\" [9]\n",
    "\n",
    "Neural networks were first proposed in 1944 by Warren McCullough and Walter Pitts, two University of Chicago researchers who moved to MIT in 1952 as founding members of what’s sometimes called the first cognitive science department. [10] \n",
    "\n",
    "Although neural networks have been around for 70 years their application has been bolstored by the increasing processing power of computer chips."
   ]
  },
  {
   "cell_type": "markdown",
   "metadata": {},
   "source": [
    "#### How does a Neural Network work?"
   ]
  },
  {
   "cell_type": "markdown",
   "metadata": {},
   "source": [
    "Modeled loosely on the human brain, a neural net consists of thousands or even millions of simple processing **nodes** that are densely interconnected. Most of today’s neural nets are organized into **layers of nodes**, \n",
    "and they’re **feed-forward,** meaning that data moves through them in only one direction. \n",
    "An individual node might be **connected to several nodes** in the layer beneath it, from which it receives data, and several nodes in the layer above it, to which it sends data.\n",
    "\n",
    "\n"
   ]
  },
  {
   "cell_type": "markdown",
   "metadata": {},
   "source": [
    "To each of its incoming connections, a node will assign a number known as a **weight**. \n",
    "When the network is active, the node receives a different data item — a different number — over each of its connections and multiplies it by the associated weight. \n",
    "\n",
    "It then adds the resulting products together, yielding a single number. \n",
    "\n",
    "If that number is below a threshold value, the node passes no data to the next layer. \n",
    "\n",
    "If the number exceeds the threshold value,the node **fires** which in today’s neural nets generally means\n",
    "sending the number — the **sum of the weighted inputs** — along all its outgoing connections.[10]"
   ]
  },
  {
   "cell_type": "markdown",
   "metadata": {},
   "source": [
    "It is important to explain two functions that can radically change the output from your nodes and they are called the:\n",
    "\n",
    "     -  activation function and;\n",
    "     -  optimisation function\n",
    "    \n"
   ]
  },
  {
   "cell_type": "markdown",
   "metadata": {},
   "source": [
    "#### Activation function"
   ]
  },
  {
   "cell_type": "markdown",
   "metadata": {},
   "source": [
    "It is important to apply an activation function to introduce **non-linear** processing between the nodes otherwise\n",
    "nodes would do their processing linearly paasing output to to the next node and you would end up with a linear model i.e. \n",
    "linear regression. If the relationships between the variables are non-linear ther model will not train correctly as it will bypass datapoints not following a linear pattern resultung in **underfitting** which I will discuss shortly. Some commonly used activation functions are:\n",
    "    - CUBE\n",
    "    - RELU\n",
    "    - SIGMOID\n",
    "    - SOFTMAX\n",
    "    - TANH\n",
    "    \n",
    "Further on I will explain more about these functions as I will be using **RELU** as the activation function for my neural\n",
    "."
   ]
  },
  {
   "cell_type": "markdown",
   "metadata": {},
   "source": [
    "#### Optimisation function"
   ]
  },
  {
   "cell_type": "markdown",
   "metadata": {},
   "source": [
    "Optimisation functions play an important role in **minimising the loss** in the neural networks training process by for example \n",
    "rebalancing the weights according to the error produced from the output in each node. [11] Some commonly used functions are:\n",
    "\n",
    "    - ADADELTA\n",
    "    - ADAGRAD\n",
    "    - ADAM\n",
    "    - SGD\n",
    "    - LINE GRADIENT DESCENT\n",
    "       \n",
    "Further on I will explain more about these functions as I will be using **Adam** as the optimisation function for my neural\n",
    "network"
   ]
  },
  {
   "cell_type": "markdown",
   "metadata": {},
   "source": [
    "#### Loss , Epochs and Batch size"
   ]
  },
  {
   "cell_type": "markdown",
   "metadata": {},
   "source": [
    "**Loss:** It is a method to evaluate how well an algorithm models the data passed into the neural network.\n",
    "      Loss is usually classifed into two categories: **Classification** and **regression**; and depending on the relationships\n",
    "      between the variables you will choose an appropriate loss function, although not an exact science, yet! \n",
    "      Loss functions go hand in hand with optimisation function and ideally they should **learn to reduce error in predictions**\n",
    "      as neural network goes through various iterations of learning. [13] I will be using **Mean Absolute error** as the loss function for my model with an explanation of the function further on.\n",
    "\n",
    "**Epochs:** Epochs is the number of times the the learning algorithm will work through the entire dataset. For each epoch the learning algorithm's internal paramaters will ideally be fine tuned resulting in an improved loss on each iteration. \n",
    "\n",
    "**Batch:** The batch size determines how many samples the learning algorithm should pass over before the model is updated. Learning algorithm passes through each batch updating model parameters before moving onto the next epoch. As with epochs you need to adjust the batch sizes to see if the loss improves. [14]"
   ]
  },
  {
   "cell_type": "markdown",
   "metadata": {},
   "source": [
    "#### Underfitting and Overfitting models"
   ]
  },
  {
   "cell_type": "markdown",
   "metadata": {},
   "source": [
    "In lahmens terms a model is underfitted when it **fails to learn the relationships** between the data i.e. \n",
    "we get a linear relationship rather than a more curve linear relationship.\n",
    "\n",
    "A model is overfitted when there is **too much reliance** on the training data i.e. is too rigid and is of no use when random data\n",
    "is passed into the model. \n",
    "\n",
    "Therea are techniques to evaluate the performance of the model including holding back a **vaildation set** and a method called **cross-validation.** A validation set can be referred to as a pre-test where our training model is tested before being released on\n",
    "the test data. This gives the model a chance to improve its learning by validating the data on each iteration through the data. Using cross validation we split the training data into different subsets, or we can use multiple validation sets if we have lots of data.[15]"
   ]
  },
  {
   "cell_type": "markdown",
   "metadata": {},
   "source": [
    "#### Neural Networks and their application in real life"
   ]
  },
  {
   "cell_type": "markdown",
   "metadata": {},
   "source": [
    "**Classification**\n",
    "\n",
    "They typically use cross sectional data. Solving these problems entails ‘learning’ patterns in a data set and constructing a model that can recognize these patterns. Commercial artificial neural network applications of this nature include:\n",
    "\n",
    "    - Credit card fraud detection reportedly being used by Eurocard Nederland, Mellon Bank, First USA Bank\n",
    "    - Petroleum exploration being used by Texaco and Arco to determine locations of underground oil and gas deposits\n",
    "    \n",
    "**Time Series**\n",
    "\n",
    "Typically used build a forecasting model from the historical data set to predict future data points. Applications include:\n",
    "\n",
    "    - Foreign exchange trading systems: Citibank London\n",
    "    - Forecasting weather patterns\n",
    "    \n",
    "**Optimisation**\n",
    "\n",
    "Used for finding solutions for a set of very difficult problems known as Non-Polynomial (NP) complete problems. These problem require unsupervised learning approaches i.e. the model does not have outputs to train itself. Examples as follows:\n",
    "\n",
    "    - job-scheduling in manufacturing and; \n",
    "    - efficient routing problems involving vehicles or telecommunication [12]\n",
    "\n"
   ]
  },
  {
   "cell_type": "markdown",
   "metadata": {},
   "source": [
    "## Neural Network  - Median House Values"
   ]
  },
  {
   "cell_type": "markdown",
   "metadata": {},
   "source": [
    "In this section I will attempt to train and predict Median House Values using a neural network model. As LSTAT and RM have the strongest correlation with MEDV I will use these variables as the inputs to the network and \n",
    "create two hidden layers to train the network with one output - MEDV. \n",
    "\n",
    "Keras Library will be used as it makes the process of building a neural network much easier. It has been broadly adopted by the\n",
    "research and industry community with over 250,000 users in 2018. [7]"
   ]
  },
  {
   "cell_type": "code",
   "execution_count": null,
   "metadata": {},
   "outputs": [],
   "source": []
  },
  {
   "cell_type": "code",
   "execution_count": 36,
   "metadata": {},
   "outputs": [
    {
     "name": "stderr",
     "output_type": "stream",
     "text": [
      "Using TensorFlow backend.\n"
     ]
    }
   ],
   "source": [
    "import keras as kr\n",
    "\n",
    "import sklearn.preprocessing as pre\n",
    "# For splitting data sets.\n",
    "import sklearn.model_selection as mod\n",
    "# For whitening.\n",
    "import sklearn.decomposition as dec"
   ]
  },
  {
   "cell_type": "code",
   "execution_count": 37,
   "metadata": {},
   "outputs": [
    {
     "data": {
      "text/html": [
       "<div>\n",
       "<style scoped>\n",
       "    .dataframe tbody tr th:only-of-type {\n",
       "        vertical-align: middle;\n",
       "    }\n",
       "\n",
       "    .dataframe tbody tr th {\n",
       "        vertical-align: top;\n",
       "    }\n",
       "\n",
       "    .dataframe thead th {\n",
       "        text-align: right;\n",
       "    }\n",
       "</style>\n",
       "<table border=\"1\" class=\"dataframe\">\n",
       "  <thead>\n",
       "    <tr style=\"text-align: right;\">\n",
       "      <th></th>\n",
       "      <th>RM</th>\n",
       "      <th>LSTAT</th>\n",
       "    </tr>\n",
       "  </thead>\n",
       "  <tbody>\n",
       "    <tr>\n",
       "      <td>0</td>\n",
       "      <td>6.575</td>\n",
       "      <td>4.98</td>\n",
       "    </tr>\n",
       "    <tr>\n",
       "      <td>1</td>\n",
       "      <td>6.421</td>\n",
       "      <td>9.14</td>\n",
       "    </tr>\n",
       "    <tr>\n",
       "      <td>2</td>\n",
       "      <td>7.185</td>\n",
       "      <td>4.03</td>\n",
       "    </tr>\n",
       "    <tr>\n",
       "      <td>3</td>\n",
       "      <td>6.998</td>\n",
       "      <td>2.94</td>\n",
       "    </tr>\n",
       "    <tr>\n",
       "      <td>4</td>\n",
       "      <td>7.147</td>\n",
       "      <td>5.33</td>\n",
       "    </tr>\n",
       "  </tbody>\n",
       "</table>\n",
       "</div>"
      ],
      "text/plain": [
       "      RM  LSTAT\n",
       "0  6.575   4.98\n",
       "1  6.421   9.14\n",
       "2  7.185   4.03\n",
       "3  6.998   2.94\n",
       "4  7.147   5.33"
      ]
     },
     "execution_count": 37,
     "metadata": {},
     "output_type": "execute_result"
    }
   ],
   "source": [
    "#inputs for training the model\n",
    "inputs = boston[['RM','LSTAT']]\n",
    "inputs.head()"
   ]
  },
  {
   "cell_type": "code",
   "execution_count": 38,
   "metadata": {},
   "outputs": [
    {
     "data": {
      "text/plain": [
       "0    24.0\n",
       "1    21.6\n",
       "2    34.7\n",
       "3    33.4\n",
       "4    36.2\n",
       "Name: MEDV, dtype: float64"
      ]
     },
     "execution_count": 38,
     "metadata": {},
     "output_type": "execute_result"
    }
   ],
   "source": [
    "# outputs for training the neural network\n",
    "outputs = boston['MEDV']\n",
    "outputs.head()"
   ]
  },
  {
   "cell_type": "code",
   "execution_count": 39,
   "metadata": {},
   "outputs": [],
   "source": [
    "x_train, x_test, y_train, y_test = mod.train_test_split(inputs, outputs, test_size=0.3)"
   ]
  },
  {
   "cell_type": "code",
   "execution_count": 83,
   "metadata": {},
   "outputs": [
    {
     "name": "stdout",
     "output_type": "stream",
     "text": [
      "(354, 2) (354,)\n",
      "(152, 2) (152,)\n"
     ]
    }
   ],
   "source": [
    "print (x_train.shape, y_train.shape)\n",
    "print (x_test.shape, y_test.shape)"
   ]
  },
  {
   "cell_type": "markdown",
   "metadata": {},
   "source": [
    "Now I will create a neural network using the following keras methods:\n",
    "    \n",
    "    - kr.models.Sequential: A sequential model that adds layers sequentially on top of the existing layers\n",
    "    - kr.layers.Dense:  Dense ensures that all the neurons in each layer are connected\n",
    "    - actiavation: sigmiod is a non-linear funtion with the advantage that the output from the network will always be in range (0,1)\n",
    "    - activation: linear is a straight line function where activation is is proportional to input and is suitable for this model\n",
    "        because of the linear relation MEDV has with RM and LSTAT\n",
    "    - "
   ]
  },
  {
   "cell_type": "code",
   "execution_count": 112,
   "metadata": {},
   "outputs": [],
   "source": [
    "# Create a new neural network.\n",
    "m = kr.models.Sequential()\n",
    "\n",
    "# Add a single neuron in a single layer, initialised with weight 1 and bias 0.\n",
    "m.add(kr.layers.Dense(100, input_dim=2, activation=\"relu\"))\n",
    "m.add(kr.layers.Dense(100, activation=\"relu\"))\n",
    "m.add(kr.layers.Dense(50, activation=\"relu\"))\n",
    "m.add(kr.layers.Dense(1))\n",
    "# Compile the model.\n",
    "m.compile(loss=\"mean_absolute_error\", optimizer=\"Adam\")"
   ]
  },
  {
   "cell_type": "code",
   "execution_count": 113,
   "metadata": {
    "scrolled": true
   },
   "outputs": [
    {
     "name": "stdout",
     "output_type": "stream",
     "text": [
      "Train on 318 samples, validate on 36 samples\n",
      "Epoch 1/50\n",
      "318/318 [==============================] - 1s 3ms/step - loss: 19.0055 - val_loss: 15.3155\n",
      "Epoch 2/50\n",
      "318/318 [==============================] - 0s 270us/step - loss: 13.3137 - val_loss: 10.7355\n",
      "Epoch 3/50\n",
      "318/318 [==============================] - 0s 233us/step - loss: 11.7990 - val_loss: 9.3647\n",
      "Epoch 4/50\n",
      "318/318 [==============================] - 0s 195us/step - loss: 9.5286 - val_loss: 6.7755\n",
      "Epoch 5/50\n",
      "318/318 [==============================] - 0s 170us/step - loss: 6.1158 - val_loss: 4.9676\n",
      "Epoch 6/50\n",
      "318/318 [==============================] - 0s 201us/step - loss: 3.9260 - val_loss: 4.6284\n",
      "Epoch 7/50\n",
      "318/318 [==============================] - 0s 185us/step - loss: 3.7609 - val_loss: 5.1209\n",
      "Epoch 8/50\n",
      "318/318 [==============================] - 0s 214us/step - loss: 3.7271 - val_loss: 4.4060\n",
      "Epoch 9/50\n",
      "318/318 [==============================] - 0s 226us/step - loss: 3.5831 - val_loss: 4.1441\n",
      "Epoch 10/50\n",
      "318/318 [==============================] - 0s 179us/step - loss: 3.6349 - val_loss: 4.1175\n",
      "Epoch 11/50\n",
      "318/318 [==============================] - 0s 217us/step - loss: 3.5351 - val_loss: 4.2901\n",
      "Epoch 12/50\n",
      "318/318 [==============================] - 0s 236us/step - loss: 3.4826 - val_loss: 4.5570\n",
      "Epoch 13/50\n",
      "318/318 [==============================] - 0s 236us/step - loss: 3.7545 - val_loss: 5.4762\n",
      "Epoch 14/50\n",
      "318/318 [==============================] - 0s 299us/step - loss: 3.6771 - val_loss: 4.9578\n",
      "Epoch 15/50\n",
      "318/318 [==============================] - 0s 255us/step - loss: 3.5458 - val_loss: 4.0791\n",
      "Epoch 16/50\n",
      "318/318 [==============================] - 0s 292us/step - loss: 3.6312 - val_loss: 3.5528\n",
      "Epoch 17/50\n",
      "318/318 [==============================] - 0s 343us/step - loss: 3.5587 - val_loss: 3.6900\n",
      "Epoch 18/50\n",
      "318/318 [==============================] - 0s 239us/step - loss: 3.4581 - val_loss: 3.4115\n",
      "Epoch 19/50\n",
      "318/318 [==============================] - 0s 330us/step - loss: 3.4353 - val_loss: 3.8515\n",
      "Epoch 20/50\n",
      "318/318 [==============================] - 0s 258us/step - loss: 3.3887 - val_loss: 4.4189\n",
      "Epoch 21/50\n",
      "318/318 [==============================] - 0s 217us/step - loss: 3.5377 - val_loss: 3.6748\n",
      "Epoch 22/50\n",
      "318/318 [==============================] - 0s 273us/step - loss: 3.4171 - val_loss: 3.6864\n",
      "Epoch 23/50\n",
      "318/318 [==============================] - 0s 358us/step - loss: 3.4583 - val_loss: 4.0140\n",
      "Epoch 24/50\n",
      "318/318 [==============================] - 0s 223us/step - loss: 3.4084 - val_loss: 4.7900\n",
      "Epoch 25/50\n",
      "318/318 [==============================] - 0s 245us/step - loss: 3.7470 - val_loss: 4.3295\n",
      "Epoch 26/50\n",
      "318/318 [==============================] - 0s 258us/step - loss: 3.7340 - val_loss: 3.1779\n",
      "Epoch 27/50\n",
      "318/318 [==============================] - 0s 330us/step - loss: 3.5860 - val_loss: 3.4049\n",
      "Epoch 28/50\n",
      "318/318 [==============================] - 0s 176us/step - loss: 3.4911 - val_loss: 3.5179\n",
      "Epoch 29/50\n",
      "318/318 [==============================] - 0s 286us/step - loss: 3.3802 - val_loss: 4.4982\n",
      "Epoch 30/50\n",
      "318/318 [==============================] - 0s 314us/step - loss: 3.4310 - val_loss: 3.6941\n",
      "Epoch 31/50\n",
      "318/318 [==============================] - 0s 173us/step - loss: 3.4049 - val_loss: 4.1527\n",
      "Epoch 32/50\n",
      "318/318 [==============================] - 0s 195us/step - loss: 3.4527 - val_loss: 3.6139\n",
      "Epoch 33/50\n",
      "318/318 [==============================] - 0s 195us/step - loss: 3.4674 - val_loss: 4.0191\n",
      "Epoch 34/50\n",
      "318/318 [==============================] - 0s 258us/step - loss: 3.3510 - val_loss: 4.3273\n",
      "Epoch 35/50\n",
      "318/318 [==============================] - 0s 211us/step - loss: 3.5679 - val_loss: 4.3990\n",
      "Epoch 36/50\n",
      "318/318 [==============================] - 0s 245us/step - loss: 3.4784 - val_loss: 4.0930\n",
      "Epoch 37/50\n",
      "318/318 [==============================] - 0s 245us/step - loss: 3.3669 - val_loss: 3.0847\n",
      "Epoch 38/50\n",
      "318/318 [==============================] - 0s 283us/step - loss: 3.6647 - val_loss: 3.7608\n",
      "Epoch 39/50\n",
      "318/318 [==============================] - 0s 295us/step - loss: 3.5047 - val_loss: 4.7042\n",
      "Epoch 40/50\n",
      "318/318 [==============================] - 0s 283us/step - loss: 3.4788 - val_loss: 4.7424\n",
      "Epoch 41/50\n",
      "318/318 [==============================] - 0s 283us/step - loss: 3.5366 - val_loss: 4.3548\n",
      "Epoch 42/50\n",
      "318/318 [==============================] - 0s 176us/step - loss: 3.4183 - val_loss: 4.1952\n",
      "Epoch 43/50\n",
      "318/318 [==============================] - 0s 280us/step - loss: 3.3571 - val_loss: 3.9613\n",
      "Epoch 44/50\n",
      "318/318 [==============================] - 0s 295us/step - loss: 3.3602 - val_loss: 4.1135\n",
      "Epoch 45/50\n",
      "318/318 [==============================] - 0s 223us/step - loss: 3.3885 - val_loss: 3.7475\n",
      "Epoch 46/50\n",
      "318/318 [==============================] - 0s 245us/step - loss: 3.3406 - val_loss: 3.2435\n",
      "Epoch 47/50\n",
      "318/318 [==============================] - 0s 251us/step - loss: 3.4855 - val_loss: 3.7591\n",
      "Epoch 48/50\n",
      "318/318 [==============================] - 0s 251us/step - loss: 3.3664 - val_loss: 4.3660\n",
      "Epoch 49/50\n",
      "318/318 [==============================] - 0s 233us/step - loss: 3.3632 - val_loss: 4.0154\n",
      "Epoch 50/50\n",
      "318/318 [==============================] - 0s 258us/step - loss: 3.3701 - val_loss: 4.0473\n"
     ]
    }
   ],
   "source": [
    "history = m.fit(x_train, y_train, epochs=50, batch_size=25,validation_split=0.1)"
   ]
  },
  {
   "cell_type": "code",
   "execution_count": 99,
   "metadata": {
    "scrolled": true
   },
   "outputs": [
    {
     "name": "stdout",
     "output_type": "stream",
     "text": [
      "Model: \"sequential_7\"\n",
      "_________________________________________________________________\n",
      "Layer (type)                 Output Shape              Param #   \n",
      "=================================================================\n",
      "dense_25 (Dense)             (None, 100)               300       \n",
      "_________________________________________________________________\n",
      "dense_26 (Dense)             (None, 100)               10100     \n",
      "_________________________________________________________________\n",
      "dense_27 (Dense)             (None, 50)                5050      \n",
      "_________________________________________________________________\n",
      "dense_28 (Dense)             (None, 1)                 51        \n",
      "=================================================================\n",
      "Total params: 15,501\n",
      "Trainable params: 15,501\n",
      "Non-trainable params: 0\n",
      "_________________________________________________________________\n"
     ]
    }
   ],
   "source": [
    "m.summary()"
   ]
  },
  {
   "cell_type": "code",
   "execution_count": 131,
   "metadata": {
    "scrolled": true
   },
   "outputs": [],
   "source": [
    "predictions = m.predict(x_test).T"
   ]
  },
  {
   "cell_type": "code",
   "execution_count": 134,
   "metadata": {},
   "outputs": [
    {
     "name": "stderr",
     "output_type": "stream",
     "text": [
      "C:\\Users\\Donal\\Anaconda3\\lib\\site-packages\\ipykernel_launcher.py:2: FutureWarning: Method .as_matrix will be removed in a future version. Use .values instead.\n",
      "  \n"
     ]
    },
    {
     "data": {
      "text/plain": [
       "array([19.8, 13.1, 28.7, 21.7, 23.7, 24.1, 28.4, 14.5, 24.2, 19.8, 31.1,\n",
       "       16.1, 19.4, 18.2, 23.8, 10.9, 27.5, 42.8, 21. ,  6.3, 23.3, 43.5,\n",
       "       27.9, 16.6, 14.4, 20.4, 34.9, 21.1, 16.3,  9.5, 21.2, 15. , 22.2,\n",
       "       30.1, 37. , 13.6, 28.7, 15.2, 20.3, 19.7, 50. , 16. , 18.9, 29.1,\n",
       "       11.5, 19.6, 26.5, 50. ,  7. , 20.6, 13.3, 28.7, 48.5, 18.7, 18.1,\n",
       "       34.9, 39.8, 24.6, 20. , 30.1, 12.1, 23.1, 24.7, 21.5, 18.7, 29.8,\n",
       "       23.4, 17.4, 21. , 24.1,  9.6, 46.7, 20.3, 22. , 20.1, 19.6, 14.3,\n",
       "       15.6, 10.2, 45.4, 22.5, 24.5,  9.7,  7.4, 21.8, 23.6, 19.3, 11.8,\n",
       "       46. , 23.9, 20.6, 17.4, 15.7, 12.6, 13.4, 15. , 24.3, 41.7, 10.2,\n",
       "       22.6, 18.3, 26.6, 32. , 13.8, 16.2, 20.2, 16.5, 17.2, 19. , 50. ,\n",
       "       22.6, 13. , 19.4, 25. , 21.4, 17.1, 21.4, 18.9, 23.9, 19.5, 22.6,\n",
       "       30.8, 23.7, 18.5, 17.8, 23. , 26.6, 21.4, 31.6, 25. , 20.6, 50. ,\n",
       "       22.9, 17.1, 20.5, 15.4, 22.9, 37.3, 21.9, 25.1, 19.6, 36. , 18.6,\n",
       "       13.8, 11.7, 20.4, 21.7, 23.2, 14.9,  5.6, 22.6, 16.1])"
      ]
     },
     "execution_count": 134,
     "metadata": {},
     "output_type": "execute_result"
    }
   ],
   "source": [
    "##turns pandas series into numpy array\n",
    "y_test.as_matrix()"
   ]
  },
  {
   "cell_type": "code",
   "execution_count": 135,
   "metadata": {},
   "outputs": [
    {
     "data": {
      "image/png": "[encoded data removed]",
      "text/plain": [
       "<Figure size 1080x576 with 1 Axes>"
      ]
     },
     "metadata": {},
     "output_type": "display_data"
    }
   ],
   "source": [
    "##Predicted MEDV vs Actual EDV\n",
    "sns.distplot(predictions, bins=40, label='Predicted MEDV')\n",
    "sns.distplot(y_test, bins=40, label='Actual MEDV')\n",
    "plt.legend()\n",
    "plt.show()"
   ]
  },
  {
   "cell_type": "code",
   "execution_count": 116,
   "metadata": {
    "scrolled": false
   },
   "outputs": [
    {
     "name": "stdout",
     "output_type": "stream",
     "text": [
      "dict_keys(['val_loss', 'loss'])\n"
     ]
    }
   ],
   "source": [
    "print(history.history.keys())"
   ]
  },
  {
   "cell_type": "code",
   "execution_count": 114,
   "metadata": {},
   "outputs": [
    {
     "data": {
      "image/png": "[encoded data removed]",
      "text/plain": [
       "<Figure size 1080x576 with 1 Axes>"
      ]
     },
     "metadata": {},
     "output_type": "display_data"
    }
   ],
   "source": [
    "##https://keras.io/visualization/\n",
    "# Plot training & validation loss values\n",
    "plt.plot(history.history['loss'])\n",
    "plt.plot(history.history['val_loss'])\n",
    "plt.title('Model loss')\n",
    "plt.ylabel('Loss')\n",
    "plt.xlabel('Epoch')\n",
    "plt.legend(['Train', 'Test'], loc='upper left')\n",
    "plt.show()"
   ]
  },
  {
   "cell_type": "code",
   "execution_count": 105,
   "metadata": {
    "scrolled": true
   },
   "outputs": [
    {
     "name": "stderr",
     "output_type": "stream",
     "text": [
      "C:\\Users\\Donal\\Anaconda3\\lib\\site-packages\\ipykernel_launcher.py:2: FutureWarning: Method .as_matrix will be removed in a future version. Use .values instead.\n",
      "  \n"
     ]
    },
    {
     "data": {
      "text/plain": [
       "array([19.8, 13.1, 28.7, 21.7, 23.7, 24.1, 28.4, 14.5, 24.2, 19.8, 31.1,\n",
       "       16.1, 19.4, 18.2, 23.8, 10.9, 27.5, 42.8, 21. ,  6.3, 23.3, 43.5,\n",
       "       27.9, 16.6, 14.4, 20.4, 34.9, 21.1, 16.3,  9.5, 21.2, 15. , 22.2,\n",
       "       30.1, 37. , 13.6, 28.7, 15.2, 20.3, 19.7, 50. , 16. , 18.9, 29.1,\n",
       "       11.5, 19.6, 26.5, 50. ,  7. , 20.6, 13.3, 28.7, 48.5, 18.7, 18.1,\n",
       "       34.9, 39.8, 24.6, 20. , 30.1, 12.1, 23.1, 24.7, 21.5, 18.7, 29.8,\n",
       "       23.4, 17.4, 21. , 24.1,  9.6, 46.7, 20.3, 22. , 20.1, 19.6, 14.3,\n",
       "       15.6, 10.2, 45.4, 22.5, 24.5,  9.7,  7.4, 21.8, 23.6, 19.3, 11.8,\n",
       "       46. , 23.9, 20.6, 17.4, 15.7, 12.6, 13.4, 15. , 24.3, 41.7, 10.2,\n",
       "       22.6, 18.3, 26.6, 32. , 13.8, 16.2, 20.2, 16.5, 17.2, 19. , 50. ,\n",
       "       22.6, 13. , 19.4, 25. , 21.4, 17.1, 21.4, 18.9, 23.9, 19.5, 22.6,\n",
       "       30.8, 23.7, 18.5, 17.8, 23. , 26.6, 21.4, 31.6, 25. , 20.6, 50. ,\n",
       "       22.9, 17.1, 20.5, 15.4, 22.9, 37.3, 21.9, 25.1, 19.6, 36. , 18.6,\n",
       "       13.8, 11.7, 20.4, 21.7, 23.2, 14.9,  5.6, 22.6, 16.1])"
      ]
     },
     "execution_count": 105,
     "metadata": {},
     "output_type": "execute_result"
    }
   ],
   "source": []
  },
  {
   "cell_type": "code",
   "execution_count": 106,
   "metadata": {},
   "outputs": [
    {
     "name": "stderr",
     "output_type": "stream",
     "text": [
      "C:\\Users\\Donal\\Anaconda3\\lib\\site-packages\\ipykernel_launcher.py:2: FutureWarning: Method .as_matrix will be removed in a future version. Use .values instead.\n",
      "  \n"
     ]
    },
    {
     "data": {
      "text/plain": [
       "2597.087001116458"
      ]
     },
     "execution_count": 106,
     "metadata": {},
     "output_type": "execute_result"
    }
   ],
   "source": [
    "##.T turns rows into columns / get squared mean difference to see difference between the output from model and the dataset outputs\n",
    "np.sum((m.predict(x_test).T - y_test.as_matrix())**2)"
   ]
  },
  {
   "cell_type": "code",
   "execution_count": 115,
   "metadata": {},
   "outputs": [
    {
     "name": "stdout",
     "output_type": "stream",
     "text": [
      "3.1930617784198962\n"
     ]
    }
   ],
   "source": [
    "scores = m.evaluate(x_test, y_test, verbose=0)\n",
    "print (scores)"
   ]
  },
  {
   "cell_type": "markdown",
   "metadata": {},
   "source": [
    "## Neural Network 2 using Scaling"
   ]
  },
  {
   "cell_type": "code",
   "execution_count": 47,
   "metadata": {},
   "outputs": [],
   "source": [
    "scaler = pre.StandardScaler()\n",
    "scaler.fit(x_train)\n",
    "x_train_scaled = scaler.transform(x_train)"
   ]
  },
  {
   "cell_type": "code",
   "execution_count": 60,
   "metadata": {},
   "outputs": [],
   "source": [
    "# Create a new neural network.\n",
    "m = kr.models.Sequential()\n",
    "\n",
    "# Add a single neuron in a single layer, initialised with weight 1 and bias 0.\n",
    "m.add(kr.layers.Dense(100, input_dim=2, activation=\"relu\"))\n",
    "m.add(kr.layers.Dense(100, activation=\"relu\"))\n",
    "m.add(kr.layers.Dense(50, activation=\"relu\"))\n",
    "m.add(kr.layers.Dense(1))\n",
    "# Compile the model.\n",
    "m.compile(loss=\"mse\", optimizer=\"Adam\",metrics=['mae'])"
   ]
  },
  {
   "cell_type": "code",
   "execution_count": 61,
   "metadata": {},
   "outputs": [
    {
     "name": "stdout",
     "output_type": "stream",
     "text": [
      "Epoch 1/50\n",
      "354/354 [==============================] - 1s 2ms/step - loss: 22.0758 - accuracy: 0.0000e+00\n",
      "Epoch 2/50\n",
      "354/354 [==============================] - 0s 203us/step - loss: 20.0615 - accuracy: 0.0000e+00\n",
      "Epoch 3/50\n",
      "354/354 [==============================] - 0s 158us/step - loss: 15.5256 - accuracy: 0.0000e+00\n",
      "Epoch 4/50\n",
      "354/354 [==============================] - 0s 155us/step - loss: 9.0306 - accuracy: 0.0085\n",
      "Epoch 5/50\n",
      "354/354 [==============================] - 0s 186us/step - loss: 6.4113 - accuracy: 0.0028\n",
      "Epoch 6/50\n",
      "354/354 [==============================] - 0s 200us/step - loss: 5.0352 - accuracy: 0.0028\n",
      "Epoch 7/50\n",
      "354/354 [==============================] - 0s 186us/step - loss: 4.7512 - accuracy: 0.0056\n",
      "Epoch 8/50\n",
      "354/354 [==============================] - 0s 155us/step - loss: 4.3134 - accuracy: 0.0056\n",
      "Epoch 9/50\n",
      "354/354 [==============================] - 0s 158us/step - loss: 4.1627 - accuracy: 0.0085\n",
      "Epoch 10/50\n",
      "354/354 [==============================] - 0s 212us/step - loss: 3.8254 - accuracy: 0.0056\n",
      "Epoch 11/50\n",
      "354/354 [==============================] - 0s 220us/step - loss: 3.7149 - accuracy: 0.0085\n",
      "Epoch 12/50\n",
      "354/354 [==============================] - 0s 186us/step - loss: 3.6388 - accuracy: 0.0056\n",
      "Epoch 13/50\n",
      "354/354 [==============================] - 0s 198us/step - loss: 3.4991 - accuracy: 0.0141\n",
      "Epoch 14/50\n",
      "354/354 [==============================] - 0s 248us/step - loss: 3.3809 - accuracy: 0.0198\n",
      "Epoch 15/50\n",
      "354/354 [==============================] - 0s 277us/step - loss: 3.3558 - accuracy: 0.0056\n",
      "Epoch 16/50\n",
      "354/354 [==============================] - 0s 265us/step - loss: 3.3012 - accuracy: 0.0141\n",
      "Epoch 17/50\n",
      "354/354 [==============================] - 0s 248us/step - loss: 3.2931 - accuracy: 0.0141\n",
      "Epoch 18/50\n",
      "354/354 [==============================] - 0s 203us/step - loss: 3.3111 - accuracy: 0.0169\n",
      "Epoch 19/50\n",
      "354/354 [==============================] - 0s 206us/step - loss: 3.3139 - accuracy: 0.0113\n",
      "Epoch 20/50\n",
      "354/354 [==============================] - 0s 240us/step - loss: 3.2283 - accuracy: 0.0113\n",
      "Epoch 21/50\n",
      "354/354 [==============================] - 0s 237us/step - loss: 3.1752 - accuracy: 0.0169\n",
      "Epoch 22/50\n",
      "354/354 [==============================] - 0s 217us/step - loss: 3.1617 - accuracy: 0.0113\n",
      "Epoch 23/50\n",
      "354/354 [==============================] - 0s 217us/step - loss: 3.1492 - accuracy: 0.0141\n",
      "Epoch 24/50\n",
      "354/354 [==============================] - 0s 237us/step - loss: 3.1599 - accuracy: 0.0113\n",
      "Epoch 25/50\n",
      "354/354 [==============================] - 0s 226us/step - loss: 3.1600 - accuracy: 0.0141\n",
      "Epoch 26/50\n",
      "354/354 [==============================] - 0s 198us/step - loss: 3.1255 - accuracy: 0.0141\n",
      "Epoch 27/50\n",
      "354/354 [==============================] - 0s 299us/step - loss: 3.2114 - accuracy: 0.0113\n",
      "Epoch 28/50\n",
      "354/354 [==============================] - 0s 200us/step - loss: 3.2688 - accuracy: 0.0113\n",
      "Epoch 29/50\n",
      "354/354 [==============================] - 0s 195us/step - loss: 3.1348 - accuracy: 0.0198TA: 0s - loss: 3.2091 - accuracy: 0.0215  \n",
      "Epoch 30/50\n",
      "354/354 [==============================] - 0s 189us/step - loss: 3.0964 - accuracy: 0.0169\n",
      "Epoch 31/50\n",
      "354/354 [==============================] - 0s 243us/step - loss: 3.2327 - accuracy: 0.0198\n",
      "Epoch 32/50\n",
      "354/354 [==============================] - ETA: 0s - loss: 3.0563 - accuracy: 0.0100   - 0s 212us/step - loss: 3.0476 - accuracy: 0.0141\n",
      "Epoch 33/50\n",
      "354/354 [==============================] - 0s 198us/step - loss: 3.0727 - accuracy: 0.0141\n",
      "Epoch 34/50\n",
      "354/354 [==============================] - 0s 226us/step - loss: 3.0407 - accuracy: 0.0113\n",
      "Epoch 35/50\n",
      "354/354 [==============================] - 0s 203us/step - loss: 3.0298 - accuracy: 0.0113\n",
      "Epoch 36/50\n",
      "354/354 [==============================] - ETA: 0s - loss: 3.0469 - accuracy: 0.0073   - 0s 226us/step - loss: 3.0398 - accuracy: 0.0085\n",
      "Epoch 37/50\n",
      "354/354 [==============================] - 0s 198us/step - loss: 3.0296 - accuracy: 0.0141\n",
      "Epoch 38/50\n",
      "354/354 [==============================] - 0s 209us/step - loss: 3.0665 - accuracy: 0.0226\n",
      "Epoch 39/50\n",
      "354/354 [==============================] - 0s 246us/step - loss: 3.0421 - accuracy: 0.0141\n",
      "Epoch 40/50\n",
      "354/354 [==============================] - 0s 203us/step - loss: 3.0364 - accuracy: 0.0141\n",
      "Epoch 41/50\n",
      "354/354 [==============================] - 0s 251us/step - loss: 2.9720 - accuracy: 0.0169\n",
      "Epoch 42/50\n",
      "354/354 [==============================] - 0s 217us/step - loss: 2.9817 - accuracy: 0.0113\n",
      "Epoch 43/50\n",
      "354/354 [==============================] - 0s 237us/step - loss: 3.0385 - accuracy: 0.0141\n",
      "Epoch 44/50\n",
      "354/354 [==============================] - 0s 220us/step - loss: 2.9973 - accuracy: 0.0056\n",
      "Epoch 45/50\n",
      "354/354 [==============================] - 0s 217us/step - loss: 2.9892 - accuracy: 0.0141\n",
      "Epoch 46/50\n",
      "354/354 [==============================] - 0s 234us/step - loss: 3.0657 - accuracy: 0.0141\n",
      "Epoch 47/50\n",
      "354/354 [==============================] - 0s 223us/step - loss: 2.9554 - accuracy: 0.0198TA: 0s - loss: 2.9940 - accuracy: 0.0185  \n",
      "Epoch 48/50\n",
      "354/354 [==============================] - 0s 200us/step - loss: 2.9613 - accuracy: 0.0056\n",
      "Epoch 49/50\n",
      "354/354 [==============================] - 0s 232us/step - loss: 2.9711 - accuracy: 0.0226\n",
      "Epoch 50/50\n",
      "354/354 [==============================] - 0s 226us/step - loss: 3.0202 - accuracy: 0.0113\n"
     ]
    },
    {
     "data": {
      "text/plain": [
       "<keras.callbacks.callbacks.History at 0x25836ef1288>"
      ]
     },
     "execution_count": 61,
     "metadata": {},
     "output_type": "execute_result"
    }
   ],
   "source": [
    "m.fit(x_train_scaled, y_train, epochs=50, batch_size=25)"
   ]
  },
  {
   "cell_type": "code",
   "execution_count": 50,
   "metadata": {
    "scrolled": true
   },
   "outputs": [
    {
     "data": {
      "text/plain": [
       "array([[17., 15., 24., 17., 26., 22., 25., 14., 23., 21., 28., 15., 17.,\n",
       "        20., 23., 18., 24., 45., 21., 10., 23., 37., 19., 14., 11., 19.,\n",
       "        31., 19., 14., 11., 19., 19., 23., 27., 30., 15., 23., 14., 20.,\n",
       "        19., 42., 18., 19., 26., 14., 20., 26., 49., 12., 21., 12., 31.,\n",
       "        41., 20., 15., 33., 37., 24., 18., 24., 13., 22., 22., 15., 19.,\n",
       "        24., 22., 18., 20., 25., 14., 39., 17., 24., 20., 19., 15., 11.,\n",
       "        12., 41., 23., 22., 12., 11., 19., 30., 20., 11., 39., 21., 22.,\n",
       "        16., 11., 16., 11., 13., 21., 47., 17., 20., 17., 25., 27., 11.,\n",
       "        19., 19., 23., 19., 16., 42., 20., 13., 17., 22., 20., 13., 18.,\n",
       "        20., 25., 17., 20., 26., 11., 20., 15., 23., 29., 22., 31., 23.,\n",
       "        19., 49., 22., 18., 15., 13., 22., 33., 18., 23., 20., 32., 21.,\n",
       "        15., 17., 21., 20., 18., 14., 11., 22., 21.]], dtype=float32)"
      ]
     },
     "execution_count": 50,
     "metadata": {},
     "output_type": "execute_result"
    }
   ],
   "source": [
    "x_test_scaled = scaler.transform(x_test)\n",
    "m.predict(x_test_scaled).round().T"
   ]
  },
  {
   "cell_type": "code",
   "execution_count": 51,
   "metadata": {},
   "outputs": [
    {
     "name": "stderr",
     "output_type": "stream",
     "text": [
      "C:\\Users\\Donal\\Anaconda3\\lib\\site-packages\\ipykernel_launcher.py:1: FutureWarning: Method .as_matrix will be removed in a future version. Use .values instead.\n",
      "  \"\"\"Entry point for launching an IPython kernel.\n"
     ]
    },
    {
     "data": {
      "text/plain": [
       "array([19.8, 13.1, 28.7, 21.7, 23.7, 24.1, 28.4, 14.5, 24.2, 19.8, 31.1,\n",
       "       16.1, 19.4, 18.2, 23.8, 10.9, 27.5, 42.8, 21. ,  6.3, 23.3, 43.5,\n",
       "       27.9, 16.6, 14.4, 20.4, 34.9, 21.1, 16.3,  9.5, 21.2, 15. , 22.2,\n",
       "       30.1, 37. , 13.6, 28.7, 15.2, 20.3, 19.7, 50. , 16. , 18.9, 29.1,\n",
       "       11.5, 19.6, 26.5, 50. ,  7. , 20.6, 13.3, 28.7, 48.5, 18.7, 18.1,\n",
       "       34.9, 39.8, 24.6, 20. , 30.1, 12.1, 23.1, 24.7, 21.5, 18.7, 29.8,\n",
       "       23.4, 17.4, 21. , 24.1,  9.6, 46.7, 20.3, 22. , 20.1, 19.6, 14.3,\n",
       "       15.6, 10.2, 45.4, 22.5, 24.5,  9.7,  7.4, 21.8, 23.6, 19.3, 11.8,\n",
       "       46. , 23.9, 20.6, 17.4, 15.7, 12.6, 13.4, 15. , 24.3, 41.7, 10.2,\n",
       "       22.6, 18.3, 26.6, 32. , 13.8, 16.2, 20.2, 16.5, 17.2, 19. , 50. ,\n",
       "       22.6, 13. , 19.4, 25. , 21.4, 17.1, 21.4, 18.9, 23.9, 19.5, 22.6,\n",
       "       30.8, 23.7, 18.5, 17.8, 23. , 26.6, 21.4, 31.6, 25. , 20.6, 50. ,\n",
       "       22.9, 17.1, 20.5, 15.4, 22.9, 37.3, 21.9, 25.1, 19.6, 36. , 18.6,\n",
       "       13.8, 11.7, 20.4, 21.7, 23.2, 14.9,  5.6, 22.6, 16.1],\n",
       "      dtype=float32)"
      ]
     },
     "execution_count": 51,
     "metadata": {},
     "output_type": "execute_result"
    }
   ],
   "source": [
    "y_test.as_matrix().astype(np.float32)"
   ]
  },
  {
   "cell_type": "code",
   "execution_count": 52,
   "metadata": {},
   "outputs": [
    {
     "name": "stdout",
     "output_type": "stream",
     "text": [
      "2.7173510852612948\n"
     ]
    }
   ],
   "source": [
    "scores = m.evaluate(x_test_scaled, y_test, verbose=0)\n",
    "print (scores)"
   ]
  },
  {
   "cell_type": "markdown",
   "metadata": {},
   "source": [
    "## Neural Network 3 using Whitening"
   ]
  },
  {
   "cell_type": "code",
   "execution_count": 53,
   "metadata": {},
   "outputs": [
    {
     "data": {
      "text/html": [
       "<div>\n",
       "<style scoped>\n",
       "    .dataframe tbody tr th:only-of-type {\n",
       "        vertical-align: middle;\n",
       "    }\n",
       "\n",
       "    .dataframe tbody tr th {\n",
       "        vertical-align: top;\n",
       "    }\n",
       "\n",
       "    .dataframe thead th {\n",
       "        text-align: right;\n",
       "    }\n",
       "</style>\n",
       "<table border=\"1\" class=\"dataframe\">\n",
       "  <thead>\n",
       "    <tr style=\"text-align: right;\">\n",
       "      <th></th>\n",
       "      <th>RM</th>\n",
       "      <th>LSTAT</th>\n",
       "    </tr>\n",
       "  </thead>\n",
       "  <tbody>\n",
       "    <tr>\n",
       "      <td>0</td>\n",
       "      <td>0.834266</td>\n",
       "      <td>-1.012721</td>\n",
       "    </tr>\n",
       "    <tr>\n",
       "      <td>1</td>\n",
       "      <td>0.376671</td>\n",
       "      <td>0.459730</td>\n",
       "    </tr>\n",
       "    <tr>\n",
       "      <td>2</td>\n",
       "      <td>0.555576</td>\n",
       "      <td>-2.459915</td>\n",
       "    </tr>\n",
       "    <tr>\n",
       "      <td>3</td>\n",
       "      <td>-0.438459</td>\n",
       "      <td>0.728729</td>\n",
       "    </tr>\n",
       "    <tr>\n",
       "      <td>4</td>\n",
       "      <td>-1.363287</td>\n",
       "      <td>0.007105</td>\n",
       "    </tr>\n",
       "    <tr>\n",
       "      <td>...</td>\n",
       "      <td>...</td>\n",
       "      <td>...</td>\n",
       "    </tr>\n",
       "    <tr>\n",
       "      <td>349</td>\n",
       "      <td>0.685519</td>\n",
       "      <td>0.208505</td>\n",
       "    </tr>\n",
       "    <tr>\n",
       "      <td>350</td>\n",
       "      <td>1.505040</td>\n",
       "      <td>2.759711</td>\n",
       "    </tr>\n",
       "    <tr>\n",
       "      <td>351</td>\n",
       "      <td>-0.359778</td>\n",
       "      <td>0.757598</td>\n",
       "    </tr>\n",
       "    <tr>\n",
       "      <td>352</td>\n",
       "      <td>0.641518</td>\n",
       "      <td>0.094344</td>\n",
       "    </tr>\n",
       "    <tr>\n",
       "      <td>353</td>\n",
       "      <td>0.810790</td>\n",
       "      <td>0.612877</td>\n",
       "    </tr>\n",
       "  </tbody>\n",
       "</table>\n",
       "<p>354 rows × 2 columns</p>\n",
       "</div>"
      ],
      "text/plain": [
       "           RM     LSTAT\n",
       "0    0.834266 -1.012721\n",
       "1    0.376671  0.459730\n",
       "2    0.555576 -2.459915\n",
       "3   -0.438459  0.728729\n",
       "4   -1.363287  0.007105\n",
       "..        ...       ...\n",
       "349  0.685519  0.208505\n",
       "350  1.505040  2.759711\n",
       "351 -0.359778  0.757598\n",
       "352  0.641518  0.094344\n",
       "353  0.810790  0.612877\n",
       "\n",
       "[354 rows x 2 columns]"
      ]
     },
     "execution_count": 53,
     "metadata": {},
     "output_type": "execute_result"
    }
   ],
   "source": [
    "pca = dec.PCA(n_components=2, whiten=True)\n",
    "pca.fit(x_train)\n",
    "x_train_white = pd.DataFrame(pca.transform(x_train), columns=inputs.columns)\n",
    "x_train_white\n"
   ]
  },
  {
   "cell_type": "code",
   "execution_count": 54,
   "metadata": {},
   "outputs": [],
   "source": [
    "# Create a new neural network.\n",
    "m = kr.models.Sequential()\n",
    "\n",
    "# Add a single neuron in a single layer, initialised with weight 1 and bias 0.\n",
    "m.add(kr.layers.Dense(100, input_dim=2, activation=\"relu\"))\n",
    "m.add(kr.layers.Dense(100, activation=\"relu\"))\n",
    "m.add(kr.layers.Dense(50, activation=\"relu\"))\n",
    "m.add(kr.layers.Dense(1))\n",
    "# Compile the model.\n",
    "m.compile(loss=\"mse\", optimizer=\"Adam\",metrics=['mae'])"
   ]
  },
  {
   "cell_type": "code",
   "execution_count": 55,
   "metadata": {},
   "outputs": [
    {
     "name": "stdout",
     "output_type": "stream",
     "text": [
      "Epoch 1/50\n",
      "354/354 [==============================] - 1s 2ms/step - loss: 22.1304\n",
      "Epoch 2/50\n",
      "354/354 [==============================] - 0s 181us/step - loss: 20.5612\n",
      "Epoch 3/50\n",
      "354/354 [==============================] - 0s 198us/step - loss: 16.6659\n",
      "Epoch 4/50\n",
      "354/354 [==============================] - 0s 203us/step - loss: 9.9501\n",
      "Epoch 5/50\n",
      "354/354 [==============================] - 0s 167us/step - loss: 6.2714\n",
      "Epoch 6/50\n",
      "354/354 [==============================] - 0s 158us/step - loss: 5.2631\n",
      "Epoch 7/50\n",
      "354/354 [==============================] - 0s 158us/step - loss: 4.8737\n",
      "Epoch 8/50\n",
      "354/354 [==============================] - 0s 169us/step - loss: 4.4958\n",
      "Epoch 9/50\n",
      "354/354 [==============================] - 0s 181us/step - loss: 4.1436\n",
      "Epoch 10/50\n",
      "354/354 [==============================] - 0s 189us/step - loss: 3.8857\n",
      "Epoch 11/50\n",
      "354/354 [==============================] - 0s 161us/step - loss: 3.6511\n",
      "Epoch 12/50\n",
      "354/354 [==============================] - 0s 161us/step - loss: 3.5215\n",
      "Epoch 13/50\n",
      "354/354 [==============================] - 0s 181us/step - loss: 3.5151\n",
      "Epoch 14/50\n",
      "354/354 [==============================] - 0s 181us/step - loss: 3.3813\n",
      "Epoch 15/50\n",
      "354/354 [==============================] - 0s 164us/step - loss: 3.3402\n",
      "Epoch 16/50\n",
      "354/354 [==============================] - 0s 167us/step - loss: 3.2794\n",
      "Epoch 17/50\n",
      "354/354 [==============================] - 0s 158us/step - loss: 3.2688\n",
      "Epoch 18/50\n",
      "354/354 [==============================] - 0s 161us/step - loss: 3.3471\n",
      "Epoch 19/50\n",
      "354/354 [==============================] - 0s 186us/step - loss: 3.1866\n",
      "Epoch 20/50\n",
      "354/354 [==============================] - 0s 161us/step - loss: 3.1942\n",
      "Epoch 21/50\n",
      "354/354 [==============================] - 0s 209us/step - loss: 3.1500\n",
      "Epoch 22/50\n",
      "354/354 [==============================] - 0s 200us/step - loss: 3.1609\n",
      "Epoch 23/50\n",
      "354/354 [==============================] - 0s 164us/step - loss: 3.1247\n",
      "Epoch 24/50\n",
      "354/354 [==============================] - 0s 161us/step - loss: 3.1221\n",
      "Epoch 25/50\n",
      "354/354 [==============================] - 0s 161us/step - loss: 3.1883\n",
      "Epoch 26/50\n",
      "354/354 [==============================] - 0s 161us/step - loss: 3.1329\n",
      "Epoch 27/50\n",
      "354/354 [==============================] - 0s 189us/step - loss: 3.1944\n",
      "Epoch 28/50\n",
      "354/354 [==============================] - 0s 167us/step - loss: 3.1160\n",
      "Epoch 29/50\n",
      "354/354 [==============================] - 0s 169us/step - loss: 3.0959\n",
      "Epoch 30/50\n",
      "354/354 [==============================] - 0s 260us/step - loss: 3.1221\n",
      "Epoch 31/50\n",
      "354/354 [==============================] - 0s 164us/step - loss: 3.1988\n",
      "Epoch 32/50\n",
      "354/354 [==============================] - 0s 186us/step - loss: 3.0532\n",
      "Epoch 33/50\n",
      "354/354 [==============================] - 0s 192us/step - loss: 3.0818\n",
      "Epoch 34/50\n",
      "354/354 [==============================] - 0s 158us/step - loss: 3.0692\n",
      "Epoch 35/50\n",
      "354/354 [==============================] - 0s 178us/step - loss: 3.0719\n",
      "Epoch 36/50\n",
      "354/354 [==============================] - 0s 175us/step - loss: 3.1158\n",
      "Epoch 37/50\n",
      "354/354 [==============================] - 0s 184us/step - loss: 3.0768\n",
      "Epoch 38/50\n",
      "354/354 [==============================] - 0s 212us/step - loss: 3.0297\n",
      "Epoch 39/50\n",
      "354/354 [==============================] - 0s 203us/step - loss: 3.0089\n",
      "Epoch 40/50\n",
      "354/354 [==============================] - 0s 158us/step - loss: 3.0600\n",
      "Epoch 41/50\n",
      "354/354 [==============================] - 0s 161us/step - loss: 2.9917\n",
      "Epoch 42/50\n",
      "354/354 [==============================] - 0s 158us/step - loss: 2.9974\n",
      "Epoch 43/50\n",
      "354/354 [==============================] - 0s 186us/step - loss: 2.9906\n",
      "Epoch 44/50\n",
      "354/354 [==============================] - 0s 192us/step - loss: 3.0591\n",
      "Epoch 45/50\n",
      "354/354 [==============================] - 0s 192us/step - loss: 3.0668\n",
      "Epoch 46/50\n",
      "354/354 [==============================] - 0s 167us/step - loss: 3.0180\n",
      "Epoch 47/50\n",
      "354/354 [==============================] - 0s 195us/step - loss: 2.9925\n",
      "Epoch 48/50\n",
      "354/354 [==============================] - 0s 184us/step - loss: 2.9945\n",
      "Epoch 49/50\n",
      "354/354 [==============================] - 0s 161us/step - loss: 2.9989\n",
      "Epoch 50/50\n",
      "354/354 [==============================] - 0s 161us/step - loss: 2.9869\n"
     ]
    },
    {
     "data": {
      "text/plain": [
       "<keras.callbacks.callbacks.History at 0x258352dbf48>"
      ]
     },
     "execution_count": 55,
     "metadata": {},
     "output_type": "execute_result"
    }
   ],
   "source": [
    "m.fit(x_train_white, y_train, epochs=50, batch_size=25)"
   ]
  },
  {
   "cell_type": "code",
   "execution_count": 56,
   "metadata": {},
   "outputs": [
    {
     "data": {
      "text/plain": [
       "array([[23., 19., 19., 23., 15., 21., 16., 22., 19., 23., 14., 20., 24.,\n",
       "        31., 19., 21., 15.,  9., 16., 22., 18., 11., 28., 21., 27., 22.,\n",
       "        13., 24., 28., 18., 23., 28., 21., 14., 13., 21., 16., 20., 25.,\n",
       "        23., 10., 23., 23., 16., 25., 21., 14.,  9., 31., 21., 16., 13.,\n",
       "        10., 25., 20., 13., 11., 19., 24., 16., 18., 53., 22., 21., 25.,\n",
       "        14., 22., 23., 28., 17., 18., 11., 23., 14., 21., 23., 24., 24.,\n",
       "        19., 10., 21., 19., 27., 27., 28., 13., 26., 28., 10., 23., 28.,\n",
       "        22., 23., 20., 17., 19., 23.,  9., 23., 22., 22., 16., 14., 28.,\n",
       "        27., 31., 17., 24., 22., 10., 25., 19., 20., 23., 22., 19., 22.,\n",
       "        26., 16., 23., 27., 17., 24., 26., 20., 21., 13., 21., 12., 19.,\n",
       "        24.,  9., 19., 19., 21., 18., 23., 12., 36., 16., 26., 12., 28.,\n",
       "        26., 21., 26., 24., 19., 16., 21., 20., 19.]], dtype=float32)"
      ]
     },
     "execution_count": 56,
     "metadata": {},
     "output_type": "execute_result"
    }
   ],
   "source": [
    "x_test_white = scaler.transform(x_test)\n",
    "m.predict(x_test_white).round().T"
   ]
  },
  {
   "cell_type": "code",
   "execution_count": 57,
   "metadata": {},
   "outputs": [
    {
     "name": "stderr",
     "output_type": "stream",
     "text": [
      "C:\\Users\\Donal\\Anaconda3\\lib\\site-packages\\ipykernel_launcher.py:1: FutureWarning: Method .as_matrix will be removed in a future version. Use .values instead.\n",
      "  \"\"\"Entry point for launching an IPython kernel.\n"
     ]
    },
    {
     "data": {
      "text/plain": [
       "array([19.8, 13.1, 28.7, 21.7, 23.7, 24.1, 28.4, 14.5, 24.2, 19.8, 31.1,\n",
       "       16.1, 19.4, 18.2, 23.8, 10.9, 27.5, 42.8, 21. ,  6.3, 23.3, 43.5,\n",
       "       27.9, 16.6, 14.4, 20.4, 34.9, 21.1, 16.3,  9.5, 21.2, 15. , 22.2,\n",
       "       30.1, 37. , 13.6, 28.7, 15.2, 20.3, 19.7, 50. , 16. , 18.9, 29.1,\n",
       "       11.5, 19.6, 26.5, 50. ,  7. , 20.6, 13.3, 28.7, 48.5, 18.7, 18.1,\n",
       "       34.9, 39.8, 24.6, 20. , 30.1, 12.1, 23.1, 24.7, 21.5, 18.7, 29.8,\n",
       "       23.4, 17.4, 21. , 24.1,  9.6, 46.7, 20.3, 22. , 20.1, 19.6, 14.3,\n",
       "       15.6, 10.2, 45.4, 22.5, 24.5,  9.7,  7.4, 21.8, 23.6, 19.3, 11.8,\n",
       "       46. , 23.9, 20.6, 17.4, 15.7, 12.6, 13.4, 15. , 24.3, 41.7, 10.2,\n",
       "       22.6, 18.3, 26.6, 32. , 13.8, 16.2, 20.2, 16.5, 17.2, 19. , 50. ,\n",
       "       22.6, 13. , 19.4, 25. , 21.4, 17.1, 21.4, 18.9, 23.9, 19.5, 22.6,\n",
       "       30.8, 23.7, 18.5, 17.8, 23. , 26.6, 21.4, 31.6, 25. , 20.6, 50. ,\n",
       "       22.9, 17.1, 20.5, 15.4, 22.9, 37.3, 21.9, 25.1, 19.6, 36. , 18.6,\n",
       "       13.8, 11.7, 20.4, 21.7, 23.2, 14.9,  5.6, 22.6, 16.1],\n",
       "      dtype=float32)"
      ]
     },
     "execution_count": 57,
     "metadata": {},
     "output_type": "execute_result"
    }
   ],
   "source": [
    "y_test.as_matrix().astype(np.float32)"
   ]
  },
  {
   "cell_type": "code",
   "execution_count": 58,
   "metadata": {},
   "outputs": [
    {
     "name": "stdout",
     "output_type": "stream",
     "text": [
      "9.799253664518657\n"
     ]
    }
   ],
   "source": [
    "scores = m.evaluate(x_test_white, y_test, verbose=0)\n",
    "print (scores)"
   ]
  },
  {
   "cell_type": "markdown",
   "metadata": {},
   "source": [
    "## References"
   ]
  },
  {
   "cell_type": "markdown",
   "metadata": {},
   "source": [
    "[1] Delve 1996, 'The Boston Housing Datset', retrieved from https://www.cs.toronto.edu/~delve/data/boston/bostonDetail.html\n"
   ]
  },
  {
   "cell_type": "markdown",
   "metadata": {},
   "source": [
    "[2] Harrison, D. & Rubinfeld, D.L. (1978). \"Hedonic prices and the demand for clean air\", J. Environ. Economics & Management, vol.5, 81-102"
   ]
  },
  {
   "cell_type": "markdown",
   "metadata": {},
   "source": [
    "[3] Haydar A, \"learning-data-science-day-9-linear-regression-on-boston-housing-dataset\", retrieved from https://medium.com/@haydar_ai/learning-data-science-day-9-linear-regression-on-boston-housing-dataset-cd62a80775ef"
   ]
  },
  {
   "cell_type": "markdown",
   "metadata": {},
   "source": [
    "[4] Animesh A, \"Linear Regression on Boston Housing Dataset\", retrieved from https://towardsdatascience.com/linear-regression-on-boston-housing-dataset-f409b7e4a155"
   ]
  },
  {
   "cell_type": "markdown",
   "metadata": {},
   "source": [
    "[5] Randerson, \"Predict Boston House Prices Using Python & Linear Regression\", retrieved from https://levelup.gitconnected.com/predict-boston-house-prices-using-python-linear-regression-90469e0a341"
   ]
  },
  {
   "cell_type": "markdown",
   "metadata": {},
   "source": [
    "[6] Ng R, \"Machine-learning-project-boston-home-prices\", retrieved from https://www.ritchieng.com/machine-learning-project-boston-home-prices/"
   ]
  },
  {
   "cell_type": "markdown",
   "metadata": {},
   "source": [
    "[7] 'Why use Keras', retrieved from https://keras.io/why-use-keras/"
   ]
  },
  {
   "cell_type": "markdown",
   "metadata": {},
   "source": [
    "[8] Sharma AV, 'the-theory-of-everything/understanding-activation-functions-in-neural-networks' retrieved from https://medium.com/the-theory-of-everything/understanding-activation-functions-in-neural-networks-9491262884e0"
   ]
  },
  {
   "cell_type": "markdown",
   "metadata": {},
   "source": [
    "[9] Nicholson, C, \"A Beginner's Guide to Neural Networks and Deep Learning\", retrieved from https://skymind.ai/wiki/neural-network"
   ]
  },
  {
   "cell_type": "markdown",
   "metadata": {},
   "source": [
    "[10] Hardesty, L, \"Explained: Neural networks\" retrieved from http://news.mit.edu/2017/explained-neural-networks-deep-learning-0414"
   ]
  },
  {
   "cell_type": "markdown",
   "metadata": {},
   "source": [
    "[11] Walia, A, \"Types of Optimization Algorithms used in Neural Networks and Ways to Optimize Gradient Descent\",retreived from\n",
    "https://towardsdatascience.com/types-of-optimization-algorithms-used-in-neural-networks-and-ways-to-optimize-gradient-95ae5d39529f"
   ]
  },
  {
   "cell_type": "markdown",
   "metadata": {},
   "source": [
    "[12] Ahire J, \"Real world Applications of Artificial Neural Networks\", retrieved from https://medium.com/@jayeshbahire/real-world-applications-of-artificial-neural-networks-a6a6bc17ad6a"
   ]
  },
  {
   "cell_type": "markdown",
   "metadata": {},
   "source": [
    "[13] Parmar, R, \"Common Loss functions in machine learning\" retrieved from https://towardsdatascience.com/common-loss-functions-in-machine-learning-46af0ffc4d23"
   ]
  },
  {
   "cell_type": "markdown",
   "metadata": {},
   "source": [
    "[14] Brownlee, J, \"difference-between-a-batch-and-an-epoch\", retrieved from, https://machinelearningmastery.com/difference-between-a-batch-and-an-epoch/"
   ]
  },
  {
   "cell_type": "markdown",
   "metadata": {},
   "source": [
    "[15]Koehrsen, W,\"Overfitting vs. Underfitting: A Complete Example\" retrieved from https://towardsdatascience.com/overfitting-vs-underfitting-a-complete-example-d05dd7e19765"
   ]
  },
  {
   "cell_type": "code",
   "execution_count": null,
   "metadata": {},
   "outputs": [],
   "source": []
  }
 ],
 "metadata": {
  "kernelspec": {
   "display_name": "Python 3",
   "language": "python",
   "name": "python3"
  },
  "language_info": {
   "codemirror_mode": {
    "name": "ipython",
    "version": 3
   },
   "file_extension": ".py",
   "mimetype": "text/x-python",
   "name": "python",
   "nbconvert_exporter": "python",
   "pygments_lexer": "ipython3",
   "version": "3.7.4"
  }
 },
 "nbformat": 4,
 "nbformat_minor": 2
}

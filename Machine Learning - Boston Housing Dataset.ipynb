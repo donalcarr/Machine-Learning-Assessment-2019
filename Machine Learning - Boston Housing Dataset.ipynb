{
 "cells": [
  {
   "cell_type": "markdown",
   "metadata": {},
   "source": [
    "***"
   ]
  },
  {
   "cell_type": "markdown",
   "metadata": {},
   "source": [
    " <h1><center>Machine Learning - Boston Housing Dataset</center></h1> "
   ]
  },
  {
   "cell_type": "markdown",
   "metadata": {},
   "source": [
    "***"
   ]
  },
  {
   "cell_type": "markdown",
   "metadata": {},
   "source": [
    "\n",
    "![Boston](https://datasmarts.net/wp-content/uploads/2017/12/boston.jpeg)"
   ]
  },
  {
   "cell_type": "markdown",
   "metadata": {},
   "source": [
    "***"
   ]
  },
  {
   "cell_type": "markdown",
   "metadata": {},
   "source": [
    "## Introduction"
   ]
  },
  {
   "cell_type": "markdown",
   "metadata": {},
   "source": [
    "Boston Housing dataset contains information collected by the U.S Census Service concerning housing in the area of Boston Mass. It was originally published by Harrison, D. and Rubinfeld, D.L. `Hedonic prices and the demand for clean air', J. Environ. Economics & Management, vol.5, 81-102, 1978.[1]\n",
    "\n",
    "In this study Harrison and Rubinfield look at the problems associated with using housing market data for measuring the willingness to pay for clean air. MEDV, the median value of house prices is the dependent variable in this study and NOX, the nitrate oxides concentration is an indendent variable and a measure of air pollution. The paper makes the assumtpion that \n",
    "people will pay for better air pollution reflected in the housing value and go on to build a housing model to peredict if this is indeed the case.[2]\n",
    "\n",
    "My reasearch into the boston housing dataset has shown that is a popular machine learning dataset and commonly referenced\n",
    "in data science articles. Most of the articles focus on the variables with the highest correlation coefficient and\n",
    "then go on to do some linear regression modelling.  [3][4][5]. In an artice by Ritie Ng, he notes an intereseting point that\n",
    "\"16 data points have an 'MEDV' value of 50.0. These data points likely contain missing or censored values and have been removed\".[6] \n",
    "\n",
    "Within the dataset , there are 506 rows, 14 attributes with the MEDV usually being the target attribute. The definitions of these attributes are outlined in the cells below. \n",
    "\n",
    "\n",
    "Next I will outline the project requirements:"
   ]
  },
  {
   "cell_type": "markdown",
   "metadata": {},
   "source": [
    "![ProjectSpecs.png](https://raw.githubusercontent.com/donalcarr/Datasets/master/ProjectSpecs.png)\n"
   ]
  },
  {
   "cell_type": "markdown",
   "metadata": {},
   "source": [
    "As per the project specifications, this notebook will be split into three sections starting with **descriptive** statistics on the\n",
    "boston housing dataset.\n",
    "\n",
    "First I will import the libraries needed to carry out my analysis."
   ]
  },
  {
   "cell_type": "code",
   "execution_count": 1,
   "metadata": {},
   "outputs": [],
   "source": [
    "#import python libraries for code execution\n",
    "%matplotlib inline\n",
    "\n",
    "import numpy as np\n",
    "import matplotlib.pyplot as plt \n",
    "\n",
    "import pandas as pd  \n",
    "import seaborn as sns \n",
    "import scipy.stats as ss"
   ]
  },
  {
   "cell_type": "markdown",
   "metadata": {},
   "source": [
    "***"
   ]
  },
  {
   "cell_type": "markdown",
   "metadata": {},
   "source": [
    "## ***Descriptive Statistics***"
   ]
  },
  {
   "cell_type": "markdown",
   "metadata": {},
   "source": [
    "Add Notes on what your doing"
   ]
  },
  {
   "cell_type": "code",
   "execution_count": 2,
   "metadata": {},
   "outputs": [],
   "source": [
    "#dataset is avaiable in the sklearn library so we import form there\n",
    "from sklearn.datasets import load_boston\n",
    "boston_dataset = load_boston()"
   ]
  },
  {
   "cell_type": "code",
   "execution_count": 3,
   "metadata": {},
   "outputs": [
    {
     "name": "stdout",
     "output_type": "stream",
     "text": [
      ".. _boston_dataset:\n",
      "\n",
      "Boston house prices dataset\n",
      "---------------------------\n",
      "\n",
      "**Data Set Characteristics:**  \n",
      "\n",
      "    :Number of Instances: 506 \n",
      "\n",
      "    :Number of Attributes: 13 numeric/categorical predictive. Median Value (attribute 14) is usually the target.\n",
      "\n",
      "    :Attribute Information (in order):\n",
      "        - CRIM     per capita crime rate by town\n",
      "        - ZN       proportion of residential land zoned for lots over 25,000 sq.ft.\n",
      "        - INDUS    proportion of non-retail business acres per town\n",
      "        - CHAS     Charles River dummy variable (= 1 if tract bounds river; 0 otherwise)\n",
      "        - NOX      nitric oxides concentration (parts per 10 million)\n",
      "        - RM       average number of rooms per dwelling\n",
      "        - AGE      proportion of owner-occupied units built prior to 1940\n",
      "        - DIS      weighted distances to five Boston employment centres\n",
      "        - RAD      index of accessibility to radial highways\n",
      "        - TAX      full-value property-tax rate per $10,000\n",
      "        - PTRATIO  pupil-teacher ratio by town\n",
      "        - B        1000(Bk - 0.63)^2 where Bk is the proportion of blacks by town\n",
      "        - LSTAT    % lower status of the population\n",
      "        - MEDV     Median value of owner-occupied homes in $1000's\n",
      "\n",
      "    :Missing Attribute Values: None\n",
      "\n",
      "    :Creator: Harrison, D. and Rubinfeld, D.L.\n",
      "\n",
      "This is a copy of UCI ML housing dataset.\n",
      "https://archive.ics.uci.edu/ml/machine-learning-databases/housing/\n",
      "\n",
      "\n",
      "This dataset was taken from the StatLib library which is maintained at Carnegie Mellon University.\n",
      "\n",
      "The Boston house-price data of Harrison, D. and Rubinfeld, D.L. 'Hedonic\n",
      "prices and the demand for clean air', J. Environ. Economics & Management,\n",
      "vol.5, 81-102, 1978.   Used in Belsley, Kuh & Welsch, 'Regression diagnostics\n",
      "...', Wiley, 1980.   N.B. Various transformations are used in the table on\n",
      "pages 244-261 of the latter.\n",
      "\n",
      "The Boston house-price data has been used in many machine learning papers that address regression\n",
      "problems.   \n",
      "     \n",
      ".. topic:: References\n",
      "\n",
      "   - Belsley, Kuh & Welsch, 'Regression diagnostics: Identifying Influential Data and Sources of Collinearity', Wiley, 1980. 244-261.\n",
      "   - Quinlan,R. (1993). Combining Instance-Based and Model-Based Learning. In Proceedings on the Tenth International Conference of Machine Learning, 236-243, University of Massachusetts, Amherst. Morgan Kaufmann.\n",
      "\n"
     ]
    }
   ],
   "source": [
    "#prints the variables and information about the dataset\n",
    "print(boston_dataset.DESCR)\n"
   ]
  },
  {
   "cell_type": "code",
   "execution_count": 4,
   "metadata": {},
   "outputs": [
    {
     "data": {
      "text/html": [
       "<div>\n",
       "<style scoped>\n",
       "    .dataframe tbody tr th:only-of-type {\n",
       "        vertical-align: middle;\n",
       "    }\n",
       "\n",
       "    .dataframe tbody tr th {\n",
       "        vertical-align: top;\n",
       "    }\n",
       "\n",
       "    .dataframe thead th {\n",
       "        text-align: right;\n",
       "    }\n",
       "</style>\n",
       "<table border=\"1\" class=\"dataframe\">\n",
       "  <thead>\n",
       "    <tr style=\"text-align: right;\">\n",
       "      <th></th>\n",
       "      <th>CRIM</th>\n",
       "      <th>ZN</th>\n",
       "      <th>INDUS</th>\n",
       "      <th>CHAS</th>\n",
       "      <th>NOX</th>\n",
       "      <th>RM</th>\n",
       "      <th>AGE</th>\n",
       "      <th>DIS</th>\n",
       "      <th>RAD</th>\n",
       "      <th>TAX</th>\n",
       "      <th>PTRATIO</th>\n",
       "      <th>B</th>\n",
       "      <th>LSTAT</th>\n",
       "    </tr>\n",
       "  </thead>\n",
       "  <tbody>\n",
       "    <tr>\n",
       "      <td>0</td>\n",
       "      <td>0.00632</td>\n",
       "      <td>18.0</td>\n",
       "      <td>2.31</td>\n",
       "      <td>0.0</td>\n",
       "      <td>0.538</td>\n",
       "      <td>6.575</td>\n",
       "      <td>65.2</td>\n",
       "      <td>4.0900</td>\n",
       "      <td>1.0</td>\n",
       "      <td>296.0</td>\n",
       "      <td>15.3</td>\n",
       "      <td>396.90</td>\n",
       "      <td>4.98</td>\n",
       "    </tr>\n",
       "    <tr>\n",
       "      <td>1</td>\n",
       "      <td>0.02731</td>\n",
       "      <td>0.0</td>\n",
       "      <td>7.07</td>\n",
       "      <td>0.0</td>\n",
       "      <td>0.469</td>\n",
       "      <td>6.421</td>\n",
       "      <td>78.9</td>\n",
       "      <td>4.9671</td>\n",
       "      <td>2.0</td>\n",
       "      <td>242.0</td>\n",
       "      <td>17.8</td>\n",
       "      <td>396.90</td>\n",
       "      <td>9.14</td>\n",
       "    </tr>\n",
       "    <tr>\n",
       "      <td>2</td>\n",
       "      <td>0.02729</td>\n",
       "      <td>0.0</td>\n",
       "      <td>7.07</td>\n",
       "      <td>0.0</td>\n",
       "      <td>0.469</td>\n",
       "      <td>7.185</td>\n",
       "      <td>61.1</td>\n",
       "      <td>4.9671</td>\n",
       "      <td>2.0</td>\n",
       "      <td>242.0</td>\n",
       "      <td>17.8</td>\n",
       "      <td>392.83</td>\n",
       "      <td>4.03</td>\n",
       "    </tr>\n",
       "    <tr>\n",
       "      <td>3</td>\n",
       "      <td>0.03237</td>\n",
       "      <td>0.0</td>\n",
       "      <td>2.18</td>\n",
       "      <td>0.0</td>\n",
       "      <td>0.458</td>\n",
       "      <td>6.998</td>\n",
       "      <td>45.8</td>\n",
       "      <td>6.0622</td>\n",
       "      <td>3.0</td>\n",
       "      <td>222.0</td>\n",
       "      <td>18.7</td>\n",
       "      <td>394.63</td>\n",
       "      <td>2.94</td>\n",
       "    </tr>\n",
       "    <tr>\n",
       "      <td>4</td>\n",
       "      <td>0.06905</td>\n",
       "      <td>0.0</td>\n",
       "      <td>2.18</td>\n",
       "      <td>0.0</td>\n",
       "      <td>0.458</td>\n",
       "      <td>7.147</td>\n",
       "      <td>54.2</td>\n",
       "      <td>6.0622</td>\n",
       "      <td>3.0</td>\n",
       "      <td>222.0</td>\n",
       "      <td>18.7</td>\n",
       "      <td>396.90</td>\n",
       "      <td>5.33</td>\n",
       "    </tr>\n",
       "  </tbody>\n",
       "</table>\n",
       "</div>"
      ],
      "text/plain": [
       "      CRIM    ZN  INDUS  CHAS    NOX     RM   AGE     DIS  RAD    TAX  \\\n",
       "0  0.00632  18.0   2.31   0.0  0.538  6.575  65.2  4.0900  1.0  296.0   \n",
       "1  0.02731   0.0   7.07   0.0  0.469  6.421  78.9  4.9671  2.0  242.0   \n",
       "2  0.02729   0.0   7.07   0.0  0.469  7.185  61.1  4.9671  2.0  242.0   \n",
       "3  0.03237   0.0   2.18   0.0  0.458  6.998  45.8  6.0622  3.0  222.0   \n",
       "4  0.06905   0.0   2.18   0.0  0.458  7.147  54.2  6.0622  3.0  222.0   \n",
       "\n",
       "   PTRATIO       B  LSTAT  \n",
       "0     15.3  396.90   4.98  \n",
       "1     17.8  396.90   9.14  \n",
       "2     17.8  392.83   4.03  \n",
       "3     18.7  394.63   2.94  \n",
       "4     18.7  396.90   5.33  "
      ]
     },
     "execution_count": 4,
     "metadata": {},
     "output_type": "execute_result"
    }
   ],
   "source": [
    "#creates a dataframe for analysing the dataset\n",
    "boston = pd.DataFrame(boston_dataset.data, columns=boston_dataset.feature_names)\n",
    "#.head gives me a view of the first 5 rows in the dataset\n",
    "boston.head()"
   ]
  },
  {
   "cell_type": "code",
   "execution_count": 5,
   "metadata": {},
   "outputs": [
    {
     "data": {
      "text/html": [
       "<div>\n",
       "<style scoped>\n",
       "    .dataframe tbody tr th:only-of-type {\n",
       "        vertical-align: middle;\n",
       "    }\n",
       "\n",
       "    .dataframe tbody tr th {\n",
       "        vertical-align: top;\n",
       "    }\n",
       "\n",
       "    .dataframe thead th {\n",
       "        text-align: right;\n",
       "    }\n",
       "</style>\n",
       "<table border=\"1\" class=\"dataframe\">\n",
       "  <thead>\n",
       "    <tr style=\"text-align: right;\">\n",
       "      <th></th>\n",
       "      <th>CRIM</th>\n",
       "      <th>ZN</th>\n",
       "      <th>INDUS</th>\n",
       "      <th>CHAS</th>\n",
       "      <th>NOX</th>\n",
       "      <th>RM</th>\n",
       "      <th>AGE</th>\n",
       "      <th>DIS</th>\n",
       "      <th>RAD</th>\n",
       "      <th>TAX</th>\n",
       "      <th>PTRATIO</th>\n",
       "      <th>B</th>\n",
       "      <th>LSTAT</th>\n",
       "    </tr>\n",
       "  </thead>\n",
       "  <tbody>\n",
       "    <tr>\n",
       "      <td>501</td>\n",
       "      <td>0.06263</td>\n",
       "      <td>0.0</td>\n",
       "      <td>11.93</td>\n",
       "      <td>0.0</td>\n",
       "      <td>0.573</td>\n",
       "      <td>6.593</td>\n",
       "      <td>69.1</td>\n",
       "      <td>2.4786</td>\n",
       "      <td>1.0</td>\n",
       "      <td>273.0</td>\n",
       "      <td>21.0</td>\n",
       "      <td>391.99</td>\n",
       "      <td>9.67</td>\n",
       "    </tr>\n",
       "    <tr>\n",
       "      <td>502</td>\n",
       "      <td>0.04527</td>\n",
       "      <td>0.0</td>\n",
       "      <td>11.93</td>\n",
       "      <td>0.0</td>\n",
       "      <td>0.573</td>\n",
       "      <td>6.120</td>\n",
       "      <td>76.7</td>\n",
       "      <td>2.2875</td>\n",
       "      <td>1.0</td>\n",
       "      <td>273.0</td>\n",
       "      <td>21.0</td>\n",
       "      <td>396.90</td>\n",
       "      <td>9.08</td>\n",
       "    </tr>\n",
       "    <tr>\n",
       "      <td>503</td>\n",
       "      <td>0.06076</td>\n",
       "      <td>0.0</td>\n",
       "      <td>11.93</td>\n",
       "      <td>0.0</td>\n",
       "      <td>0.573</td>\n",
       "      <td>6.976</td>\n",
       "      <td>91.0</td>\n",
       "      <td>2.1675</td>\n",
       "      <td>1.0</td>\n",
       "      <td>273.0</td>\n",
       "      <td>21.0</td>\n",
       "      <td>396.90</td>\n",
       "      <td>5.64</td>\n",
       "    </tr>\n",
       "    <tr>\n",
       "      <td>504</td>\n",
       "      <td>0.10959</td>\n",
       "      <td>0.0</td>\n",
       "      <td>11.93</td>\n",
       "      <td>0.0</td>\n",
       "      <td>0.573</td>\n",
       "      <td>6.794</td>\n",
       "      <td>89.3</td>\n",
       "      <td>2.3889</td>\n",
       "      <td>1.0</td>\n",
       "      <td>273.0</td>\n",
       "      <td>21.0</td>\n",
       "      <td>393.45</td>\n",
       "      <td>6.48</td>\n",
       "    </tr>\n",
       "    <tr>\n",
       "      <td>505</td>\n",
       "      <td>0.04741</td>\n",
       "      <td>0.0</td>\n",
       "      <td>11.93</td>\n",
       "      <td>0.0</td>\n",
       "      <td>0.573</td>\n",
       "      <td>6.030</td>\n",
       "      <td>80.8</td>\n",
       "      <td>2.5050</td>\n",
       "      <td>1.0</td>\n",
       "      <td>273.0</td>\n",
       "      <td>21.0</td>\n",
       "      <td>396.90</td>\n",
       "      <td>7.88</td>\n",
       "    </tr>\n",
       "  </tbody>\n",
       "</table>\n",
       "</div>"
      ],
      "text/plain": [
       "        CRIM   ZN  INDUS  CHAS    NOX     RM   AGE     DIS  RAD    TAX  \\\n",
       "501  0.06263  0.0  11.93   0.0  0.573  6.593  69.1  2.4786  1.0  273.0   \n",
       "502  0.04527  0.0  11.93   0.0  0.573  6.120  76.7  2.2875  1.0  273.0   \n",
       "503  0.06076  0.0  11.93   0.0  0.573  6.976  91.0  2.1675  1.0  273.0   \n",
       "504  0.10959  0.0  11.93   0.0  0.573  6.794  89.3  2.3889  1.0  273.0   \n",
       "505  0.04741  0.0  11.93   0.0  0.573  6.030  80.8  2.5050  1.0  273.0   \n",
       "\n",
       "     PTRATIO       B  LSTAT  \n",
       "501     21.0  391.99   9.67  \n",
       "502     21.0  396.90   9.08  \n",
       "503     21.0  396.90   5.64  \n",
       "504     21.0  393.45   6.48  \n",
       "505     21.0  396.90   7.88  "
      ]
     },
     "execution_count": 5,
     "metadata": {},
     "output_type": "execute_result"
    }
   ],
   "source": [
    "boston.tail()"
   ]
  },
  {
   "cell_type": "code",
   "execution_count": 6,
   "metadata": {},
   "outputs": [],
   "source": [
    "#add taget variable price to dataset\n",
    "boston[\"MEDV\"] = boston_dataset.target"
   ]
  },
  {
   "cell_type": "code",
   "execution_count": 7,
   "metadata": {},
   "outputs": [
    {
     "data": {
      "text/html": [
       "<div>\n",
       "<style scoped>\n",
       "    .dataframe tbody tr th:only-of-type {\n",
       "        vertical-align: middle;\n",
       "    }\n",
       "\n",
       "    .dataframe tbody tr th {\n",
       "        vertical-align: top;\n",
       "    }\n",
       "\n",
       "    .dataframe thead th {\n",
       "        text-align: right;\n",
       "    }\n",
       "</style>\n",
       "<table border=\"1\" class=\"dataframe\">\n",
       "  <thead>\n",
       "    <tr style=\"text-align: right;\">\n",
       "      <th></th>\n",
       "      <th>count</th>\n",
       "      <th>mean</th>\n",
       "      <th>std</th>\n",
       "      <th>min</th>\n",
       "      <th>25%</th>\n",
       "      <th>50%</th>\n",
       "      <th>75%</th>\n",
       "      <th>max</th>\n",
       "    </tr>\n",
       "  </thead>\n",
       "  <tbody>\n",
       "    <tr>\n",
       "      <td>CRIM</td>\n",
       "      <td>506.0</td>\n",
       "      <td>3.613524</td>\n",
       "      <td>8.601545</td>\n",
       "      <td>0.00632</td>\n",
       "      <td>0.082045</td>\n",
       "      <td>0.25651</td>\n",
       "      <td>3.677083</td>\n",
       "      <td>88.9762</td>\n",
       "    </tr>\n",
       "    <tr>\n",
       "      <td>ZN</td>\n",
       "      <td>506.0</td>\n",
       "      <td>11.363636</td>\n",
       "      <td>23.322453</td>\n",
       "      <td>0.00000</td>\n",
       "      <td>0.000000</td>\n",
       "      <td>0.00000</td>\n",
       "      <td>12.500000</td>\n",
       "      <td>100.0000</td>\n",
       "    </tr>\n",
       "    <tr>\n",
       "      <td>INDUS</td>\n",
       "      <td>506.0</td>\n",
       "      <td>11.136779</td>\n",
       "      <td>6.860353</td>\n",
       "      <td>0.46000</td>\n",
       "      <td>5.190000</td>\n",
       "      <td>9.69000</td>\n",
       "      <td>18.100000</td>\n",
       "      <td>27.7400</td>\n",
       "    </tr>\n",
       "    <tr>\n",
       "      <td>CHAS</td>\n",
       "      <td>506.0</td>\n",
       "      <td>0.069170</td>\n",
       "      <td>0.253994</td>\n",
       "      <td>0.00000</td>\n",
       "      <td>0.000000</td>\n",
       "      <td>0.00000</td>\n",
       "      <td>0.000000</td>\n",
       "      <td>1.0000</td>\n",
       "    </tr>\n",
       "    <tr>\n",
       "      <td>NOX</td>\n",
       "      <td>506.0</td>\n",
       "      <td>0.554695</td>\n",
       "      <td>0.115878</td>\n",
       "      <td>0.38500</td>\n",
       "      <td>0.449000</td>\n",
       "      <td>0.53800</td>\n",
       "      <td>0.624000</td>\n",
       "      <td>0.8710</td>\n",
       "    </tr>\n",
       "    <tr>\n",
       "      <td>RM</td>\n",
       "      <td>506.0</td>\n",
       "      <td>6.284634</td>\n",
       "      <td>0.702617</td>\n",
       "      <td>3.56100</td>\n",
       "      <td>5.885500</td>\n",
       "      <td>6.20850</td>\n",
       "      <td>6.623500</td>\n",
       "      <td>8.7800</td>\n",
       "    </tr>\n",
       "    <tr>\n",
       "      <td>AGE</td>\n",
       "      <td>506.0</td>\n",
       "      <td>68.574901</td>\n",
       "      <td>28.148861</td>\n",
       "      <td>2.90000</td>\n",
       "      <td>45.025000</td>\n",
       "      <td>77.50000</td>\n",
       "      <td>94.075000</td>\n",
       "      <td>100.0000</td>\n",
       "    </tr>\n",
       "    <tr>\n",
       "      <td>DIS</td>\n",
       "      <td>506.0</td>\n",
       "      <td>3.795043</td>\n",
       "      <td>2.105710</td>\n",
       "      <td>1.12960</td>\n",
       "      <td>2.100175</td>\n",
       "      <td>3.20745</td>\n",
       "      <td>5.188425</td>\n",
       "      <td>12.1265</td>\n",
       "    </tr>\n",
       "    <tr>\n",
       "      <td>RAD</td>\n",
       "      <td>506.0</td>\n",
       "      <td>9.549407</td>\n",
       "      <td>8.707259</td>\n",
       "      <td>1.00000</td>\n",
       "      <td>4.000000</td>\n",
       "      <td>5.00000</td>\n",
       "      <td>24.000000</td>\n",
       "      <td>24.0000</td>\n",
       "    </tr>\n",
       "    <tr>\n",
       "      <td>TAX</td>\n",
       "      <td>506.0</td>\n",
       "      <td>408.237154</td>\n",
       "      <td>168.537116</td>\n",
       "      <td>187.00000</td>\n",
       "      <td>279.000000</td>\n",
       "      <td>330.00000</td>\n",
       "      <td>666.000000</td>\n",
       "      <td>711.0000</td>\n",
       "    </tr>\n",
       "    <tr>\n",
       "      <td>PTRATIO</td>\n",
       "      <td>506.0</td>\n",
       "      <td>18.455534</td>\n",
       "      <td>2.164946</td>\n",
       "      <td>12.60000</td>\n",
       "      <td>17.400000</td>\n",
       "      <td>19.05000</td>\n",
       "      <td>20.200000</td>\n",
       "      <td>22.0000</td>\n",
       "    </tr>\n",
       "    <tr>\n",
       "      <td>B</td>\n",
       "      <td>506.0</td>\n",
       "      <td>356.674032</td>\n",
       "      <td>91.294864</td>\n",
       "      <td>0.32000</td>\n",
       "      <td>375.377500</td>\n",
       "      <td>391.44000</td>\n",
       "      <td>396.225000</td>\n",
       "      <td>396.9000</td>\n",
       "    </tr>\n",
       "    <tr>\n",
       "      <td>LSTAT</td>\n",
       "      <td>506.0</td>\n",
       "      <td>12.653063</td>\n",
       "      <td>7.141062</td>\n",
       "      <td>1.73000</td>\n",
       "      <td>6.950000</td>\n",
       "      <td>11.36000</td>\n",
       "      <td>16.955000</td>\n",
       "      <td>37.9700</td>\n",
       "    </tr>\n",
       "    <tr>\n",
       "      <td>MEDV</td>\n",
       "      <td>506.0</td>\n",
       "      <td>22.532806</td>\n",
       "      <td>9.197104</td>\n",
       "      <td>5.00000</td>\n",
       "      <td>17.025000</td>\n",
       "      <td>21.20000</td>\n",
       "      <td>25.000000</td>\n",
       "      <td>50.0000</td>\n",
       "    </tr>\n",
       "  </tbody>\n",
       "</table>\n",
       "</div>"
      ],
      "text/plain": [
       "         count        mean         std        min         25%        50%  \\\n",
       "CRIM     506.0    3.613524    8.601545    0.00632    0.082045    0.25651   \n",
       "ZN       506.0   11.363636   23.322453    0.00000    0.000000    0.00000   \n",
       "INDUS    506.0   11.136779    6.860353    0.46000    5.190000    9.69000   \n",
       "CHAS     506.0    0.069170    0.253994    0.00000    0.000000    0.00000   \n",
       "NOX      506.0    0.554695    0.115878    0.38500    0.449000    0.53800   \n",
       "RM       506.0    6.284634    0.702617    3.56100    5.885500    6.20850   \n",
       "AGE      506.0   68.574901   28.148861    2.90000   45.025000   77.50000   \n",
       "DIS      506.0    3.795043    2.105710    1.12960    2.100175    3.20745   \n",
       "RAD      506.0    9.549407    8.707259    1.00000    4.000000    5.00000   \n",
       "TAX      506.0  408.237154  168.537116  187.00000  279.000000  330.00000   \n",
       "PTRATIO  506.0   18.455534    2.164946   12.60000   17.400000   19.05000   \n",
       "B        506.0  356.674032   91.294864    0.32000  375.377500  391.44000   \n",
       "LSTAT    506.0   12.653063    7.141062    1.73000    6.950000   11.36000   \n",
       "MEDV     506.0   22.532806    9.197104    5.00000   17.025000   21.20000   \n",
       "\n",
       "                75%       max  \n",
       "CRIM       3.677083   88.9762  \n",
       "ZN        12.500000  100.0000  \n",
       "INDUS     18.100000   27.7400  \n",
       "CHAS       0.000000    1.0000  \n",
       "NOX        0.624000    0.8710  \n",
       "RM         6.623500    8.7800  \n",
       "AGE       94.075000  100.0000  \n",
       "DIS        5.188425   12.1265  \n",
       "RAD       24.000000   24.0000  \n",
       "TAX      666.000000  711.0000  \n",
       "PTRATIO   20.200000   22.0000  \n",
       "B        396.225000  396.9000  \n",
       "LSTAT     16.955000   37.9700  \n",
       "MEDV      25.000000   50.0000  "
      ]
     },
     "execution_count": 7,
     "metadata": {},
     "output_type": "execute_result"
    }
   ],
   "source": [
    "#TRANSFORM ROWS TO COLUMNS to get a view of the descriptive statistics for dataset\n",
    "\n",
    "boston.describe().T"
   ]
  },
  {
   "cell_type": "markdown",
   "metadata": {},
   "source": [
    "From the above summary statistics below is a description of the stats for the target variable MEDV. "
   ]
  },
  {
   "cell_type": "markdown",
   "metadata": {},
   "source": [
    "***"
   ]
  },
  {
   "cell_type": "markdown",
   "metadata": {},
   "source": [
    "### MEDV - Median House Value"
   ]
  },
  {
   "cell_type": "code",
   "execution_count": 8,
   "metadata": {},
   "outputs": [],
   "source": [
    "min_price = boston.MEDV.min()\n",
    "max_price = boston.MEDV.max()\n",
    "mean_price = boston.MEDV.mean()\n",
    "median_price = boston.MEDV.median()\n",
    "std_dev_price = boston.MEDV.std()"
   ]
  },
  {
   "cell_type": "code",
   "execution_count": 9,
   "metadata": {},
   "outputs": [
    {
     "name": "stdout",
     "output_type": "stream",
     "text": [
      "Min price: $5.0\n",
      "Max price: $50.0\n",
      "Mean price: $22.532806324110698\n",
      "Median price $21.2\n",
      "Standard deviation of prices: $9.19710408737982\n"
     ]
    }
   ],
   "source": [
    "print(\"Min price: ${}\".format(min_price)) \n",
    "print(\"Max price: ${}\".format(max_price))\n",
    "print(\"Mean price: ${}\".format(mean_price)) # error with round function unsure why (TO BE FIXED)\n",
    "print(\"Median price ${}\".format(median_price))\n",
    "print(\"Standard deviation of prices: ${}\".format(std_dev_price))"
   ]
  },
  {
   "cell_type": "code",
   "execution_count": 10,
   "metadata": {},
   "outputs": [
    {
     "data": {
      "image/png": "[encoded data removed]",
      "text/plain": [
       "<Figure size 842.4x595.44 with 1 Axes>"
      ]
     },
     "metadata": {},
     "output_type": "display_data"
    }
   ],
   "source": [
    "## plot histogram of median house prices to understand the distribution of the data\n",
    "sns.set(rc={'figure.figsize':(11.7,8.27)})\n",
    "sns.distplot(boston['MEDV'], bins=30)\n",
    "plt.show()"
   ]
  },
  {
   "cell_type": "markdown",
   "metadata": {},
   "source": [
    "The distribution of the data is close to a normall distribution with some skewness to the right between the 40,000 to 50,000 price range.Most of the data points are between the 10,000 to 30,000 range as per the descriptive statistics above the chart.\n",
    "\n",
    "Next I will get a more specific view of the outliers using a boxplot chart."
   ]
  },
  {
   "cell_type": "code",
   "execution_count": 11,
   "metadata": {},
   "outputs": [
    {
     "data": {
      "text/plain": [
       "<matplotlib.axes._subplots.AxesSubplot at 0x1fc83bf32c8>"
      ]
     },
     "execution_count": 11,
     "metadata": {},
     "output_type": "execute_result"
    },
    {
     "data": {
      "image/png": "[encoded data removed]",
      "text/plain": [
       "<Figure size 576x360 with 1 Axes>"
      ]
     },
     "metadata": {},
     "output_type": "display_data"
    }
   ],
   "source": [
    "# plot boxplot to understand outliers\n",
    "fig = plt.gcf()\n",
    "fig.set_size_inches( 8, 5)\n",
    "sns.set(style=\"whitegrid\")\n",
    "sns.boxplot(y=\"MEDV\",data=boston,color=\"red\")"
   ]
  },
  {
   "cell_type": "markdown",
   "metadata": {},
   "source": [
    "As per the histogram, I can see that the outliers are mostly in the range between 40 to 50 thousand. Interestingly,\n",
    "one outlier is priced at 5 housand which seems live a very low price for a home.\n",
    "\n",
    "As previous research into the data suggests that there is a correlation between RM, LSTAT and MEDV I will look at the plots for both of these independent variables."
   ]
  },
  {
   "cell_type": "markdown",
   "metadata": {},
   "source": [
    "***"
   ]
  },
  {
   "cell_type": "markdown",
   "metadata": {},
   "source": [
    "### LSTAT - Lower status of the population"
   ]
  },
  {
   "cell_type": "code",
   "execution_count": 12,
   "metadata": {},
   "outputs": [],
   "source": [
    "min_priceLSTAT = boston.LSTAT.min()\n",
    "max_priceLSTAT = boston.LSTAT.max()\n",
    "mean_priceLSTAT = boston.LSTAT.mean()\n",
    "median_priceLSTAT = boston.LSTAT.median()\n",
    "std_dev_priceLSTAT = boston.LSTAT.std()"
   ]
  },
  {
   "cell_type": "code",
   "execution_count": 13,
   "metadata": {},
   "outputs": [
    {
     "name": "stdout",
     "output_type": "stream",
     "text": [
      "Min: 1.73%\n",
      "Max: 37.97%\n",
      "Mean: 12.653063241106723%\n",
      "Median 11.36%\n",
      "Standard deviation: 7.141061511348571%\n"
     ]
    }
   ],
   "source": [
    "print(\"Min: {}%\".format(min_priceLSTAT)) \n",
    "print(\"Max: {}%\".format(max_priceLSTAT))\n",
    "print(\"Mean: {}%\".format(mean_priceLSTAT)) # error with round function unsure why (TO BE FIXED)\n",
    "print(\"Median {}%\".format(median_priceLSTAT))\n",
    "print(\"Standard deviation: {}%\".format(std_dev_priceLSTAT))"
   ]
  },
  {
   "cell_type": "code",
   "execution_count": 14,
   "metadata": {
    "scrolled": true
   },
   "outputs": [
    {
     "data": {
      "image/png": "[encoded data removed]",
      "text/plain": [
       "<Figure size 842.4x595.44 with 1 Axes>"
      ]
     },
     "metadata": {},
     "output_type": "display_data"
    }
   ],
   "source": [
    "sns.set(rc={'figure.figsize':(11.7,8.27)})\n",
    "sns.distplot(boston['LSTAT'], bins=50)\n",
    "plt.show()"
   ]
  },
  {
   "cell_type": "markdown",
   "metadata": {},
   "source": [
    "The distribution of the LSTAT is right skewed and this can be seen visually through the longer tail to the right \n",
    "and typicaaly the mean is greater than the median in right skewed distributions and this is the case here.\n",
    "\n",
    "Mean 12.65% > Median 11.36%\n",
    "\n",
    "LSTAT indicates the proportion of the population in that neigbourhood that are deemed to be of lower status. We can see that \n",
    "on average 11% of the population in these neighborhoods are deemed to be of lower status with some outliers in the 30 to 40% range[6]\n",
    "\n",
    "Next I will get a more specific view of the outliers using a boxplot chart."
   ]
  },
  {
   "cell_type": "code",
   "execution_count": 15,
   "metadata": {},
   "outputs": [
    {
     "data": {
      "text/plain": [
       "<matplotlib.axes._subplots.AxesSubplot at 0x1fc83fa5948>"
      ]
     },
     "execution_count": 15,
     "metadata": {},
     "output_type": "execute_result"
    },
    {
     "data": {
      "image/png": "[encoded data removed]",
      "text/plain": [
       "<Figure size 576x360 with 1 Axes>"
      ]
     },
     "metadata": {},
     "output_type": "display_data"
    }
   ],
   "source": [
    "# plot boxplot to understand outliers\n",
    "fig = plt.gcf()\n",
    "fig.set_size_inches( 8, 5)\n",
    "sns.set(style=\"whitegrid\")\n",
    "sns.boxplot(y=\"LSTAT\",data=boston,color=\"orange\")"
   ]
  },
  {
   "cell_type": "markdown",
   "metadata": {},
   "source": [
    "We can see that the outliers exist in the 30 to 35% range and most of the neighbourhoods have an LSTAT between 7 and 17%.\n",
    "\n",
    "The final variable I will investigate is RM average number of rooms per dwellling as this variable also had a strong correlation with MEDV according to previous articles."
   ]
  },
  {
   "cell_type": "markdown",
   "metadata": {},
   "source": [
    "***"
   ]
  },
  {
   "cell_type": "markdown",
   "metadata": {},
   "source": [
    "### RM - Average number of rooms per dwelling"
   ]
  },
  {
   "cell_type": "code",
   "execution_count": 16,
   "metadata": {},
   "outputs": [],
   "source": [
    "min_priceRM = boston.RM.min()\n",
    "max_priceRM = boston.RM.max()\n",
    "mean_priceRM = boston.RM.mean()\n",
    "median_priceRM = boston.RM.median()\n",
    "std_dev_priceRM = boston.RM.std()"
   ]
  },
  {
   "cell_type": "code",
   "execution_count": 17,
   "metadata": {},
   "outputs": [
    {
     "name": "stdout",
     "output_type": "stream",
     "text": [
      "Min: 3.561\n",
      "Max: 8.78\n",
      "Mean: 6.284634387351787\n",
      "Median 6.2085\n",
      "Standard deviation: 0.7026171434153237\n"
     ]
    }
   ],
   "source": [
    "print(\"Min: {}\".format(min_priceRM)) \n",
    "print(\"Max: {}\".format(max_priceRM))\n",
    "print(\"Mean: {}\".format(mean_priceRM)) # error with round function unsure why (TO BE FIXED)\n",
    "print(\"Median {}\".format(median_priceRM))\n",
    "print(\"Standard deviation: {}\".format(std_dev_priceRM))"
   ]
  },
  {
   "cell_type": "code",
   "execution_count": 18,
   "metadata": {},
   "outputs": [
    {
     "data": {
      "image/png": "[encoded data removed]",
      "text/plain": [
       "<Figure size 842.4x595.44 with 1 Axes>"
      ]
     },
     "metadata": {},
     "output_type": "display_data"
    }
   ],
   "source": [
    "sns.set(rc={'figure.figsize':(11.7,8.27)})\n",
    "sns.distplot(boston['RM'], bins=30)\n",
    "plt.show()"
   ]
  },
  {
   "cell_type": "markdown",
   "metadata": {},
   "source": [
    "We can see from the above histogram that population is normally distributed and very little skewness. A typical normally distribution\n",
    "would have an equal median and mean and this case both mean and median are at 6.2 rooms per dwelling. \n",
    "\n",
    "Next I will get a more specific view of the outliers using a boxplot chart."
   ]
  },
  {
   "cell_type": "code",
   "execution_count": 19,
   "metadata": {},
   "outputs": [
    {
     "data": {
      "text/plain": [
       "<matplotlib.axes._subplots.AxesSubplot at 0x1fc8410d4c8>"
      ]
     },
     "execution_count": 19,
     "metadata": {},
     "output_type": "execute_result"
    },
    {
     "data": {
      "image/png": "[encoded data removed]",
      "text/plain": [
       "<Figure size 576x360 with 1 Axes>"
      ]
     },
     "metadata": {},
     "output_type": "display_data"
    }
   ],
   "source": [
    "# plot boxplot to understand outliers\n",
    "fig = plt.gcf()\n",
    "fig.set_size_inches( 8, 5)\n",
    "sns.set(style=\"whitegrid\")\n",
    "sns.boxplot(y=\"RM\",data=boston,color=\"purple\")"
   ]
  },
  {
   "cell_type": "markdown",
   "metadata": {},
   "source": [
    "Boxplot indicates that the population centres around 6.2 rooms with outliers at over 8 rooms and less than 5. "
   ]
  },
  {
   "cell_type": "markdown",
   "metadata": {},
   "source": [
    "Next I will briefly look at the relationships btween the variables and then focus on the category variable CHAS Charles River dummy variable (= 1 if tract bounds river; 0 otherwise) and\n",
    "its relationship to MEDV."
   ]
  },
  {
   "cell_type": "markdown",
   "metadata": {},
   "source": [
    "***"
   ]
  },
  {
   "cell_type": "markdown",
   "metadata": {},
   "source": [
    "# Inferential Statistics"
   ]
  },
  {
   "cell_type": "markdown",
   "metadata": {},
   "source": [
    "Intuitively, one would expect the following relationships between LSTAT, RM, CHAS and MEDV:\n",
    "\n",
    "- linear relationship as more rooms equals more space, hence a higher MEDV\n",
    "\n",
    "- Where the LSTAT is lower one would expect the MEDV to be lowere as the neighborhhod may have issue with crime etc.\n",
    "\n",
    "- Houses in neighbourhoods that tracts the river would have higher values due to views of the river and poosibly less \n",
    "  congestion\n",
    "  \n",
    "Following on from those intuitions I will model the relationships bwtween the variables focusing on CHAS and MEDV relationship."
   ]
  },
  {
   "cell_type": "markdown",
   "metadata": {},
   "source": [
    "***"
   ]
  },
  {
   "cell_type": "markdown",
   "metadata": {},
   "source": [
    "### Correlation"
   ]
  },
  {
   "cell_type": "markdown",
   "metadata": {},
   "source": [
    "As already mentioned, previous research has indicated a strong relationship between LSTAT, RM and MEDV and the following\n",
    "heatmap replicates that view. "
   ]
  },
  {
   "cell_type": "code",
   "execution_count": 20,
   "metadata": {},
   "outputs": [
    {
     "data": {
      "text/plain": [
       "<matplotlib.axes._subplots.AxesSubplot at 0x1fc83f14348>"
      ]
     },
     "execution_count": 20,
     "metadata": {},
     "output_type": "execute_result"
    },
    {
     "data": {
      "image/png": "[encoded data removed]",
      "text/plain": [
       "<Figure size 842.4x595.44 with 2 Axes>"
      ]
     },
     "metadata": {},
     "output_type": "display_data"
    }
   ],
   "source": [
    "#set plot size\n",
    "sns.set(rc={'figure.figsize':(12.7,8.27)})\n",
    "# heatmap for correlation analysis\n",
    "sns.heatmap(boston.corr().round(2), square=True, annot=True,cmap ='coolwarm')\n"
   ]
  },
  {
   "cell_type": "markdown",
   "metadata": {},
   "source": [
    "The strongest positive correlations are displayed in dark green and the strongest negative correlations are displayed\n",
    "in red - between 1 and minus 1\n",
    "\n",
    "The dependent variable (target variable) is MEDV (median house value) and the strongest correlation is with\n",
    "LSTAT (lowest status of the poulation) -0.74 and RM 0.7. A correlation can also be seen between MEDV and RM (0.7) RM and LSTAT (-0.61), but there is no correlation between MEDV and CHAS. \n",
    "\n"
   ]
  },
  {
   "cell_type": "markdown",
   "metadata": {},
   "source": [
    " Following on from the correlation matrix we can look at a pairplot chart that models the linear relationship between \n",
    " MEDV, LSTAT and RM."
   ]
  },
  {
   "cell_type": "markdown",
   "metadata": {},
   "source": [
    "***"
   ]
  },
  {
   "cell_type": "markdown",
   "metadata": {},
   "source": [
    "### **Regression**"
   ]
  },
  {
   "cell_type": "code",
   "execution_count": 21,
   "metadata": {},
   "outputs": [
    {
     "data": {
      "image/png": "[encoded data removed]",
      "text/plain": [
       "<Figure size 576x360 with 2 Axes>"
      ]
     },
     "metadata": {},
     "output_type": "display_data"
    }
   ],
   "source": [
    "# regression plots\n",
    "sns.pairplot(boston, x_vars=[\"LSTAT\", \"RM\"], y_vars=[\"MEDV\"],\n",
    "            height=5, aspect=.8, kind=\"reg\",palette=\"husl\");\n"
   ]
  },
  {
   "cell_type": "code",
   "execution_count": 22,
   "metadata": {},
   "outputs": [
    {
     "data": {
      "text/plain": [
       "[<matplotlib.lines.Line2D at 0x1fc84546308>]"
      ]
     },
     "execution_count": 22,
     "metadata": {},
     "output_type": "execute_result"
    },
    {
     "data": {
      "image/png": "[encoded data removed]",
      "text/plain": [
       "<Figure size 576x360 with 1 Axes>"
      ]
     },
     "metadata": {},
     "output_type": "display_data"
    }
   ],
   "source": [
    "fig = plt.gcf()\n",
    "fig.set_size_inches( 8, 5)\n",
    "trend = np.polyfit(boston['RM'],boston['MEDV'],2)\n",
    "plt.plot(boston['RM'],boston['MEDV'],'.')\n",
    "trendpoly = np.poly1d(trend) \n",
    "plt.plot(boston['RM'],trendpoly(boston['RM']))\n"
   ]
  },
  {
   "cell_type": "code",
   "execution_count": 23,
   "metadata": {},
   "outputs": [
    {
     "data": {
      "text/plain": [
       "[<matplotlib.lines.Line2D at 0x1fc84550888>]"
      ]
     },
     "execution_count": 23,
     "metadata": {},
     "output_type": "execute_result"
    },
    {
     "data": {
      "image/png": "[encoded data removed]",
      "text/plain": [
       "<Figure size 576x360 with 1 Axes>"
      ]
     },
     "metadata": {},
     "output_type": "display_data"
    }
   ],
   "source": [
    "fig = plt.gcf()\n",
    "fig.set_size_inches( 8, 5)\n",
    "trend2 = np.polyfit(boston['LSTAT'],boston['MEDV'],2)\n",
    "plt.plot(boston['LSTAT'],boston['MEDV'],'.')\n",
    "trendpoly2 = np.poly1d(trend2) \n",
    "plt.plot(boston['LSTAT'],trendpoly2(boston['LSTAT']))"
   ]
  },
  {
   "cell_type": "markdown",
   "metadata": {},
   "source": [
    "We can see that there is a linear relationship between both variables and MEDV, although the population does not completely\n",
    "follow linearly with some outliers. A negative linear relationship exists between LSTAT and MEDV indicating that house prices\n",
    "are higher where the LSTAT is lower. \n",
    "A positive linear relationship exists between RM and MEDV indicating that house prices are higher for homes with more rooms. \n",
    "We can see see outlier in both charts e.g. houses with between 5 and 9 rooms commanding the max MEDV and this could be associated \n",
    "with location and build of the house."
   ]
  },
  {
   "cell_type": "markdown",
   "metadata": {},
   "source": [
    "***"
   ]
  },
  {
   "cell_type": "markdown",
   "metadata": {},
   "source": [
    "### CHAS - Charles River dummy variable (= 1 if tract bounds river; 0 otherwise)"
   ]
  },
  {
   "cell_type": "markdown",
   "metadata": {},
   "source": [
    "To start analysing the CHAS variable and its association with MEDV I need to first create a new category variable called CHAScat"
   ]
  },
  {
   "cell_type": "code",
   "execution_count": 24,
   "metadata": {},
   "outputs": [],
   "source": [
    "## create a new category variable to analyse CHAS\n",
    "boston[\"CHAScat\"] = boston[\"CHAS\"].astype('category')\n"
   ]
  },
  {
   "cell_type": "markdown",
   "metadata": {},
   "source": [
    "Next I want to know how many neighbourhoods bound the river"
   ]
  },
  {
   "cell_type": "code",
   "execution_count": 25,
   "metadata": {
    "scrolled": true
   },
   "outputs": [
    {
     "data": {
      "text/plain": [
       "CHAScat\n",
       "0.0    471\n",
       "1.0     35\n",
       "Name: MEDV, dtype: int64"
      ]
     },
     "execution_count": 25,
     "metadata": {},
     "output_type": "execute_result"
    }
   ],
   "source": [
    "## get count of neighbourhoods with houses that bounds or does not bound the river\n",
    "boston.groupby('CHAScat')['MEDV'].count()"
   ]
  },
  {
   "cell_type": "markdown",
   "metadata": {},
   "source": [
    "I can see that 35 neighbourhoods bound the river while 471 do not. Next I will mean and median to compare house prices and use boxplots to compare the \n",
    "median price of houses against the CHAScat variable to see if there is a difference in price. It will also give me a \n",
    "a view of the maximum and minimum values of both. \n"
   ]
  },
  {
   "cell_type": "code",
   "execution_count": 26,
   "metadata": {},
   "outputs": [
    {
     "name": "stdout",
     "output_type": "stream",
     "text": [
      "The median house price is: CHAScat\n",
      "0.0    20.9\n",
      "1.0    23.3\n",
      "Name: MEDV, dtype: float64\n",
      "The average house price is: CHAS\n",
      "0.0    22.093843\n",
      "1.0    28.440000\n",
      "Name: MEDV, dtype: float64\n"
     ]
    }
   ],
   "source": [
    "print(\"The median house price is:\",boston.groupby('CHAScat')['MEDV'].median())\n",
    "print(\"The average house price is:\",boston.groupby('CHAS')['MEDV'].mean())"
   ]
  },
  {
   "cell_type": "code",
   "execution_count": 27,
   "metadata": {
    "scrolled": true
   },
   "outputs": [
    {
     "data": {
      "text/plain": [
       "<matplotlib.axes._subplots.AxesSubplot at 0x1fc84579c88>"
      ]
     },
     "execution_count": 27,
     "metadata": {},
     "output_type": "execute_result"
    },
    {
     "data": {
      "image/png": "[encoded data removed]",
      "text/plain": [
       "<Figure size 432x288 with 1 Axes>"
      ]
     },
     "metadata": {
      "needs_background": "light"
     },
     "output_type": "display_data"
    }
   ],
   "source": [
    "%matplotlib inline\n",
    "sns.boxplot(x='CHAScat', y='MEDV', data=boston)"
   ]
  },
  {
   "cell_type": "markdown",
   "metadata": {},
   "source": [
    "The category labels X are defined as follows:\n",
    "- 1 represents neighbourhoods with land that bounds the river while;\n",
    "- 0 represents neighbourhoods that don't bound the river.\n",
    "\n",
    "One would expect that houses closer to the river would have higher median prices and we can see that the median house price is higher for 1 i.e. box plot on the right, although not significantly. \n",
    "\n",
    "The interquartile range (25 - 75% percentile) illustrated by the rectangle for category 1 starts and ends much higher, at over 200,000 up to over 300,000 for houses that tract the land. This indicates that land that tracts the river have higher median house values. "
   ]
  },
  {
   "cell_type": "markdown",
   "metadata": {},
   "source": [
    "Add commentary on distpolts - kutosis value and so on"
   ]
  },
  {
   "cell_type": "code",
   "execution_count": 28,
   "metadata": {},
   "outputs": [],
   "source": [
    "tract0 = boston['MEDV'][boston['CHAScat'] == 0]"
   ]
  },
  {
   "cell_type": "code",
   "execution_count": 29,
   "metadata": {},
   "outputs": [],
   "source": [
    "tract1 = boston['MEDV'][boston['CHAScat'] == 1]"
   ]
  },
  {
   "cell_type": "code",
   "execution_count": 30,
   "metadata": {
    "scrolled": false
   },
   "outputs": [
    {
     "data": {
      "image/png": "[encoded data removed]",
      "text/plain": [
       "<Figure size 1080x576 with 1 Axes>"
      ]
     },
     "metadata": {},
     "output_type": "display_data"
    }
   ],
   "source": [
    "sns.set(rc={'figure.figsize':(15,8)})\n",
    "sns.distplot(tract0, bins=50, label='Bounds river')\n",
    "sns.distplot(tract1, bins=50, label='Otherwise')\n",
    "plt.legend()\n",
    "plt.show()"
   ]
  },
  {
   "cell_type": "markdown",
   "metadata": {},
   "source": [
    "***"
   ]
  },
  {
   "cell_type": "markdown",
   "metadata": {},
   "source": [
    "### T-Test"
   ]
  },
  {
   "cell_type": "markdown",
   "metadata": {},
   "source": [
    "The following code cells give us an understanding of both populations i.e. mean, standard deviation of the distribution and\n",
    "how skewness of the distribution. When conducting a Ttest it is importand understand these basic statistics to choose the\n",
    "correct TTest. \n",
    "\n",
    "I decided to use a welch's Ttest to perform my analysis as the sample sizes will be different, will be unpaired and the  \n",
    "variance is also different. See cells below for sample sizes, standard devaiation and skewness\n",
    "\n",
    "The null hypoteseis for this Ttest is that the populations being tested tract 0 (houses not on the river tract) and tract1 (houses on river tract) are not statisticallly significantly different. \n",
    "\n",
    "If the P Value is less than 0.5 then we reject the null hypotesis and have more than 95% confidence that the conclusion of the test will be valid and not just down to random chance."
   ]
  },
  {
   "cell_type": "code",
   "execution_count": 31,
   "metadata": {},
   "outputs": [
    {
     "data": {
      "text/plain": [
       "CHAScat\n",
       "0.0     8.831362\n",
       "1.0    11.816643\n",
       "Name: MEDV, dtype: float64"
      ]
     },
     "execution_count": 31,
     "metadata": {},
     "output_type": "execute_result"
    }
   ],
   "source": [
    "##check for similar standard deviations \n",
    "boston.groupby('CHAScat')['MEDV'].std()"
   ]
  },
  {
   "cell_type": "code",
   "execution_count": 32,
   "metadata": {},
   "outputs": [
    {
     "data": {
      "text/plain": [
       "CHAScat\n",
       "0.0    22.093843\n",
       "1.0    28.440000\n",
       "Name: MEDV, dtype: float64"
      ]
     },
     "execution_count": 32,
     "metadata": {},
     "output_type": "execute_result"
    }
   ],
   "source": [
    "##check for similar means\n",
    "boston.groupby('CHAScat')['MEDV'].mean()"
   ]
  },
  {
   "cell_type": "code",
   "execution_count": 33,
   "metadata": {},
   "outputs": [
    {
     "data": {
      "text/plain": [
       "CHAScat\n",
       "0.0    471\n",
       "1.0     35\n",
       "Name: MEDV, dtype: int64"
      ]
     },
     "execution_count": 33,
     "metadata": {},
     "output_type": "execute_result"
    }
   ],
   "source": [
    "##check population sizes\n",
    "boston.groupby('CHAScat')['MEDV'].count()"
   ]
  },
  {
   "cell_type": "code",
   "execution_count": 34,
   "metadata": {},
   "outputs": [
    {
     "data": {
      "text/plain": [
       "CHAScat\n",
       "0.0    1.056908\n",
       "1.0    0.943012\n",
       "Name: MEDV, dtype: float64"
      ]
     },
     "execution_count": 34,
     "metadata": {},
     "output_type": "execute_result"
    }
   ],
   "source": [
    "##check for similar variances in population\n",
    "boston.groupby('CHAScat')['MEDV'].skew()"
   ]
  },
  {
   "cell_type": "code",
   "execution_count": 35,
   "metadata": {},
   "outputs": [],
   "source": [
    "import matplotlib.patches as mpatches"
   ]
  },
  {
   "cell_type": "code",
   "execution_count": 36,
   "metadata": {},
   "outputs": [
    {
     "data": {
      "text/plain": [
       "<matplotlib.legend.Legend at 0x1fc843b2208>"
      ]
     },
     "execution_count": 36,
     "metadata": {},
     "output_type": "execute_result"
    },
    {
     "data": {
      "image/png": "[encoded data removed]",
      "text/plain": [
       "<Figure size 1080x576 with 1 Axes>"
      ]
     },
     "metadata": {},
     "output_type": "display_data"
    }
   ],
   "source": [
    "green_patch = mpatches.Patch(color='g', label='Not on River tract')\n",
    "blue_patch = mpatches.Patch(color='b', label='On River tract')\n",
    "\n",
    "plt.hist(tract0, density=True, color='g', alpha=0.25)\n",
    "plt.hist(tract1, density=True, color='b', alpha=0.25)\n",
    "\n",
    "plt.legend(handles=[green_patch,blue_patch])"
   ]
  },
  {
   "cell_type": "code",
   "execution_count": 37,
   "metadata": {},
   "outputs": [
    {
     "data": {
      "text/plain": [
       "Ttest_indResult(statistic=-3.113291312794837, pvalue=0.003567170098137517)"
      ]
     },
     "execution_count": 37,
     "metadata": {},
     "output_type": "execute_result"
    }
   ],
   "source": [
    "#implement independent ttest\n",
    "ss.ttest_ind(tract0,tract1,equal_var = False)"
   ]
  },
  {
   "cell_type": "markdown",
   "metadata": {},
   "source": [
    "We can see that the pvalue is less than 0.5 and the null hypotesis can be rejected. Although both distributions\n",
    "over the median house values in both populations is statistically siginificantly different. "
   ]
  },
  {
   "cell_type": "markdown",
   "metadata": {},
   "source": [
    "## Predict using Keras Neural Networks"
   ]
  },
  {
   "cell_type": "markdown",
   "metadata": {},
   "source": [
    "![Neuron](https://s3.amazonaws.com/assets.datacamp.com/blog_assets/Keras+Python+Tutorial/content_content_neuron.png)"
   ]
  },
  {
   "cell_type": "markdown",
   "metadata": {},
   "source": [
    "#### What is a Neural Network? "
   ]
  },
  {
   "cell_type": "markdown",
   "metadata": {},
   "source": [
    "\"Neural networks are a set of *algorithms*, modeled loosely after the human brain, that are designed to *recognize patterns*. \n",
    "They interpret sensory data through a kind of machine perception, labeling or clustering raw input. \n",
    "The patterns they recognize are *numerical*, contained in *vectors*, into which all real-world data, be it images, sound, text or \n",
    "time series, must be translated.\" [9]\n",
    "\n",
    "Neural networks were first proposed in 1944 by Warren McCullough and Walter Pitts, two University of Chicago researchers who moved to MIT in 1952 as founding members of what’s sometimes called the first cognitive science department. [10] \n",
    "\n",
    "Although neural networks have been around for 70 years their application has been bolstored by the increasing processing power of computer chips."
   ]
  },
  {
   "cell_type": "markdown",
   "metadata": {},
   "source": [
    "#### How does a Neural Network work?"
   ]
  },
  {
   "cell_type": "markdown",
   "metadata": {},
   "source": [
    "Modeled loosely on the human brain, a neural net consists of thousands or even millions of simple processing **nodes** that are densely interconnected. Most of today’s neural nets are organized into **layers of nodes**, \n",
    "and they’re **feed-forward,** meaning that data moves through them in only one direction. \n",
    "An individual node might be **connected to several nodes** in the layer beneath it, from which it receives data, and several nodes in the layer above it, to which it sends data.\n",
    "\n",
    "\n"
   ]
  },
  {
   "cell_type": "markdown",
   "metadata": {},
   "source": [
    "To each of its incoming connections, a node will assign a number known as a **weight**. \n",
    "When the network is active, the node receives a different data item — a different number — over each of its connections and multiplies it by the associated weight. \n",
    "\n",
    "It then adds the resulting products together, yielding a single number. \n",
    "\n",
    "If that number is below a threshold value, the node passes no data to the next layer. \n",
    "\n",
    "If the number exceeds the threshold value,the node **fires** which in today’s neural nets generally means\n",
    "sending the number — the **sum of the weighted inputs** — along all its outgoing connections.[10]"
   ]
  },
  {
   "cell_type": "markdown",
   "metadata": {},
   "source": [
    "It is important to explain two functions that can radically change the output from your nodes and they are called the:\n",
    "\n",
    "     -  activation function and;\n",
    "     -  optimisation function\n",
    "    \n"
   ]
  },
  {
   "cell_type": "markdown",
   "metadata": {},
   "source": [
    "#### Activation function"
   ]
  },
  {
   "cell_type": "markdown",
   "metadata": {},
   "source": [
    "It is important to apply an activation function to introduce **non-linear** processing between the nodes otherwise\n",
    "nodes would do their processing linearly paasing output to to the next node and you would end up with a linear model i.e. \n",
    "linear regression. If the relationships between the variables are non-linear ther model will not train correctly as it will bypass datapoints not following a linear pattern resultung in **underfitting** which I will discuss shortly. Some commonly used activation functions are:\n",
    "    - CUBE\n",
    "    - RELU\n",
    "    - SIGMOID\n",
    "    - SOFTMAX\n",
    "    - TANH\n",
    "    \n",
    "Further on I will explain more about these functions as I will be using **RELU** as the activation function for my neural\n",
    "."
   ]
  },
  {
   "cell_type": "markdown",
   "metadata": {},
   "source": [
    "#### Optimisation function"
   ]
  },
  {
   "cell_type": "markdown",
   "metadata": {},
   "source": [
    "Optimisation functions play an important role in **minimising the loss** in the neural networks training process by for example \n",
    "rebalancing the weights according to the error produced from the output in each node. [11] Some commonly used functions are:\n",
    "\n",
    "    - ADADELTA\n",
    "    - ADAGRAD\n",
    "    - ADAM\n",
    "    - SGD\n",
    "    - LINE GRADIENT DESCENT\n",
    "       \n",
    "Further on I will explain more about these functions as I will be using **Adam** as the optimisation function for my neural\n",
    "network"
   ]
  },
  {
   "cell_type": "markdown",
   "metadata": {},
   "source": [
    "#### Loss , Epochs and Batch size"
   ]
  },
  {
   "cell_type": "markdown",
   "metadata": {},
   "source": [
    "**Loss:** It is a method to evaluate how well an algorithm models the data passed into the neural network.\n",
    "      Loss is usually classifed into two categories: **Classification** and **regression**; and depending on the relationships\n",
    "      between the variables you will choose an appropriate loss function, although not an exact science, yet! \n",
    "      Loss functions go hand in hand with optimisation function and ideally they should **learn to reduce error in predictions**\n",
    "      as neural network goes through various iterations of learning. [13] I will be using **Mean Absolute error** as the loss function for my model with an explanation of the function further on.\n",
    "\n",
    "**Epochs:** Epochs is the number of times the the learning algorithm will work through the entire dataset. For each epoch the learning algorithm's internal paramaters will ideally be fine tuned resulting in an improved loss on each iteration. \n",
    "\n",
    "**Batch:** The batch size determines how many samples the learning algorithm should pass over before the model is updated. Learning algorithm passes through each batch updating model parameters before moving onto the next epoch. As with epochs you need to adjust the batch sizes to see if the loss improves. [14]"
   ]
  },
  {
   "cell_type": "markdown",
   "metadata": {},
   "source": [
    "#### Underfitting and Overfitting models"
   ]
  },
  {
   "cell_type": "markdown",
   "metadata": {},
   "source": [
    "In lahmens terms a model is underfitted when it **fails to learn the relationships** between the data i.e. \n",
    "we get a linear relationship rather than a more curve linear relationship.\n",
    "\n",
    "A model is overfitted when there is **too much reliance** on the training data i.e. is too rigid and is of no use when random data\n",
    "is passed into the model. \n",
    "\n",
    "Therea are techniques to evaluate the performance of the model including holding back a **vaildation set** and a method called **cross-validation.** A validation set can be referred to as a pre-test where our training model is tested before being released on\n",
    "the test data. This gives the model a chance to improve its learning by validating the data on each iteration through the data. Using cross validation we split the training data into different subsets, or we can use multiple validation sets if we have lots of data.[15]"
   ]
  },
  {
   "cell_type": "markdown",
   "metadata": {},
   "source": [
    "#### Neural Networks and their application in real life"
   ]
  },
  {
   "cell_type": "markdown",
   "metadata": {},
   "source": [
    "**Classification**\n",
    "\n",
    "They typically use cross sectional data. Solving these problems entails ‘learning’ patterns in a data set and constructing a model that can recognize these patterns. Commercial artificial neural network applications of this nature include:\n",
    "\n",
    "    - Credit card fraud detection reportedly being used by Eurocard Nederland, Mellon Bank, First USA Bank\n",
    "    - Petroleum exploration being used by Texaco and Arco to determine locations of underground oil and gas deposits\n",
    "    \n",
    "**Time Series**\n",
    "\n",
    "Typically used build a forecasting model from the historical data set to predict future data points. Applications include:\n",
    "\n",
    "    - Foreign exchange trading systems: Citibank London\n",
    "    - Forecasting weather patterns\n",
    "    \n",
    "**Optimisation**\n",
    "\n",
    "Used for finding solutions for a set of very difficult problems known as Non-Polynomial (NP) complete problems. These problem require unsupervised learning approaches i.e. the model does not have outputs to train itself. Examples as follows:\n",
    "\n",
    "    - job-scheduling in manufacturing and; \n",
    "    - efficient routing problems involving vehicles or telecommunication [12]\n",
    "\n"
   ]
  },
  {
   "cell_type": "markdown",
   "metadata": {},
   "source": [
    "## Neural Network  - Median House Values"
   ]
  },
  {
   "cell_type": "markdown",
   "metadata": {},
   "source": [
    "In this section I build build three neural networks that are differentiated by how the variable are processed before being\n",
    "passed to the network.\n",
    "\n",
    "    - A neural network without preprocessing and standardisation of the variables\n",
    "    - A neural network with scaling and;\n",
    "    - A neural network with whitening\n",
    "\n",
    "I will use the independent variables RM and LSTAT my inputs as they have a **strong correlation** with **MEDV** which theoretically should assist the model in finding patterns in the data. These variables will then be trained on the target variable MEDV.\n",
    "\n",
    "It is important **not** to include features that are **highly intercorrelated** and as a rule of thumb variables with a correlation of higher than 0.7 should be excluded. RM and LSTAT have a correlation of -0.61. \n",
    "\n",
    "**Keras** library will be used as the **front-end API** for building the model and **tensorflow** library will carry out the calculations for the machine learning model. Keras has been broadly adopted by the\n",
    "research and industry community with over 250,000 users in 2018. [7] The single biggest benefit TensorFlow provides for machine learning development is **abstraction.** A user can concentrate on the logic of the model rather than the details of code.[16]\n",
    "\n",
    "**Sklearn** library will be used for splitting the data into training and testing samples while using the library for preprocessing\n",
    "in second and third neural network."
   ]
  },
  {
   "cell_type": "markdown",
   "metadata": {},
   "source": [
    "Now I will import the libraries mentioned above:"
   ]
  },
  {
   "cell_type": "code",
   "execution_count": 38,
   "metadata": {},
   "outputs": [
    {
     "name": "stderr",
     "output_type": "stream",
     "text": [
      "Using TensorFlow backend.\n"
     ]
    }
   ],
   "source": [
    "import keras as kr\n",
    "# For splitting the data\n",
    "import sklearn.preprocessing as pre\n",
    "# For splitting data sets.\n",
    "import sklearn.model_selection as mod\n",
    "# For whitening.\n",
    "import sklearn.decomposition as dec"
   ]
  },
  {
   "cell_type": "markdown",
   "metadata": {},
   "source": [
    "Next step is to assign the RM and LSTAT variables from boston dataframe to 'Inputs'"
   ]
  },
  {
   "cell_type": "code",
   "execution_count": 39,
   "metadata": {
    "scrolled": true
   },
   "outputs": [
    {
     "data": {
      "text/html": [
       "<div>\n",
       "<style scoped>\n",
       "    .dataframe tbody tr th:only-of-type {\n",
       "        vertical-align: middle;\n",
       "    }\n",
       "\n",
       "    .dataframe tbody tr th {\n",
       "        vertical-align: top;\n",
       "    }\n",
       "\n",
       "    .dataframe thead th {\n",
       "        text-align: right;\n",
       "    }\n",
       "</style>\n",
       "<table border=\"1\" class=\"dataframe\">\n",
       "  <thead>\n",
       "    <tr style=\"text-align: right;\">\n",
       "      <th></th>\n",
       "      <th>RM</th>\n",
       "      <th>LSTAT</th>\n",
       "    </tr>\n",
       "  </thead>\n",
       "  <tbody>\n",
       "    <tr>\n",
       "      <td>0</td>\n",
       "      <td>6.575</td>\n",
       "      <td>4.98</td>\n",
       "    </tr>\n",
       "    <tr>\n",
       "      <td>1</td>\n",
       "      <td>6.421</td>\n",
       "      <td>9.14</td>\n",
       "    </tr>\n",
       "    <tr>\n",
       "      <td>2</td>\n",
       "      <td>7.185</td>\n",
       "      <td>4.03</td>\n",
       "    </tr>\n",
       "    <tr>\n",
       "      <td>3</td>\n",
       "      <td>6.998</td>\n",
       "      <td>2.94</td>\n",
       "    </tr>\n",
       "    <tr>\n",
       "      <td>4</td>\n",
       "      <td>7.147</td>\n",
       "      <td>5.33</td>\n",
       "    </tr>\n",
       "  </tbody>\n",
       "</table>\n",
       "</div>"
      ],
      "text/plain": [
       "      RM  LSTAT\n",
       "0  6.575   4.98\n",
       "1  6.421   9.14\n",
       "2  7.185   4.03\n",
       "3  6.998   2.94\n",
       "4  7.147   5.33"
      ]
     },
     "execution_count": 39,
     "metadata": {},
     "output_type": "execute_result"
    }
   ],
   "source": [
    "#inputs for training the model\n",
    "inputs = boston[['RM','LSTAT']]\n",
    "inputs.head()"
   ]
  },
  {
   "cell_type": "markdown",
   "metadata": {},
   "source": [
    "Then assign 'MEDV' to the outputs variable"
   ]
  },
  {
   "cell_type": "code",
   "execution_count": 40,
   "metadata": {
    "scrolled": true
   },
   "outputs": [
    {
     "data": {
      "text/plain": [
       "0    24.0\n",
       "1    21.6\n",
       "2    34.7\n",
       "3    33.4\n",
       "4    36.2\n",
       "Name: MEDV, dtype: float64"
      ]
     },
     "execution_count": 40,
     "metadata": {},
     "output_type": "execute_result"
    }
   ],
   "source": [
    "# outputs for training the neural network\n",
    "outputs = boston['MEDV']\n",
    "outputs.head()"
   ]
  },
  {
   "cell_type": "markdown",
   "metadata": {},
   "source": [
    "This is an important step as we need to set the variables for training our neural network while holding back a\n",
    "percentage of the samples in the dataset for testing the training data once the model is built."
   ]
  },
  {
   "cell_type": "code",
   "execution_count": 41,
   "metadata": {},
   "outputs": [],
   "source": [
    "## https://scikit-learn.org/stable/modules/generated/sklearn.model_selection.train_test_split.html [17]\n",
    "x_train, x_test, y_train, y_test = mod.train_test_split(inputs, outputs, test_size=0.3)"
   ]
  },
  {
   "cell_type": "markdown",
   "metadata": {},
   "source": [
    "After assigning the variables into a and testing data the following code shoes the shape of the data. "
   ]
  },
  {
   "cell_type": "code",
   "execution_count": 80,
   "metadata": {
    "scrolled": true
   },
   "outputs": [
    {
     "name": "stdout",
     "output_type": "stream",
     "text": [
      "Training data:\n",
      "         RM  LSTAT\n",
      "280  7.820   3.76\n",
      "3    6.998   2.94\n",
      "189  7.185   5.39\n",
      "187  6.782   6.68\n",
      "25   5.599  16.51\n",
      "..     ...    ...\n",
      "260  7.203   9.59\n",
      "145  6.130  27.80\n",
      "137  6.454  14.59\n",
      "188  6.556   4.56\n",
      "76   6.279  11.97\n",
      "\n",
      "[354 rows x 2 columns] 280    45.4\n",
      "3      33.4\n",
      "189    34.9\n",
      "187    32.0\n",
      "25     13.9\n",
      "       ... \n",
      "260    33.8\n",
      "145    13.8\n",
      "137    17.1\n",
      "188    29.8\n",
      "76     20.0\n",
      "Name: MEDV, Length: 354, dtype: float64\n",
      "Test data:\n",
      "         RM  LSTAT\n",
      "270  5.856  13.00\n",
      "176  6.020  10.11\n",
      "108  6.474  12.27\n",
      "29   6.674  11.98\n",
      "152  5.012  12.12\n",
      "..     ...    ...\n",
      "237  7.358   4.73\n",
      "381  6.545  21.08\n",
      "64   7.104   8.05\n",
      "262  8.398   5.91\n",
      "396  6.405  19.37\n",
      "\n",
      "[152 rows x 2 columns] 270    21.1\n",
      "176    23.2\n",
      "108    19.8\n",
      "29     21.0\n",
      "152    15.3\n",
      "       ... \n",
      "237    31.5\n",
      "381    10.9\n",
      "64     33.0\n",
      "262    48.8\n",
      "396    12.5\n",
      "Name: MEDV, Length: 152, dtype: float64\n",
      "(354, 2) (354,)\n",
      "(152, 2) (152,)\n"
     ]
    }
   ],
   "source": [
    "## \n",
    "print (\"Training data:\\n\",x_train, y_train)\n",
    "print (\"Test data:\\n\" ,x_test, y_test)\n",
    "\n",
    "print (x_train.shape, y_train.shape)\n",
    "print (x_test.shape, y_test.shape)"
   ]
  },
  {
   "cell_type": "markdown",
   "metadata": {},
   "source": [
    "My data is now ready to be passed to be passed into the network but first I have to build the architecture\n",
    "of the network. The following points describe the methods chosen for building the model:\n",
    "\n",
    "**Sequential:** A sequential model is a linear stack of layers that are compiled in sequence i.e. first layer is compiled, \n",
    "    then the second layer and so on. I could of chosen a functional model that does not have to execute in sequence but as this\n",
    "    is a regression problem I feel sequential is the best fit. [18][19]\n",
    "\n",
    "**Dense:** Dense simply means that the layers are fully connected\n",
    "\n",
    "**input_dim:** Is the shape of the inputs to be passed into the model i.e. inputs RM and LSTAT\n",
    "\n",
    "**activation function:** I chose the activation function **relu** after some research and trials with other functions such as sigmiod and tanh. Relu function acts like a linear function, but is, in fact, a nonlinear function allowing complex relationships in the data to be learned. The function is linear for values greater than zero, meaning it has a lot of the desirable properties of a linear activation function when training a neural network. [20]. \n",
    "\n",
    "As the relationship between RM, LSTAT and MEDV has a high correlation and does have a linear relationship relu was chosen as the best fit for the first three hidden layers in the model. \n",
    "\n",
    "The ouput layer although not specified in the code will be linear as the model output is one continuous variable, that is MEDV.\n",
    "\n",
    "**Loss**\n",
    "    \n"
   ]
  },
  {
   "cell_type": "code",
   "execution_count": 43,
   "metadata": {},
   "outputs": [],
   "source": [
    "# Create a new neural network.\n",
    "m = kr.models.Sequential()\n",
    "\n",
    "# Add a single neuron in a single layer, initialised with weight 1 and bias 0.\n",
    "m.add(kr.layers.Dense(100, input_dim=2, activation=\"relu\"))\n",
    "m.add(kr.layers.Dense(100, activation=\"relu\"))\n",
    "m.add(kr.layers.Dense(50, activation=\"relu\"))\n",
    "m.add(kr.layers.Dense(1))\n",
    "# Compile the model.\n",
    "m.compile(loss=\"mean_absolute_error\", optimizer=\"Adam\")"
   ]
  },
  {
   "cell_type": "code",
   "execution_count": 44,
   "metadata": {},
   "outputs": [
    {
     "name": "stdout",
     "output_type": "stream",
     "text": [
      "Train on 318 samples, validate on 36 samples\n",
      "Epoch 1/50\n",
      "318/318 [==============================] - 6s 19ms/step - loss: 17.0053 - val_loss: 14.1531\n",
      "Epoch 2/50\n",
      "318/318 [==============================] - 0s 497us/step - loss: 11.8153 - val_loss: 13.1177\n",
      "Epoch 3/50\n",
      "318/318 [==============================] - 0s 577us/step - loss: 9.7265 - val_loss: 9.7606\n",
      "Epoch 4/50\n",
      "318/318 [==============================] - 0s 478us/step - loss: 6.4713 - val_loss: 5.9895\n",
      "Epoch 5/50\n",
      "318/318 [==============================] - 0s 387us/step - loss: 4.2558 - val_loss: 4.2044\n",
      "Epoch 6/50\n",
      "318/318 [==============================] - 0s 387us/step - loss: 4.1937 - val_loss: 3.4797\n",
      "Epoch 7/50\n",
      "318/318 [==============================] - 0s 431us/step - loss: 4.1190 - val_loss: 3.6992\n",
      "Epoch 8/50\n",
      "318/318 [==============================] - 0s 481us/step - loss: 3.9505 - val_loss: 3.7679\n",
      "Epoch 9/50\n",
      "318/318 [==============================] - 0s 372us/step - loss: 3.8086 - val_loss: 3.5571\n",
      "Epoch 10/50\n",
      "318/318 [==============================] - 0s 390us/step - loss: 3.8706 - val_loss: 3.4306\n",
      "Epoch 11/50\n",
      "318/318 [==============================] - 0s 556us/step - loss: 3.7657 - val_loss: 4.0465\n",
      "Epoch 12/50\n",
      "318/318 [==============================] - 0s 516us/step - loss: 3.7744 - val_loss: 3.5836\n",
      "Epoch 13/50\n",
      "318/318 [==============================] - 0s 377us/step - loss: 3.7227 - val_loss: 3.5964\n",
      "Epoch 14/50\n",
      "318/318 [==============================] - 0s 355us/step - loss: 3.7987 - val_loss: 3.6384\n",
      "Epoch 15/50\n",
      "318/318 [==============================] - 0s 368us/step - loss: 3.7174 - val_loss: 3.4294\n",
      "Epoch 16/50\n",
      "318/318 [==============================] - 0s 456us/step - loss: 3.6996 - val_loss: 3.8308\n",
      "Epoch 17/50\n",
      "318/318 [==============================] - 0s 349us/step - loss: 3.7924 - val_loss: 3.7527\n",
      "Epoch 18/50\n",
      "318/318 [==============================] - 0s 361us/step - loss: 3.8118 - val_loss: 3.4249\n",
      "Epoch 19/50\n",
      "318/318 [==============================] - 0s 355us/step - loss: 3.6599 - val_loss: 3.6010\n",
      "Epoch 20/50\n",
      "318/318 [==============================] - 0s 512us/step - loss: 3.6734 - val_loss: 3.5037\n",
      "Epoch 21/50\n",
      "318/318 [==============================] - 0s 487us/step - loss: 3.6957 - val_loss: 3.6817\n",
      "Epoch 22/50\n",
      "318/318 [==============================] - 0s 380us/step - loss: 3.6834 - val_loss: 3.4667\n",
      "Epoch 23/50\n",
      "318/318 [==============================] - 0s 352us/step - loss: 3.6988 - val_loss: 3.9320\n",
      "Epoch 24/50\n",
      "318/318 [==============================] - 0s 510us/step - loss: 3.7795 - val_loss: 3.5687\n",
      "Epoch 25/50\n",
      "318/318 [==============================] - 0s 500us/step - loss: 3.7115 - val_loss: 3.5094\n",
      "Epoch 26/50\n",
      "318/318 [==============================] - 0s 377us/step - loss: 3.6192 - val_loss: 3.6051\n",
      "Epoch 27/50\n",
      "318/318 [==============================] - 0s 349us/step - loss: 3.6383 - val_loss: 3.6032\n",
      "Epoch 28/50\n",
      "318/318 [==============================] - 0s 387us/step - loss: 3.6112 - val_loss: 3.4183\n",
      "Epoch 29/50\n",
      "318/318 [==============================] - 0s 380us/step - loss: 3.6690 - val_loss: 3.5473\n",
      "Epoch 30/50\n",
      "318/318 [==============================] - 0s 534us/step - loss: 3.8664 - val_loss: 3.6314\n",
      "Epoch 31/50\n",
      "318/318 [==============================] - 0s 387us/step - loss: 3.9167 - val_loss: 3.9663\n",
      "Epoch 32/50\n",
      "318/318 [==============================] - 0s 346us/step - loss: 3.6968 - val_loss: 3.6421\n",
      "Epoch 33/50\n",
      "318/318 [==============================] - 0s 340us/step - loss: 3.6562 - val_loss: 3.4770\n",
      "Epoch 34/50\n",
      "318/318 [==============================] - 0s 336us/step - loss: 3.6054 - val_loss: 3.5215\n",
      "Epoch 35/50\n",
      "318/318 [==============================] - 0s 475us/step - loss: 3.6922 - val_loss: 3.7750\n",
      "Epoch 36/50\n",
      "318/318 [==============================] - 0s 355us/step - loss: 3.6373 - val_loss: 3.7278\n",
      "Epoch 37/50\n",
      "318/318 [==============================] - 0s 371us/step - loss: 3.6270 - val_loss: 3.5004\n",
      "Epoch 38/50\n",
      "318/318 [==============================] - 0s 371us/step - loss: 3.6028 - val_loss: 3.4998\n",
      "Epoch 39/50\n",
      "318/318 [==============================] - 0s 374us/step - loss: 3.6109 - val_loss: 3.8005\n",
      "Epoch 40/50\n",
      "318/318 [==============================] - 0s 497us/step - loss: 3.8249 - val_loss: 3.5628\n",
      "Epoch 41/50\n",
      "318/318 [==============================] - 0s 484us/step - loss: 3.7079 - val_loss: 3.9311\n",
      "Epoch 42/50\n",
      "318/318 [==============================] - 0s 387us/step - loss: 3.7481 - val_loss: 3.8040\n",
      "Epoch 43/50\n",
      "318/318 [==============================] - ETA: 0s - loss: 3.570 - 0s 368us/step - loss: 3.6480 - val_loss: 3.5638\n",
      "Epoch 44/50\n",
      "318/318 [==============================] - 0s 355us/step - loss: 3.5854 - val_loss: 3.6054\n",
      "Epoch 45/50\n",
      "318/318 [==============================] - 0s 371us/step - loss: 3.5966 - val_loss: 3.6402\n",
      "Epoch 46/50\n",
      "318/318 [==============================] - 0s 412us/step - loss: 3.5962 - val_loss: 3.6220\n",
      "Epoch 47/50\n",
      "318/318 [==============================] - 0s 377us/step - loss: 3.5677 - val_loss: 3.6018\n",
      "Epoch 48/50\n",
      "318/318 [==============================] - 0s 374us/step - loss: 3.5523 - val_loss: 3.6645\n",
      "Epoch 49/50\n",
      "318/318 [==============================] - 0s 399us/step - loss: 3.5731 - val_loss: 3.6304\n",
      "Epoch 50/50\n",
      "318/318 [==============================] - 0s 484us/step - loss: 3.5807 - val_loss: 3.7074\n"
     ]
    }
   ],
   "source": [
    "history = m.fit(x_train, y_train, epochs=50, batch_size=25,validation_split=0.1)"
   ]
  },
  {
   "cell_type": "code",
   "execution_count": 45,
   "metadata": {
    "scrolled": true
   },
   "outputs": [
    {
     "name": "stdout",
     "output_type": "stream",
     "text": [
      "Model: \"sequential_1\"\n",
      "_________________________________________________________________\n",
      "Layer (type)                 Output Shape              Param #   \n",
      "=================================================================\n",
      "dense_1 (Dense)              (None, 100)               300       \n",
      "_________________________________________________________________\n",
      "dense_2 (Dense)              (None, 100)               10100     \n",
      "_________________________________________________________________\n",
      "dense_3 (Dense)              (None, 50)                5050      \n",
      "_________________________________________________________________\n",
      "dense_4 (Dense)              (None, 1)                 51        \n",
      "=================================================================\n",
      "Total params: 15,501\n",
      "Trainable params: 15,501\n",
      "Non-trainable params: 0\n",
      "_________________________________________________________________\n"
     ]
    }
   ],
   "source": [
    "m.summary()"
   ]
  },
  {
   "cell_type": "code",
   "execution_count": 46,
   "metadata": {
    "scrolled": true
   },
   "outputs": [],
   "source": [
    "predictions = m.predict(x_test).T"
   ]
  },
  {
   "cell_type": "code",
   "execution_count": 47,
   "metadata": {},
   "outputs": [
    {
     "name": "stderr",
     "output_type": "stream",
     "text": [
      "C:\\Users\\Donal\\Anaconda3\\lib\\site-packages\\ipykernel_launcher.py:2: FutureWarning: Method .as_matrix will be removed in a future version. Use .values instead.\n",
      "  \n"
     ]
    },
    {
     "data": {
      "text/plain": [
       "array([21.1, 23.2, 19.8, 21. , 15.3, 13.4, 13.3, 10.9, 15.7, 16.1, 22.2,\n",
       "       20.9, 18.9, 21.2, 23.1, 22.6,  7.5, 13.3, 23.3, 16.3, 21.2, 19.3,\n",
       "       23.1, 19.9, 11. , 19.3, 22. , 25. , 43.8, 21.8, 16.6, 19.2, 21.6,\n",
       "       29.4, 18.6, 20.7, 23.4, 30.7, 18.5, 12.3, 17.1, 15.6, 48.3, 25. ,\n",
       "       13.1, 21.7, 19.4,  9.6, 15.1, 13. , 20.6,  8.4, 16.8, 42.3, 16.7,\n",
       "       24.1, 25. , 32. ,  8.4, 24.1, 17.8, 19.5, 22.7, 14.5, 24.4, 50. ,\n",
       "       20.6, 32.7, 23.9, 32.9, 28.6, 22.6, 21.7, 19.3, 20.6, 23.4, 11.8,\n",
       "       29.6, 35.2, 23.1, 15.6,  7. , 34.9, 18.8,  7.2, 17.8, 23.6, 22.9,\n",
       "        7.4, 25. , 17. ,  8.5, 20.4, 32.4, 20.1, 14.1, 20.6, 18.9, 31.5,\n",
       "       20.8, 22.8, 36.4, 29. , 19.1, 18.7, 35.1, 23.8, 26.6,  8.1, 15.2,\n",
       "       23.2, 16.8, 28.2, 20. , 31.7,  7. , 24.4, 20. , 42.8, 27. , 33.1,\n",
       "       21.5,  5.6, 18.4, 12.8, 13.8, 19.5, 20.6, 11.5, 12.7, 22. , 11.3,\n",
       "       15.6, 24. , 20.1, 13.9, 23.9,  8.8, 23.5, 22.1, 14.3, 11.9, 25. ,\n",
       "       19.7, 19.6, 28.7, 23.9, 31.5, 10.9, 33. , 48.8, 12.5])"
      ]
     },
     "execution_count": 47,
     "metadata": {},
     "output_type": "execute_result"
    }
   ],
   "source": [
    "##turns pandas series into numpy array\n",
    "y_test.as_matrix()"
   ]
  },
  {
   "cell_type": "code",
   "execution_count": 48,
   "metadata": {},
   "outputs": [
    {
     "data": {
      "image/png": "[encoded data removed]",
      "text/plain": [
       "<Figure size 1080x576 with 1 Axes>"
      ]
     },
     "metadata": {},
     "output_type": "display_data"
    }
   ],
   "source": [
    "##Predicted MEDV vs Actual EDV\n",
    "sns.distplot(predictions, bins=40, label='Predicted MEDV')\n",
    "sns.distplot(y_test, bins=40, label='Actual MEDV')\n",
    "plt.legend()\n",
    "plt.show()"
   ]
  },
  {
   "cell_type": "code",
   "execution_count": 49,
   "metadata": {
    "scrolled": false
   },
   "outputs": [
    {
     "name": "stdout",
     "output_type": "stream",
     "text": [
      "dict_keys(['val_loss', 'loss'])\n"
     ]
    }
   ],
   "source": [
    "print(history.history.keys())"
   ]
  },
  {
   "cell_type": "code",
   "execution_count": 50,
   "metadata": {},
   "outputs": [
    {
     "data": {
      "image/png": "[encoded data removed]",
      "text/plain": [
       "<Figure size 1080x576 with 1 Axes>"
      ]
     },
     "metadata": {},
     "output_type": "display_data"
    }
   ],
   "source": [
    "##https://keras.io/visualization/\n",
    "# Plot training & validation loss values\n",
    "plt.plot(history.history['loss'])\n",
    "plt.plot(history.history['val_loss'])\n",
    "plt.title('Model loss')\n",
    "plt.ylabel('Loss')\n",
    "plt.xlabel('Epoch')\n",
    "plt.legend(['Train', 'Test'], loc='upper left')\n",
    "plt.show()"
   ]
  },
  {
   "cell_type": "code",
   "execution_count": null,
   "metadata": {
    "scrolled": true
   },
   "outputs": [],
   "source": []
  },
  {
   "cell_type": "code",
   "execution_count": 51,
   "metadata": {},
   "outputs": [
    {
     "name": "stderr",
     "output_type": "stream",
     "text": [
      "C:\\Users\\Donal\\Anaconda3\\lib\\site-packages\\ipykernel_launcher.py:2: FutureWarning: Method .as_matrix will be removed in a future version. Use .values instead.\n",
      "  \n"
     ]
    },
    {
     "data": {
      "text/plain": [
       "1817.0901828470696"
      ]
     },
     "execution_count": 51,
     "metadata": {},
     "output_type": "execute_result"
    }
   ],
   "source": [
    "##.T turns rows into columns / get squared mean difference to see difference between the output from model and the dataset outputs\n",
    "np.sum((m.predict(x_test).T - y_test.as_matrix())**2)"
   ]
  },
  {
   "cell_type": "code",
   "execution_count": 52,
   "metadata": {},
   "outputs": [
    {
     "name": "stdout",
     "output_type": "stream",
     "text": [
      "2.5965213775634766\n"
     ]
    }
   ],
   "source": [
    "scores = m.evaluate(x_test, y_test, verbose=0)\n",
    "print (scores)"
   ]
  },
  {
   "cell_type": "markdown",
   "metadata": {},
   "source": [
    "## Neural Network 2 using Scaling"
   ]
  },
  {
   "cell_type": "code",
   "execution_count": 53,
   "metadata": {},
   "outputs": [],
   "source": [
    "scaler = pre.StandardScaler()\n",
    "scaler.fit(x_train)\n",
    "x_train_scaled = scaler.transform(x_train)"
   ]
  },
  {
   "cell_type": "code",
   "execution_count": 54,
   "metadata": {},
   "outputs": [],
   "source": [
    "# Create a new neural network.\n",
    "m = kr.models.Sequential()\n",
    "\n",
    "# Add a single neuron in a single layer, initialised with weight 1 and bias 0.\n",
    "m.add(kr.layers.Dense(100, input_dim=2, activation=\"relu\"))\n",
    "m.add(kr.layers.Dense(100, activation=\"relu\"))\n",
    "m.add(kr.layers.Dense(50, activation=\"relu\"))\n",
    "m.add(kr.layers.Dense(1))\n",
    "# Compile the model.\n",
    "m.compile(loss=\"mse\", optimizer=\"Adam\",metrics=['mae'])"
   ]
  },
  {
   "cell_type": "code",
   "execution_count": 55,
   "metadata": {},
   "outputs": [
    {
     "name": "stdout",
     "output_type": "stream",
     "text": [
      "Epoch 1/50\n",
      "354/354 [==============================] - 3s 7ms/step - loss: 602.9342 - mae: 22.6848\n",
      "Epoch 2/50\n",
      "354/354 [==============================] - 0s 438us/step - loss: 523.1368 - mae: 20.8913\n",
      "Epoch 3/50\n",
      "354/354 [==============================] - 0s 438us/step - loss: 361.5019 - mae: 16.8754\n",
      "Epoch 4/50\n",
      "354/354 [==============================] - 0s 390us/step - loss: 163.7553 - mae: 10.9722\n",
      "Epoch 5/50\n",
      "354/354 [==============================] - 0s 537us/step - loss: 74.2523 - mae: 6.3232\n",
      "Epoch 6/50\n",
      "354/354 [==============================] - 0s 446us/step - loss: 52.9087 - mae: 5.4248\n",
      "Epoch 7/50\n",
      "354/354 [==============================] - 0s 421us/step - loss: 45.2558 - mae: 5.1140\n",
      "Epoch 8/50\n",
      "354/354 [==============================] - 0s 458us/step - loss: 39.0529 - mae: 4.6744\n",
      "Epoch 9/50\n",
      "354/354 [==============================] - 0s 387us/step - loss: 35.8643 - mae: 4.4342\n",
      "Epoch 10/50\n",
      "354/354 [==============================] - 0s 401us/step - loss: 33.5539 - mae: 4.2788\n",
      "Epoch 11/50\n",
      "354/354 [==============================] - 0s 469us/step - loss: 31.5870 - mae: 4.2008\n",
      "Epoch 12/50\n",
      "354/354 [==============================] - 0s 421us/step - loss: 30.2966 - mae: 4.03170s - loss: 37.8718 - mae: 4.61 - ETA: 0s - loss: 28.6613 - mae: 3.97\n",
      "Epoch 13/50\n",
      "354/354 [==============================] - 0s 373us/step - loss: 28.6029 - mae: 3.8755\n",
      "Epoch 14/50\n",
      "354/354 [==============================] - 0s 720us/step - loss: 27.9606 - mae: 3.8239\n",
      "Epoch 15/50\n",
      "354/354 [==============================] - 0s 387us/step - loss: 27.1074 - mae: 3.7067\n",
      "Epoch 16/50\n",
      "354/354 [==============================] - 0s 365us/step - loss: 26.5394 - mae: 3.6542\n",
      "Epoch 17/50\n",
      "354/354 [==============================] - 0s 540us/step - loss: 26.0225 - mae: 3.6363\n",
      "Epoch 18/50\n",
      "354/354 [==============================] - 0s 390us/step - loss: 25.7113 - mae: 3.5995\n",
      "Epoch 19/50\n",
      "354/354 [==============================] - 0s 378us/step - loss: 25.3814 - mae: 3.5946\n",
      "Epoch 20/50\n",
      "354/354 [==============================] - 0s 477us/step - loss: 25.1556 - mae: 3.5658\n",
      "Epoch 21/50\n",
      "354/354 [==============================] - 0s 562us/step - loss: 25.6764 - mae: 3.4946\n",
      "Epoch 22/50\n",
      "354/354 [==============================] - 0s 402us/step - loss: 24.8391 - mae: 3.5599\n",
      "Epoch 23/50\n",
      "354/354 [==============================] - 0s 395us/step - loss: 24.8675 - mae: 3.4567\n",
      "Epoch 24/50\n",
      "354/354 [==============================] - 0s 492us/step - loss: 24.5811 - mae: 3.4443\n",
      "Epoch 25/50\n",
      "354/354 [==============================] - 0s 344us/step - loss: 24.2626 - mae: 3.4153\n",
      "Epoch 26/50\n",
      "354/354 [==============================] - 0s 322us/step - loss: 24.1593 - mae: 3.4505\n",
      "Epoch 27/50\n",
      "354/354 [==============================] - 0s 373us/step - loss: 24.1605 - mae: 3.4517\n",
      "Epoch 28/50\n",
      "354/354 [==============================] - 0s 455us/step - loss: 24.4603 - mae: 3.3943\n",
      "Epoch 29/50\n",
      "354/354 [==============================] - 0s 477us/step - loss: 23.8910 - mae: 3.3808\n",
      "Epoch 30/50\n",
      "354/354 [==============================] - 0s 438us/step - loss: 24.1813 - mae: 3.3694\n",
      "Epoch 31/50\n",
      "354/354 [==============================] - 0s 469us/step - loss: 23.7027 - mae: 3.2740\n",
      "Epoch 32/50\n",
      "354/354 [==============================] - 0s 449us/step - loss: 23.5305 - mae: 3.3479\n",
      "Epoch 33/50\n",
      "354/354 [==============================] - 0s 376us/step - loss: 24.0344 - mae: 3.3374\n",
      "Epoch 34/50\n",
      "354/354 [==============================] - 0s 441us/step - loss: 23.1977 - mae: 3.3091\n",
      "Epoch 35/50\n",
      "354/354 [==============================] - 0s 393us/step - loss: 23.8899 - mae: 3.3775\n",
      "Epoch 36/50\n",
      "354/354 [==============================] - 0s 453us/step - loss: 23.2130 - mae: 3.2841\n",
      "Epoch 37/50\n",
      "354/354 [==============================] - 0s 449us/step - loss: 22.9228 - mae: 3.2795\n",
      "Epoch 38/50\n",
      "354/354 [==============================] - ETA: 0s - loss: 23.3226 - mae: 3.29 - 0s 418us/step - loss: 23.4142 - mae: 3.3055\n",
      "Epoch 39/50\n",
      "354/354 [==============================] - 0s 336us/step - loss: 23.1477 - mae: 3.2834\n",
      "Epoch 40/50\n",
      "354/354 [==============================] - 0s 478us/step - loss: 23.0112 - mae: 3.2336\n",
      "Epoch 41/50\n",
      "354/354 [==============================] - 0s 376us/step - loss: 23.8938 - mae: 3.4314\n",
      "Epoch 42/50\n",
      "354/354 [==============================] - 0s 435us/step - loss: 23.1965 - mae: 3.2352\n",
      "Epoch 43/50\n",
      "354/354 [==============================] - 0s 325us/step - loss: 22.9628 - mae: 3.2956\n",
      "Epoch 44/50\n",
      "354/354 [==============================] - 0s 333us/step - loss: 22.8542 - mae: 3.2416\n",
      "Epoch 45/50\n",
      "354/354 [==============================] - 0s 572us/step - loss: 22.7480 - mae: 3.2114\n",
      "Epoch 46/50\n",
      "354/354 [==============================] - 0s 410us/step - loss: 23.2770 - mae: 3.3369\n",
      "Epoch 47/50\n",
      "354/354 [==============================] - 0s 367us/step - loss: 23.5253 - mae: 3.2099\n",
      "Epoch 48/50\n",
      "354/354 [==============================] - 0s 370us/step - loss: 23.4032 - mae: 3.3227\n",
      "Epoch 49/50\n",
      "354/354 [==============================] - 0s 390us/step - loss: 23.4711 - mae: 3.2652\n",
      "Epoch 50/50\n",
      "354/354 [==============================] - 0s 463us/step - loss: 22.7472 - mae: 3.1553\n"
     ]
    },
    {
     "data": {
      "text/plain": [
       "<keras.callbacks.callbacks.History at 0x1fc8e873d88>"
      ]
     },
     "execution_count": 55,
     "metadata": {},
     "output_type": "execute_result"
    }
   ],
   "source": [
    "m.fit(x_train_scaled, y_train, epochs=50, batch_size=25)"
   ]
  },
  {
   "cell_type": "code",
   "execution_count": 56,
   "metadata": {
    "scrolled": true
   },
   "outputs": [
    {
     "data": {
      "text/plain": [
       "array([[20., 22., 21., 22., 22., 13., 15., 19., 13., 17., 22., 23., 20.,\n",
       "        22., 18., 24., 14., 15., 25., 17., 21., 22., 25., 18., 14., 22.,\n",
       "        24., 25., 43., 21., 16., 21., 24., 28., 23., 20., 23., 20., 21.,\n",
       "        14., 20., 19., 46., 22., 17., 21., 18., 16., 18., 16., 21., 12.,\n",
       "        20., 42., 18., 25., 31., 34., 15., 28., 17., 20., 21., 20., 22.,\n",
       "        46., 26., 35., 23., 35., 28., 24., 20., 20., 23., 24., 14., 35.,\n",
       "        38., 22., 18., 14., 34., 18., 13., 17., 23., 24., 14., 26., 19.,\n",
       "        16., 23., 33., 21., 17., 23., 19., 30., 23., 24., 38., 27., 20.,\n",
       "        18., 31., 25., 31., 14., 18., 19., 19., 29., 19., 37., 14., 27.,\n",
       "        20., 47., 26., 33., 19., 12., 19., 14., 14., 17., 22., 16., 18.,\n",
       "        20., 14., 18., 21., 20., 14., 32., 15., 27., 25., 17., 19., 28.,\n",
       "        20., 20., 33., 23., 37., 15., 31., 44., 16.]], dtype=float32)"
      ]
     },
     "execution_count": 56,
     "metadata": {},
     "output_type": "execute_result"
    }
   ],
   "source": [
    "x_test_scaled = scaler.transform(x_test)\n",
    "m.predict(x_test_scaled).round().T"
   ]
  },
  {
   "cell_type": "code",
   "execution_count": 57,
   "metadata": {},
   "outputs": [
    {
     "name": "stderr",
     "output_type": "stream",
     "text": [
      "C:\\Users\\Donal\\Anaconda3\\lib\\site-packages\\ipykernel_launcher.py:1: FutureWarning: Method .as_matrix will be removed in a future version. Use .values instead.\n",
      "  \"\"\"Entry point for launching an IPython kernel.\n"
     ]
    },
    {
     "data": {
      "text/plain": [
       "array([21.1, 23.2, 19.8, 21. , 15.3, 13.4, 13.3, 10.9, 15.7, 16.1, 22.2,\n",
       "       20.9, 18.9, 21.2, 23.1, 22.6,  7.5, 13.3, 23.3, 16.3, 21.2, 19.3,\n",
       "       23.1, 19.9, 11. , 19.3, 22. , 25. , 43.8, 21.8, 16.6, 19.2, 21.6,\n",
       "       29.4, 18.6, 20.7, 23.4, 30.7, 18.5, 12.3, 17.1, 15.6, 48.3, 25. ,\n",
       "       13.1, 21.7, 19.4,  9.6, 15.1, 13. , 20.6,  8.4, 16.8, 42.3, 16.7,\n",
       "       24.1, 25. , 32. ,  8.4, 24.1, 17.8, 19.5, 22.7, 14.5, 24.4, 50. ,\n",
       "       20.6, 32.7, 23.9, 32.9, 28.6, 22.6, 21.7, 19.3, 20.6, 23.4, 11.8,\n",
       "       29.6, 35.2, 23.1, 15.6,  7. , 34.9, 18.8,  7.2, 17.8, 23.6, 22.9,\n",
       "        7.4, 25. , 17. ,  8.5, 20.4, 32.4, 20.1, 14.1, 20.6, 18.9, 31.5,\n",
       "       20.8, 22.8, 36.4, 29. , 19.1, 18.7, 35.1, 23.8, 26.6,  8.1, 15.2,\n",
       "       23.2, 16.8, 28.2, 20. , 31.7,  7. , 24.4, 20. , 42.8, 27. , 33.1,\n",
       "       21.5,  5.6, 18.4, 12.8, 13.8, 19.5, 20.6, 11.5, 12.7, 22. , 11.3,\n",
       "       15.6, 24. , 20.1, 13.9, 23.9,  8.8, 23.5, 22.1, 14.3, 11.9, 25. ,\n",
       "       19.7, 19.6, 28.7, 23.9, 31.5, 10.9, 33. , 48.8, 12.5],\n",
       "      dtype=float32)"
      ]
     },
     "execution_count": 57,
     "metadata": {},
     "output_type": "execute_result"
    }
   ],
   "source": [
    "y_test.as_matrix().astype(np.float32)"
   ]
  },
  {
   "cell_type": "code",
   "execution_count": 58,
   "metadata": {},
   "outputs": [
    {
     "name": "stdout",
     "output_type": "stream",
     "text": [
      "[11.041702019540887, 2.5598723888397217]\n"
     ]
    }
   ],
   "source": [
    "scores = m.evaluate(x_test_scaled, y_test, verbose=0)\n",
    "print (scores)"
   ]
  },
  {
   "cell_type": "markdown",
   "metadata": {},
   "source": [
    "## Neural Network 3 using Whitening"
   ]
  },
  {
   "cell_type": "code",
   "execution_count": 59,
   "metadata": {},
   "outputs": [
    {
     "data": {
      "text/html": [
       "<div>\n",
       "<style scoped>\n",
       "    .dataframe tbody tr th:only-of-type {\n",
       "        vertical-align: middle;\n",
       "    }\n",
       "\n",
       "    .dataframe tbody tr th {\n",
       "        vertical-align: top;\n",
       "    }\n",
       "\n",
       "    .dataframe thead th {\n",
       "        text-align: right;\n",
       "    }\n",
       "</style>\n",
       "<table border=\"1\" class=\"dataframe\">\n",
       "  <thead>\n",
       "    <tr style=\"text-align: right;\">\n",
       "      <th></th>\n",
       "      <th>RM</th>\n",
       "      <th>LSTAT</th>\n",
       "    </tr>\n",
       "  </thead>\n",
       "  <tbody>\n",
       "    <tr>\n",
       "      <td>0</td>\n",
       "      <td>-1.239143</td>\n",
       "      <td>-1.709102</td>\n",
       "    </tr>\n",
       "    <tr>\n",
       "      <td>1</td>\n",
       "      <td>-1.347763</td>\n",
       "      <td>-0.192220</td>\n",
       "    </tr>\n",
       "    <tr>\n",
       "      <td>2</td>\n",
       "      <td>-1.003536</td>\n",
       "      <td>-0.779257</td>\n",
       "    </tr>\n",
       "    <tr>\n",
       "      <td>3</td>\n",
       "      <td>-0.817938</td>\n",
       "      <td>-0.216449</td>\n",
       "    </tr>\n",
       "    <tr>\n",
       "      <td>4</td>\n",
       "      <td>0.579963</td>\n",
       "      <td>0.789663</td>\n",
       "    </tr>\n",
       "    <tr>\n",
       "      <td>...</td>\n",
       "      <td>...</td>\n",
       "      <td>...</td>\n",
       "    </tr>\n",
       "    <tr>\n",
       "      <td>349</td>\n",
       "      <td>-0.410807</td>\n",
       "      <td>-1.259518</td>\n",
       "    </tr>\n",
       "    <tr>\n",
       "      <td>350</td>\n",
       "      <td>2.169087</td>\n",
       "      <td>-1.340457</td>\n",
       "    </tr>\n",
       "    <tr>\n",
       "      <td>351</td>\n",
       "      <td>0.301509</td>\n",
       "      <td>-0.491700</td>\n",
       "    </tr>\n",
       "    <tr>\n",
       "      <td>352</td>\n",
       "      <td>-1.115243</td>\n",
       "      <td>0.403121</td>\n",
       "    </tr>\n",
       "    <tr>\n",
       "      <td>353</td>\n",
       "      <td>-0.066820</td>\n",
       "      <td>0.092644</td>\n",
       "    </tr>\n",
       "  </tbody>\n",
       "</table>\n",
       "<p>354 rows × 2 columns</p>\n",
       "</div>"
      ],
      "text/plain": [
       "           RM     LSTAT\n",
       "0   -1.239143 -1.709102\n",
       "1   -1.347763 -0.192220\n",
       "2   -1.003536 -0.779257\n",
       "3   -0.817938 -0.216449\n",
       "4    0.579963  0.789663\n",
       "..        ...       ...\n",
       "349 -0.410807 -1.259518\n",
       "350  2.169087 -1.340457\n",
       "351  0.301509 -0.491700\n",
       "352 -1.115243  0.403121\n",
       "353 -0.066820  0.092644\n",
       "\n",
       "[354 rows x 2 columns]"
      ]
     },
     "execution_count": 59,
     "metadata": {},
     "output_type": "execute_result"
    }
   ],
   "source": [
    "pca = dec.PCA(n_components=2, whiten=True)\n",
    "pca.fit(x_train)\n",
    "x_train_white = pd.DataFrame(pca.transform(x_train), columns=inputs.columns)\n",
    "x_train_white\n"
   ]
  },
  {
   "cell_type": "code",
   "execution_count": 60,
   "metadata": {},
   "outputs": [],
   "source": [
    "# Create a new neural network.\n",
    "m = kr.models.Sequential()\n",
    "\n",
    "# Add a single neuron in a single layer, initialised with weight 1 and bias 0.\n",
    "m.add(kr.layers.Dense(100, input_dim=2, activation=\"relu\"))\n",
    "m.add(kr.layers.Dense(100, activation=\"relu\"))\n",
    "m.add(kr.layers.Dense(50, activation=\"relu\"))\n",
    "m.add(kr.layers.Dense(1))\n",
    "# Compile the model.\n",
    "m.compile(loss=\"mse\", optimizer=\"Adam\",metrics=['mae'])"
   ]
  },
  {
   "cell_type": "code",
   "execution_count": 61,
   "metadata": {},
   "outputs": [
    {
     "name": "stdout",
     "output_type": "stream",
     "text": [
      "Epoch 1/50\n",
      "354/354 [==============================] - 2s 6ms/step - loss: 609.0663 - mae: 22.8197\n",
      "Epoch 2/50\n",
      "354/354 [==============================] - 0s 381us/step - loss: 555.0946 - mae: 21.6059\n",
      "Epoch 3/50\n",
      "354/354 [==============================] - 0s 455us/step - loss: 432.3570 - mae: 18.5946\n",
      "Epoch 4/50\n",
      "354/354 [==============================] - 0s 418us/step - loss: 226.5714 - mae: 13.0620\n",
      "Epoch 5/50\n",
      "354/354 [==============================] - 0s 387us/step - loss: 89.0751 - mae: 7.2423\n",
      "Epoch 6/50\n",
      "354/354 [==============================] - 0s 435us/step - loss: 59.0154 - mae: 5.4297\n",
      "Epoch 7/50\n",
      "354/354 [==============================] - 0s 410us/step - loss: 49.2955 - mae: 5.2279\n",
      "Epoch 8/50\n",
      "354/354 [==============================] - 0s 373us/step - loss: 46.0919 - mae: 5.0621\n",
      "Epoch 9/50\n",
      "354/354 [==============================] - 0s 373us/step - loss: 42.6686 - mae: 4.8562\n",
      "Epoch 10/50\n",
      "354/354 [==============================] - 0s 432us/step - loss: 39.3314 - mae: 4.6528\n",
      "Epoch 11/50\n",
      "354/354 [==============================] - 0s 574us/step - loss: 37.1585 - mae: 4.4646\n",
      "Epoch 12/50\n",
      "354/354 [==============================] - 0s 435us/step - loss: 35.0555 - mae: 4.3261\n",
      "Epoch 13/50\n",
      "354/354 [==============================] - 0s 463us/step - loss: 33.7533 - mae: 4.2644\n",
      "Epoch 14/50\n",
      "354/354 [==============================] - 0s 384us/step - loss: 32.6388 - mae: 4.1532\n",
      "Epoch 15/50\n",
      "354/354 [==============================] - 0s 345us/step - loss: 31.2818 - mae: 4.0406\n",
      "Epoch 16/50\n",
      "354/354 [==============================] - 0s 492us/step - loss: 30.0076 - mae: 3.9699\n",
      "Epoch 17/50\n",
      "354/354 [==============================] - 0s 404us/step - loss: 29.3420 - mae: 3.8847\n",
      "Epoch 18/50\n",
      "354/354 [==============================] - 0s 328us/step - loss: 28.4440 - mae: 3.8142\n",
      "Epoch 19/50\n",
      "354/354 [==============================] - 0s 455us/step - loss: 28.1862 - mae: 3.7325\n",
      "Epoch 20/50\n",
      "354/354 [==============================] - 0s 429us/step - loss: 27.1837 - mae: 3.7257\n",
      "Epoch 21/50\n",
      "354/354 [==============================] - 0s 398us/step - loss: 26.7833 - mae: 3.6295\n",
      "Epoch 22/50\n",
      "354/354 [==============================] - 0s 441us/step - loss: 25.9195 - mae: 3.5318\n",
      "Epoch 23/50\n",
      "354/354 [==============================] - 0s 426us/step - loss: 26.1543 - mae: 3.5584\n",
      "Epoch 24/50\n",
      "354/354 [==============================] - 0s 401us/step - loss: 25.0286 - mae: 3.4762\n",
      "Epoch 25/50\n",
      "354/354 [==============================] - 0s 412us/step - loss: 25.5808 - mae: 3.4680\n",
      "Epoch 26/50\n",
      "354/354 [==============================] - 0s 483us/step - loss: 24.9299 - mae: 3.5085\n",
      "Epoch 27/50\n",
      "354/354 [==============================] - 0s 441us/step - loss: 24.8647 - mae: 3.4350\n",
      "Epoch 28/50\n",
      "354/354 [==============================] - 0s 673us/step - loss: 24.4892 - mae: 3.4176\n",
      "Epoch 29/50\n",
      "354/354 [==============================] - 0s 455us/step - loss: 24.2484 - mae: 3.3431\n",
      "Epoch 30/50\n",
      "354/354 [==============================] - 0s 424us/step - loss: 24.2076 - mae: 3.3946\n",
      "Epoch 31/50\n",
      "354/354 [==============================] - 0s 376us/step - loss: 23.8625 - mae: 3.3797\n",
      "Epoch 32/50\n",
      "354/354 [==============================] - 0s 421us/step - loss: 23.8851 - mae: 3.3225\n",
      "Epoch 33/50\n",
      "354/354 [==============================] - 0s 322us/step - loss: 23.7753 - mae: 3.2993\n",
      "Epoch 34/50\n",
      "354/354 [==============================] - 0s 446us/step - loss: 23.7673 - mae: 3.3043\n",
      "Epoch 35/50\n",
      "354/354 [==============================] - 0s 582us/step - loss: 23.6285 - mae: 3.3401\n",
      "Epoch 36/50\n",
      "354/354 [==============================] - 0s 426us/step - loss: 23.1885 - mae: 3.2747\n",
      "Epoch 37/50\n",
      "354/354 [==============================] - ETA: 0s - loss: 24.9670 - mae: 3.34 - 0s 432us/step - loss: 23.3793 - mae: 3.2998\n",
      "Epoch 38/50\n",
      "354/354 [==============================] - 0s 373us/step - loss: 23.2964 - mae: 3.2472\n",
      "Epoch 39/50\n",
      "354/354 [==============================] - 0s 412us/step - loss: 23.2018 - mae: 3.2496\n",
      "Epoch 40/50\n",
      "354/354 [==============================] - 0s 392us/step - loss: 23.6917 - mae: 3.2547\n",
      "Epoch 41/50\n",
      "354/354 [==============================] - 0s 345us/step - loss: 22.8829 - mae: 3.2439\n",
      "Epoch 42/50\n",
      "354/354 [==============================] - 0s 441us/step - loss: 22.9597 - mae: 3.2115\n",
      "Epoch 43/50\n",
      "354/354 [==============================] - 0s 528us/step - loss: 23.5764 - mae: 3.3013\n",
      "Epoch 44/50\n",
      "354/354 [==============================] - 0s 398us/step - loss: 23.0555 - mae: 3.2875\n",
      "Epoch 45/50\n",
      "354/354 [==============================] - 0s 423us/step - loss: 23.3120 - mae: 3.2074\n",
      "Epoch 46/50\n",
      "354/354 [==============================] - 0s 378us/step - loss: 22.8119 - mae: 3.1798\n",
      "Epoch 47/50\n",
      "354/354 [==============================] - 0s 393us/step - loss: 22.5486 - mae: 3.1994\n",
      "Epoch 48/50\n",
      "354/354 [==============================] - 0s 398us/step - loss: 22.6799 - mae: 3.1894\n",
      "Epoch 49/50\n",
      "354/354 [==============================] - 0s 426us/step - loss: 22.1907 - mae: 3.1439\n",
      "Epoch 50/50\n",
      "354/354 [==============================] - 0s 449us/step - loss: 22.3460 - mae: 3.2097\n"
     ]
    },
    {
     "data": {
      "text/plain": [
       "<keras.callbacks.callbacks.History at 0x1fc8ff12148>"
      ]
     },
     "execution_count": 61,
     "metadata": {},
     "output_type": "execute_result"
    }
   ],
   "source": [
    "m.fit(x_train_white, y_train, epochs=50, batch_size=25)"
   ]
  },
  {
   "cell_type": "code",
   "execution_count": 62,
   "metadata": {},
   "outputs": [
    {
     "data": {
      "text/plain": [
       "array([[25., 25., 19., 17., 39., 27., 22., 21., 25., 20., 21., 28., 24.,\n",
       "        25., 25., 21., 19., 18., 18., 30., 23., 27., 21., 21., 20., 30.,\n",
       "        20., 16., 11., 28., 21., 19., 22., 18., 29., 24., 27., 15., 28.,\n",
       "        25., 28., 21., 11., 25., 19., 25., 21., 19., 24., 19., 26., 25.,\n",
       "        23., 11., 19., 23., 14., 16., 18., 18., 20., 20., 26., 23., 21.,\n",
       "        11., 30., 13., 20., 13., 16., 20., 22., 22., 25., 23., 31., 15.,\n",
       "        12., 20., 23., 37., 14., 23., 29., 22., 20., 20., 31., 20., 21.,\n",
       "        23., 28., 16., 23., 20., 26., 24., 19., 35., 16., 13., 16., 26.,\n",
       "        21., 16., 20., 15., 30., 27., 19., 25., 15., 22., 12., 26., 19.,\n",
       "        25., 11., 23., 14., 22., 22., 24., 24., 33., 22., 22., 27., 23.,\n",
       "        24., 25., 24., 24., 23., 18., 14., 22., 23., 26., 19., 45., 19.,\n",
       "        24., 32., 14., 25., 12., 18., 14., 11., 19.]], dtype=float32)"
      ]
     },
     "execution_count": 62,
     "metadata": {},
     "output_type": "execute_result"
    }
   ],
   "source": [
    "x_test_white = scaler.transform(x_test)\n",
    "m.predict(x_test_white).round().T"
   ]
  },
  {
   "cell_type": "code",
   "execution_count": 63,
   "metadata": {},
   "outputs": [
    {
     "name": "stderr",
     "output_type": "stream",
     "text": [
      "C:\\Users\\Donal\\Anaconda3\\lib\\site-packages\\ipykernel_launcher.py:1: FutureWarning: Method .as_matrix will be removed in a future version. Use .values instead.\n",
      "  \"\"\"Entry point for launching an IPython kernel.\n"
     ]
    },
    {
     "data": {
      "text/plain": [
       "array([21.1, 23.2, 19.8, 21. , 15.3, 13.4, 13.3, 10.9, 15.7, 16.1, 22.2,\n",
       "       20.9, 18.9, 21.2, 23.1, 22.6,  7.5, 13.3, 23.3, 16.3, 21.2, 19.3,\n",
       "       23.1, 19.9, 11. , 19.3, 22. , 25. , 43.8, 21.8, 16.6, 19.2, 21.6,\n",
       "       29.4, 18.6, 20.7, 23.4, 30.7, 18.5, 12.3, 17.1, 15.6, 48.3, 25. ,\n",
       "       13.1, 21.7, 19.4,  9.6, 15.1, 13. , 20.6,  8.4, 16.8, 42.3, 16.7,\n",
       "       24.1, 25. , 32. ,  8.4, 24.1, 17.8, 19.5, 22.7, 14.5, 24.4, 50. ,\n",
       "       20.6, 32.7, 23.9, 32.9, 28.6, 22.6, 21.7, 19.3, 20.6, 23.4, 11.8,\n",
       "       29.6, 35.2, 23.1, 15.6,  7. , 34.9, 18.8,  7.2, 17.8, 23.6, 22.9,\n",
       "        7.4, 25. , 17. ,  8.5, 20.4, 32.4, 20.1, 14.1, 20.6, 18.9, 31.5,\n",
       "       20.8, 22.8, 36.4, 29. , 19.1, 18.7, 35.1, 23.8, 26.6,  8.1, 15.2,\n",
       "       23.2, 16.8, 28.2, 20. , 31.7,  7. , 24.4, 20. , 42.8, 27. , 33.1,\n",
       "       21.5,  5.6, 18.4, 12.8, 13.8, 19.5, 20.6, 11.5, 12.7, 22. , 11.3,\n",
       "       15.6, 24. , 20.1, 13.9, 23.9,  8.8, 23.5, 22.1, 14.3, 11.9, 25. ,\n",
       "       19.7, 19.6, 28.7, 23.9, 31.5, 10.9, 33. , 48.8, 12.5],\n",
       "      dtype=float32)"
      ]
     },
     "execution_count": 63,
     "metadata": {},
     "output_type": "execute_result"
    }
   ],
   "source": [
    "y_test.as_matrix().astype(np.float32)"
   ]
  },
  {
   "cell_type": "code",
   "execution_count": 64,
   "metadata": {},
   "outputs": [
    {
     "name": "stdout",
     "output_type": "stream",
     "text": [
      "[161.48695855391654, 9.506436347961426]\n"
     ]
    }
   ],
   "source": [
    "scores = m.evaluate(x_test_white, y_test, verbose=0)\n",
    "print (scores)"
   ]
  },
  {
   "cell_type": "markdown",
   "metadata": {},
   "source": [
    "## References"
   ]
  },
  {
   "cell_type": "markdown",
   "metadata": {},
   "source": [
    "[1] Delve 1996, 'The Boston Housing Datset', retrieved from https://www.cs.toronto.edu/~delve/data/boston/bostonDetail.html\n"
   ]
  },
  {
   "cell_type": "markdown",
   "metadata": {},
   "source": [
    "[2] Harrison, D. & Rubinfeld, D.L. (1978). \"Hedonic prices and the demand for clean air\", J. Environ. Economics & Management, vol.5, 81-102"
   ]
  },
  {
   "cell_type": "markdown",
   "metadata": {},
   "source": [
    "[3] Haydar A, \"learning-data-science-day-9-linear-regression-on-boston-housing-dataset\", retrieved from https://medium.com/@haydar_ai/learning-data-science-day-9-linear-regression-on-boston-housing-dataset-cd62a80775ef"
   ]
  },
  {
   "cell_type": "markdown",
   "metadata": {},
   "source": [
    "[4] Animesh A, \"Linear Regression on Boston Housing Dataset\", retrieved from https://towardsdatascience.com/linear-regression-on-boston-housing-dataset-f409b7e4a155"
   ]
  },
  {
   "cell_type": "markdown",
   "metadata": {},
   "source": [
    "[5] Randerson, \"Predict Boston House Prices Using Python & Linear Regression\", retrieved from https://levelup.gitconnected.com/predict-boston-house-prices-using-python-linear-regression-90469e0a341"
   ]
  },
  {
   "cell_type": "markdown",
   "metadata": {},
   "source": [
    "[6] Ng R, \"Machine-learning-project-boston-home-prices\", retrieved from https://www.ritchieng.com/machine-learning-project-boston-home-prices/"
   ]
  },
  {
   "cell_type": "markdown",
   "metadata": {},
   "source": [
    "[7] 'Why use Keras', retrieved from https://keras.io/why-use-keras/"
   ]
  },
  {
   "cell_type": "markdown",
   "metadata": {},
   "source": [
    "[8] Sharma AV, 'the-theory-of-everything/understanding-activation-functions-in-neural-networks' retrieved from https://medium.com/the-theory-of-everything/understanding-activation-functions-in-neural-networks-9491262884e0"
   ]
  },
  {
   "cell_type": "markdown",
   "metadata": {},
   "source": [
    "[9] Nicholson, C, \"A Beginner's Guide to Neural Networks and Deep Learning\", retrieved from https://skymind.ai/wiki/neural-network"
   ]
  },
  {
   "cell_type": "markdown",
   "metadata": {},
   "source": [
    "[10] Hardesty, L, \"Explained: Neural networks\" retrieved from http://news.mit.edu/2017/explained-neural-networks-deep-learning-0414"
   ]
  },
  {
   "cell_type": "markdown",
   "metadata": {},
   "source": [
    "[11] Walia, A, \"Types of Optimization Algorithms used in Neural Networks and Ways to Optimize Gradient Descent\",retreived from\n",
    "https://towardsdatascience.com/types-of-optimization-algorithms-used-in-neural-networks-and-ways-to-optimize-gradient-95ae5d39529f"
   ]
  },
  {
   "cell_type": "markdown",
   "metadata": {},
   "source": [
    "[12] Ahire J, \"Real world Applications of Artificial Neural Networks\", retrieved from https://medium.com/@jayeshbahire/real-world-applications-of-artificial-neural-networks-a6a6bc17ad6a"
   ]
  },
  {
   "cell_type": "markdown",
   "metadata": {},
   "source": [
    "[13] Parmar, R, \"Common Loss functions in machine learning\" retrieved from https://towardsdatascience.com/common-loss-functions-in-machine-learning-46af0ffc4d23"
   ]
  },
  {
   "cell_type": "markdown",
   "metadata": {},
   "source": [
    "[14] Brownlee, J, \"difference-between-a-batch-and-an-epoch\", retrieved from, https://machinelearningmastery.com/difference-between-a-batch-and-an-epoch/"
   ]
  },
  {
   "cell_type": "markdown",
   "metadata": {},
   "source": [
    "[15] Koehrsen, W,\"Overfitting vs. Underfitting: A Complete Example\" retrieved from https://towardsdatascience.com/overfitting-vs-underfitting-a-complete-example-d05dd7e19765"
   ]
  },
  {
   "cell_type": "markdown",
   "metadata": {},
   "source": [
    "[16] Yegulalp, S, \"what-is-tensorflow-the-machine-learning-library-explained\", retrieved from, https://www.infoworld.com/article/3278008/what-is-tensorflow-the-machine-learning-library-explained.html"
   ]
  },
  {
   "cell_type": "markdown",
   "metadata": {},
   "source": [
    "[17] Unknown, code retrieved from https://scikit-learn.org/stable/modules/generated/sklearn.model_selection.train_test_split.html"
   ]
  },
  {
   "cell_type": "markdown",
   "metadata": {},
   "source": [
    "[18] Unknown, \"Guide to the Sequential model\", retrieved from https://keras.io/getting-started/sequential-model-guide/"
   ]
  },
  {
   "cell_type": "markdown",
   "metadata": {},
   "source": [
    "[19] Lin, J, \"keras-models-sequential-vs-functional\", retrieved from https://jovianlin.io/keras-models-sequential-vs-functional/"
   ]
  },
  {
   "cell_type": "markdown",
   "metadata": {},
   "source": [
    "[20] Brownlee, J, \"A Gentle Introduction to the Rectified Linear Unit (ReLU)\", retrieved from https://machinelearningmastery.com/rectified-linear-activation-function-for-deep-learning-neural-networks/"
   ]
  },
  {
   "cell_type": "code",
   "execution_count": null,
   "metadata": {},
   "outputs": [],
   "source": []
  }
 ],
 "metadata": {
  "kernelspec": {
   "display_name": "Python 3",
   "language": "python",
   "name": "python3"
  },
  "language_info": {
   "codemirror_mode": {
    "name": "ipython",
    "version": 3
   },
   "file_extension": ".py",
   "mimetype": "text/x-python",
   "name": "python",
   "nbconvert_exporter": "python",
   "pygments_lexer": "ipython3",
   "version": "3.7.4"
  }
 },
 "nbformat": 4,
 "nbformat_minor": 2
}

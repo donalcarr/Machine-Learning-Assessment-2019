{
 "cells": [
  {
   "cell_type": "markdown",
   "metadata": {},
   "source": [
    "***"
   ]
  },
  {
   "cell_type": "markdown",
   "metadata": {},
   "source": [
    " <h1><center>Machine Learning - Boston Housing Dataset</center></h1> "
   ]
  },
  {
   "cell_type": "markdown",
   "metadata": {},
   "source": [
    "***"
   ]
  },
  {
   "cell_type": "markdown",
   "metadata": {},
   "source": [
    "\n",
    "![Boston](https://datasmarts.net/wp-content/uploads/2017/12/boston.jpeg)"
   ]
  },
  {
   "cell_type": "markdown",
   "metadata": {},
   "source": [
    "***"
   ]
  },
  {
   "cell_type": "markdown",
   "metadata": {},
   "source": [
    "## Introduction"
   ]
  },
  {
   "cell_type": "markdown",
   "metadata": {},
   "source": [
    "Boston Housing dataset contains information collected by the U.S Census Service concerning housing in the area of Boston Mass. It was originally published by Harrison, D. and Rubinfeld, D.L. `Hedonic prices and the demand for clean air', J. Environ. Economics & Management, vol.5, 81-102, 1978.[1]\n",
    "\n",
    "In this study Harrison and Rubinfield look at the problems associated with using housing market data for measuring the willingness to pay for clean air. MEDV, the median value of house prices is the dependent variable in this study and NOX, the nitrate oxides concentration is an indendent variable and a measure of air pollution. The paper makes the assumtpion that \n",
    "people will pay for better air pollution reflected in the housing value and go on to build a housing model to peredict if this is indeed the case.[2]\n",
    "\n",
    "My reasearch into the boston housing dataset has shown that is a popular machine learning dataset and commonly referenced\n",
    "in data science articles. Most of the articles focus on the variables with the highest correlation coefficient and\n",
    "then go on to do some linear regression modelling.  [3][4][5]. In an artice by Ritie Ng, he notes an intereseting point that\n",
    "\"16 data points have an 'MEDV' value of 50.0. These data points likely contain missing or censored values and have been removed\".[6] \n",
    "\n",
    "Within the dataset , there are 506 rows, 14 attributes with the MEDV usually being the target attribute. The definitions of these attributes are outlined in the cells below. \n",
    "\n",
    "\n",
    "Next I will outline the project requirements:"
   ]
  },
  {
   "cell_type": "markdown",
   "metadata": {},
   "source": [
    "![ProjectSpecs.png](https://raw.githubusercontent.com/donalcarr/Datasets/master/ProjectSpecs.png)\n"
   ]
  },
  {
   "cell_type": "markdown",
   "metadata": {},
   "source": [
    "As per the project specifications, this notebook will be split into three sections starting with **descriptive** statistics on the\n",
    "boston housing dataset.\n",
    "\n",
    "First I will import the libraries needed to carry out my analysis."
   ]
  },
  {
   "cell_type": "code",
   "execution_count": 1,
   "metadata": {},
   "outputs": [],
   "source": [
    "#import python libraries for code execution\n",
    "%matplotlib inline\n",
    "\n",
    "import numpy as np\n",
    "import matplotlib.pyplot as plt \n",
    "\n",
    "import pandas as pd  \n",
    "import seaborn as sns \n",
    "import scipy.stats as ss"
   ]
  },
  {
   "cell_type": "markdown",
   "metadata": {},
   "source": [
    "***"
   ]
  },
  {
   "cell_type": "markdown",
   "metadata": {},
   "source": [
    "## ***Descriptive Statistics***"
   ]
  },
  {
   "cell_type": "markdown",
   "metadata": {},
   "source": [
    "Add Notes on what your doing"
   ]
  },
  {
   "cell_type": "code",
   "execution_count": 2,
   "metadata": {},
   "outputs": [],
   "source": [
    "#dataset is avaiable in the sklearn library so we import form there\n",
    "from sklearn.datasets import load_boston\n",
    "boston_dataset = load_boston()"
   ]
  },
  {
   "cell_type": "code",
   "execution_count": 3,
   "metadata": {},
   "outputs": [
    {
     "name": "stdout",
     "output_type": "stream",
     "text": [
      ".. _boston_dataset:\n",
      "\n",
      "Boston house prices dataset\n",
      "---------------------------\n",
      "\n",
      "**Data Set Characteristics:**  \n",
      "\n",
      "    :Number of Instances: 506 \n",
      "\n",
      "    :Number of Attributes: 13 numeric/categorical predictive. Median Value (attribute 14) is usually the target.\n",
      "\n",
      "    :Attribute Information (in order):\n",
      "        - CRIM     per capita crime rate by town\n",
      "        - ZN       proportion of residential land zoned for lots over 25,000 sq.ft.\n",
      "        - INDUS    proportion of non-retail business acres per town\n",
      "        - CHAS     Charles River dummy variable (= 1 if tract bounds river; 0 otherwise)\n",
      "        - NOX      nitric oxides concentration (parts per 10 million)\n",
      "        - RM       average number of rooms per dwelling\n",
      "        - AGE      proportion of owner-occupied units built prior to 1940\n",
      "        - DIS      weighted distances to five Boston employment centres\n",
      "        - RAD      index of accessibility to radial highways\n",
      "        - TAX      full-value property-tax rate per $10,000\n",
      "        - PTRATIO  pupil-teacher ratio by town\n",
      "        - B        1000(Bk - 0.63)^2 where Bk is the proportion of blacks by town\n",
      "        - LSTAT    % lower status of the population\n",
      "        - MEDV     Median value of owner-occupied homes in $1000's\n",
      "\n",
      "    :Missing Attribute Values: None\n",
      "\n",
      "    :Creator: Harrison, D. and Rubinfeld, D.L.\n",
      "\n",
      "This is a copy of UCI ML housing dataset.\n",
      "https://archive.ics.uci.edu/ml/machine-learning-databases/housing/\n",
      "\n",
      "\n",
      "This dataset was taken from the StatLib library which is maintained at Carnegie Mellon University.\n",
      "\n",
      "The Boston house-price data of Harrison, D. and Rubinfeld, D.L. 'Hedonic\n",
      "prices and the demand for clean air', J. Environ. Economics & Management,\n",
      "vol.5, 81-102, 1978.   Used in Belsley, Kuh & Welsch, 'Regression diagnostics\n",
      "...', Wiley, 1980.   N.B. Various transformations are used in the table on\n",
      "pages 244-261 of the latter.\n",
      "\n",
      "The Boston house-price data has been used in many machine learning papers that address regression\n",
      "problems.   \n",
      "     \n",
      ".. topic:: References\n",
      "\n",
      "   - Belsley, Kuh & Welsch, 'Regression diagnostics: Identifying Influential Data and Sources of Collinearity', Wiley, 1980. 244-261.\n",
      "   - Quinlan,R. (1993). Combining Instance-Based and Model-Based Learning. In Proceedings on the Tenth International Conference of Machine Learning, 236-243, University of Massachusetts, Amherst. Morgan Kaufmann.\n",
      "\n"
     ]
    }
   ],
   "source": [
    "#prints the variables and information about the dataset\n",
    "print(boston_dataset.DESCR)\n"
   ]
  },
  {
   "cell_type": "code",
   "execution_count": 4,
   "metadata": {},
   "outputs": [
    {
     "data": {
      "text/html": [
       "<div>\n",
       "<style scoped>\n",
       "    .dataframe tbody tr th:only-of-type {\n",
       "        vertical-align: middle;\n",
       "    }\n",
       "\n",
       "    .dataframe tbody tr th {\n",
       "        vertical-align: top;\n",
       "    }\n",
       "\n",
       "    .dataframe thead th {\n",
       "        text-align: right;\n",
       "    }\n",
       "</style>\n",
       "<table border=\"1\" class=\"dataframe\">\n",
       "  <thead>\n",
       "    <tr style=\"text-align: right;\">\n",
       "      <th></th>\n",
       "      <th>CRIM</th>\n",
       "      <th>ZN</th>\n",
       "      <th>INDUS</th>\n",
       "      <th>CHAS</th>\n",
       "      <th>NOX</th>\n",
       "      <th>RM</th>\n",
       "      <th>AGE</th>\n",
       "      <th>DIS</th>\n",
       "      <th>RAD</th>\n",
       "      <th>TAX</th>\n",
       "      <th>PTRATIO</th>\n",
       "      <th>B</th>\n",
       "      <th>LSTAT</th>\n",
       "    </tr>\n",
       "  </thead>\n",
       "  <tbody>\n",
       "    <tr>\n",
       "      <td>0</td>\n",
       "      <td>0.00632</td>\n",
       "      <td>18.0</td>\n",
       "      <td>2.31</td>\n",
       "      <td>0.0</td>\n",
       "      <td>0.538</td>\n",
       "      <td>6.575</td>\n",
       "      <td>65.2</td>\n",
       "      <td>4.0900</td>\n",
       "      <td>1.0</td>\n",
       "      <td>296.0</td>\n",
       "      <td>15.3</td>\n",
       "      <td>396.90</td>\n",
       "      <td>4.98</td>\n",
       "    </tr>\n",
       "    <tr>\n",
       "      <td>1</td>\n",
       "      <td>0.02731</td>\n",
       "      <td>0.0</td>\n",
       "      <td>7.07</td>\n",
       "      <td>0.0</td>\n",
       "      <td>0.469</td>\n",
       "      <td>6.421</td>\n",
       "      <td>78.9</td>\n",
       "      <td>4.9671</td>\n",
       "      <td>2.0</td>\n",
       "      <td>242.0</td>\n",
       "      <td>17.8</td>\n",
       "      <td>396.90</td>\n",
       "      <td>9.14</td>\n",
       "    </tr>\n",
       "    <tr>\n",
       "      <td>2</td>\n",
       "      <td>0.02729</td>\n",
       "      <td>0.0</td>\n",
       "      <td>7.07</td>\n",
       "      <td>0.0</td>\n",
       "      <td>0.469</td>\n",
       "      <td>7.185</td>\n",
       "      <td>61.1</td>\n",
       "      <td>4.9671</td>\n",
       "      <td>2.0</td>\n",
       "      <td>242.0</td>\n",
       "      <td>17.8</td>\n",
       "      <td>392.83</td>\n",
       "      <td>4.03</td>\n",
       "    </tr>\n",
       "    <tr>\n",
       "      <td>3</td>\n",
       "      <td>0.03237</td>\n",
       "      <td>0.0</td>\n",
       "      <td>2.18</td>\n",
       "      <td>0.0</td>\n",
       "      <td>0.458</td>\n",
       "      <td>6.998</td>\n",
       "      <td>45.8</td>\n",
       "      <td>6.0622</td>\n",
       "      <td>3.0</td>\n",
       "      <td>222.0</td>\n",
       "      <td>18.7</td>\n",
       "      <td>394.63</td>\n",
       "      <td>2.94</td>\n",
       "    </tr>\n",
       "    <tr>\n",
       "      <td>4</td>\n",
       "      <td>0.06905</td>\n",
       "      <td>0.0</td>\n",
       "      <td>2.18</td>\n",
       "      <td>0.0</td>\n",
       "      <td>0.458</td>\n",
       "      <td>7.147</td>\n",
       "      <td>54.2</td>\n",
       "      <td>6.0622</td>\n",
       "      <td>3.0</td>\n",
       "      <td>222.0</td>\n",
       "      <td>18.7</td>\n",
       "      <td>396.90</td>\n",
       "      <td>5.33</td>\n",
       "    </tr>\n",
       "  </tbody>\n",
       "</table>\n",
       "</div>"
      ],
      "text/plain": [
       "      CRIM    ZN  INDUS  CHAS    NOX     RM   AGE     DIS  RAD    TAX  \\\n",
       "0  0.00632  18.0   2.31   0.0  0.538  6.575  65.2  4.0900  1.0  296.0   \n",
       "1  0.02731   0.0   7.07   0.0  0.469  6.421  78.9  4.9671  2.0  242.0   \n",
       "2  0.02729   0.0   7.07   0.0  0.469  7.185  61.1  4.9671  2.0  242.0   \n",
       "3  0.03237   0.0   2.18   0.0  0.458  6.998  45.8  6.0622  3.0  222.0   \n",
       "4  0.06905   0.0   2.18   0.0  0.458  7.147  54.2  6.0622  3.0  222.0   \n",
       "\n",
       "   PTRATIO       B  LSTAT  \n",
       "0     15.3  396.90   4.98  \n",
       "1     17.8  396.90   9.14  \n",
       "2     17.8  392.83   4.03  \n",
       "3     18.7  394.63   2.94  \n",
       "4     18.7  396.90   5.33  "
      ]
     },
     "execution_count": 4,
     "metadata": {},
     "output_type": "execute_result"
    }
   ],
   "source": [
    "#creates a dataframe for analysing the dataset\n",
    "boston = pd.DataFrame(boston_dataset.data, columns=boston_dataset.feature_names)\n",
    "#.head gives me a view of the first 5 rows in the dataset\n",
    "boston.head()"
   ]
  },
  {
   "cell_type": "code",
   "execution_count": 5,
   "metadata": {},
   "outputs": [
    {
     "data": {
      "text/html": [
       "<div>\n",
       "<style scoped>\n",
       "    .dataframe tbody tr th:only-of-type {\n",
       "        vertical-align: middle;\n",
       "    }\n",
       "\n",
       "    .dataframe tbody tr th {\n",
       "        vertical-align: top;\n",
       "    }\n",
       "\n",
       "    .dataframe thead th {\n",
       "        text-align: right;\n",
       "    }\n",
       "</style>\n",
       "<table border=\"1\" class=\"dataframe\">\n",
       "  <thead>\n",
       "    <tr style=\"text-align: right;\">\n",
       "      <th></th>\n",
       "      <th>CRIM</th>\n",
       "      <th>ZN</th>\n",
       "      <th>INDUS</th>\n",
       "      <th>CHAS</th>\n",
       "      <th>NOX</th>\n",
       "      <th>RM</th>\n",
       "      <th>AGE</th>\n",
       "      <th>DIS</th>\n",
       "      <th>RAD</th>\n",
       "      <th>TAX</th>\n",
       "      <th>PTRATIO</th>\n",
       "      <th>B</th>\n",
       "      <th>LSTAT</th>\n",
       "    </tr>\n",
       "  </thead>\n",
       "  <tbody>\n",
       "    <tr>\n",
       "      <td>501</td>\n",
       "      <td>0.06263</td>\n",
       "      <td>0.0</td>\n",
       "      <td>11.93</td>\n",
       "      <td>0.0</td>\n",
       "      <td>0.573</td>\n",
       "      <td>6.593</td>\n",
       "      <td>69.1</td>\n",
       "      <td>2.4786</td>\n",
       "      <td>1.0</td>\n",
       "      <td>273.0</td>\n",
       "      <td>21.0</td>\n",
       "      <td>391.99</td>\n",
       "      <td>9.67</td>\n",
       "    </tr>\n",
       "    <tr>\n",
       "      <td>502</td>\n",
       "      <td>0.04527</td>\n",
       "      <td>0.0</td>\n",
       "      <td>11.93</td>\n",
       "      <td>0.0</td>\n",
       "      <td>0.573</td>\n",
       "      <td>6.120</td>\n",
       "      <td>76.7</td>\n",
       "      <td>2.2875</td>\n",
       "      <td>1.0</td>\n",
       "      <td>273.0</td>\n",
       "      <td>21.0</td>\n",
       "      <td>396.90</td>\n",
       "      <td>9.08</td>\n",
       "    </tr>\n",
       "    <tr>\n",
       "      <td>503</td>\n",
       "      <td>0.06076</td>\n",
       "      <td>0.0</td>\n",
       "      <td>11.93</td>\n",
       "      <td>0.0</td>\n",
       "      <td>0.573</td>\n",
       "      <td>6.976</td>\n",
       "      <td>91.0</td>\n",
       "      <td>2.1675</td>\n",
       "      <td>1.0</td>\n",
       "      <td>273.0</td>\n",
       "      <td>21.0</td>\n",
       "      <td>396.90</td>\n",
       "      <td>5.64</td>\n",
       "    </tr>\n",
       "    <tr>\n",
       "      <td>504</td>\n",
       "      <td>0.10959</td>\n",
       "      <td>0.0</td>\n",
       "      <td>11.93</td>\n",
       "      <td>0.0</td>\n",
       "      <td>0.573</td>\n",
       "      <td>6.794</td>\n",
       "      <td>89.3</td>\n",
       "      <td>2.3889</td>\n",
       "      <td>1.0</td>\n",
       "      <td>273.0</td>\n",
       "      <td>21.0</td>\n",
       "      <td>393.45</td>\n",
       "      <td>6.48</td>\n",
       "    </tr>\n",
       "    <tr>\n",
       "      <td>505</td>\n",
       "      <td>0.04741</td>\n",
       "      <td>0.0</td>\n",
       "      <td>11.93</td>\n",
       "      <td>0.0</td>\n",
       "      <td>0.573</td>\n",
       "      <td>6.030</td>\n",
       "      <td>80.8</td>\n",
       "      <td>2.5050</td>\n",
       "      <td>1.0</td>\n",
       "      <td>273.0</td>\n",
       "      <td>21.0</td>\n",
       "      <td>396.90</td>\n",
       "      <td>7.88</td>\n",
       "    </tr>\n",
       "  </tbody>\n",
       "</table>\n",
       "</div>"
      ],
      "text/plain": [
       "        CRIM   ZN  INDUS  CHAS    NOX     RM   AGE     DIS  RAD    TAX  \\\n",
       "501  0.06263  0.0  11.93   0.0  0.573  6.593  69.1  2.4786  1.0  273.0   \n",
       "502  0.04527  0.0  11.93   0.0  0.573  6.120  76.7  2.2875  1.0  273.0   \n",
       "503  0.06076  0.0  11.93   0.0  0.573  6.976  91.0  2.1675  1.0  273.0   \n",
       "504  0.10959  0.0  11.93   0.0  0.573  6.794  89.3  2.3889  1.0  273.0   \n",
       "505  0.04741  0.0  11.93   0.0  0.573  6.030  80.8  2.5050  1.0  273.0   \n",
       "\n",
       "     PTRATIO       B  LSTAT  \n",
       "501     21.0  391.99   9.67  \n",
       "502     21.0  396.90   9.08  \n",
       "503     21.0  396.90   5.64  \n",
       "504     21.0  393.45   6.48  \n",
       "505     21.0  396.90   7.88  "
      ]
     },
     "execution_count": 5,
     "metadata": {},
     "output_type": "execute_result"
    }
   ],
   "source": [
    "boston.tail()"
   ]
  },
  {
   "cell_type": "code",
   "execution_count": 6,
   "metadata": {},
   "outputs": [],
   "source": [
    "#add taget variable price to dataset\n",
    "boston[\"MEDV\"] = boston_dataset.target"
   ]
  },
  {
   "cell_type": "code",
   "execution_count": 7,
   "metadata": {},
   "outputs": [
    {
     "data": {
      "text/html": [
       "<div>\n",
       "<style scoped>\n",
       "    .dataframe tbody tr th:only-of-type {\n",
       "        vertical-align: middle;\n",
       "    }\n",
       "\n",
       "    .dataframe tbody tr th {\n",
       "        vertical-align: top;\n",
       "    }\n",
       "\n",
       "    .dataframe thead th {\n",
       "        text-align: right;\n",
       "    }\n",
       "</style>\n",
       "<table border=\"1\" class=\"dataframe\">\n",
       "  <thead>\n",
       "    <tr style=\"text-align: right;\">\n",
       "      <th></th>\n",
       "      <th>count</th>\n",
       "      <th>mean</th>\n",
       "      <th>std</th>\n",
       "      <th>min</th>\n",
       "      <th>25%</th>\n",
       "      <th>50%</th>\n",
       "      <th>75%</th>\n",
       "      <th>max</th>\n",
       "    </tr>\n",
       "  </thead>\n",
       "  <tbody>\n",
       "    <tr>\n",
       "      <td>CRIM</td>\n",
       "      <td>506.0</td>\n",
       "      <td>3.613524</td>\n",
       "      <td>8.601545</td>\n",
       "      <td>0.00632</td>\n",
       "      <td>0.082045</td>\n",
       "      <td>0.25651</td>\n",
       "      <td>3.677083</td>\n",
       "      <td>88.9762</td>\n",
       "    </tr>\n",
       "    <tr>\n",
       "      <td>ZN</td>\n",
       "      <td>506.0</td>\n",
       "      <td>11.363636</td>\n",
       "      <td>23.322453</td>\n",
       "      <td>0.00000</td>\n",
       "      <td>0.000000</td>\n",
       "      <td>0.00000</td>\n",
       "      <td>12.500000</td>\n",
       "      <td>100.0000</td>\n",
       "    </tr>\n",
       "    <tr>\n",
       "      <td>INDUS</td>\n",
       "      <td>506.0</td>\n",
       "      <td>11.136779</td>\n",
       "      <td>6.860353</td>\n",
       "      <td>0.46000</td>\n",
       "      <td>5.190000</td>\n",
       "      <td>9.69000</td>\n",
       "      <td>18.100000</td>\n",
       "      <td>27.7400</td>\n",
       "    </tr>\n",
       "    <tr>\n",
       "      <td>CHAS</td>\n",
       "      <td>506.0</td>\n",
       "      <td>0.069170</td>\n",
       "      <td>0.253994</td>\n",
       "      <td>0.00000</td>\n",
       "      <td>0.000000</td>\n",
       "      <td>0.00000</td>\n",
       "      <td>0.000000</td>\n",
       "      <td>1.0000</td>\n",
       "    </tr>\n",
       "    <tr>\n",
       "      <td>NOX</td>\n",
       "      <td>506.0</td>\n",
       "      <td>0.554695</td>\n",
       "      <td>0.115878</td>\n",
       "      <td>0.38500</td>\n",
       "      <td>0.449000</td>\n",
       "      <td>0.53800</td>\n",
       "      <td>0.624000</td>\n",
       "      <td>0.8710</td>\n",
       "    </tr>\n",
       "    <tr>\n",
       "      <td>RM</td>\n",
       "      <td>506.0</td>\n",
       "      <td>6.284634</td>\n",
       "      <td>0.702617</td>\n",
       "      <td>3.56100</td>\n",
       "      <td>5.885500</td>\n",
       "      <td>6.20850</td>\n",
       "      <td>6.623500</td>\n",
       "      <td>8.7800</td>\n",
       "    </tr>\n",
       "    <tr>\n",
       "      <td>AGE</td>\n",
       "      <td>506.0</td>\n",
       "      <td>68.574901</td>\n",
       "      <td>28.148861</td>\n",
       "      <td>2.90000</td>\n",
       "      <td>45.025000</td>\n",
       "      <td>77.50000</td>\n",
       "      <td>94.075000</td>\n",
       "      <td>100.0000</td>\n",
       "    </tr>\n",
       "    <tr>\n",
       "      <td>DIS</td>\n",
       "      <td>506.0</td>\n",
       "      <td>3.795043</td>\n",
       "      <td>2.105710</td>\n",
       "      <td>1.12960</td>\n",
       "      <td>2.100175</td>\n",
       "      <td>3.20745</td>\n",
       "      <td>5.188425</td>\n",
       "      <td>12.1265</td>\n",
       "    </tr>\n",
       "    <tr>\n",
       "      <td>RAD</td>\n",
       "      <td>506.0</td>\n",
       "      <td>9.549407</td>\n",
       "      <td>8.707259</td>\n",
       "      <td>1.00000</td>\n",
       "      <td>4.000000</td>\n",
       "      <td>5.00000</td>\n",
       "      <td>24.000000</td>\n",
       "      <td>24.0000</td>\n",
       "    </tr>\n",
       "    <tr>\n",
       "      <td>TAX</td>\n",
       "      <td>506.0</td>\n",
       "      <td>408.237154</td>\n",
       "      <td>168.537116</td>\n",
       "      <td>187.00000</td>\n",
       "      <td>279.000000</td>\n",
       "      <td>330.00000</td>\n",
       "      <td>666.000000</td>\n",
       "      <td>711.0000</td>\n",
       "    </tr>\n",
       "    <tr>\n",
       "      <td>PTRATIO</td>\n",
       "      <td>506.0</td>\n",
       "      <td>18.455534</td>\n",
       "      <td>2.164946</td>\n",
       "      <td>12.60000</td>\n",
       "      <td>17.400000</td>\n",
       "      <td>19.05000</td>\n",
       "      <td>20.200000</td>\n",
       "      <td>22.0000</td>\n",
       "    </tr>\n",
       "    <tr>\n",
       "      <td>B</td>\n",
       "      <td>506.0</td>\n",
       "      <td>356.674032</td>\n",
       "      <td>91.294864</td>\n",
       "      <td>0.32000</td>\n",
       "      <td>375.377500</td>\n",
       "      <td>391.44000</td>\n",
       "      <td>396.225000</td>\n",
       "      <td>396.9000</td>\n",
       "    </tr>\n",
       "    <tr>\n",
       "      <td>LSTAT</td>\n",
       "      <td>506.0</td>\n",
       "      <td>12.653063</td>\n",
       "      <td>7.141062</td>\n",
       "      <td>1.73000</td>\n",
       "      <td>6.950000</td>\n",
       "      <td>11.36000</td>\n",
       "      <td>16.955000</td>\n",
       "      <td>37.9700</td>\n",
       "    </tr>\n",
       "    <tr>\n",
       "      <td>MEDV</td>\n",
       "      <td>506.0</td>\n",
       "      <td>22.532806</td>\n",
       "      <td>9.197104</td>\n",
       "      <td>5.00000</td>\n",
       "      <td>17.025000</td>\n",
       "      <td>21.20000</td>\n",
       "      <td>25.000000</td>\n",
       "      <td>50.0000</td>\n",
       "    </tr>\n",
       "  </tbody>\n",
       "</table>\n",
       "</div>"
      ],
      "text/plain": [
       "         count        mean         std        min         25%        50%  \\\n",
       "CRIM     506.0    3.613524    8.601545    0.00632    0.082045    0.25651   \n",
       "ZN       506.0   11.363636   23.322453    0.00000    0.000000    0.00000   \n",
       "INDUS    506.0   11.136779    6.860353    0.46000    5.190000    9.69000   \n",
       "CHAS     506.0    0.069170    0.253994    0.00000    0.000000    0.00000   \n",
       "NOX      506.0    0.554695    0.115878    0.38500    0.449000    0.53800   \n",
       "RM       506.0    6.284634    0.702617    3.56100    5.885500    6.20850   \n",
       "AGE      506.0   68.574901   28.148861    2.90000   45.025000   77.50000   \n",
       "DIS      506.0    3.795043    2.105710    1.12960    2.100175    3.20745   \n",
       "RAD      506.0    9.549407    8.707259    1.00000    4.000000    5.00000   \n",
       "TAX      506.0  408.237154  168.537116  187.00000  279.000000  330.00000   \n",
       "PTRATIO  506.0   18.455534    2.164946   12.60000   17.400000   19.05000   \n",
       "B        506.0  356.674032   91.294864    0.32000  375.377500  391.44000   \n",
       "LSTAT    506.0   12.653063    7.141062    1.73000    6.950000   11.36000   \n",
       "MEDV     506.0   22.532806    9.197104    5.00000   17.025000   21.20000   \n",
       "\n",
       "                75%       max  \n",
       "CRIM       3.677083   88.9762  \n",
       "ZN        12.500000  100.0000  \n",
       "INDUS     18.100000   27.7400  \n",
       "CHAS       0.000000    1.0000  \n",
       "NOX        0.624000    0.8710  \n",
       "RM         6.623500    8.7800  \n",
       "AGE       94.075000  100.0000  \n",
       "DIS        5.188425   12.1265  \n",
       "RAD       24.000000   24.0000  \n",
       "TAX      666.000000  711.0000  \n",
       "PTRATIO   20.200000   22.0000  \n",
       "B        396.225000  396.9000  \n",
       "LSTAT     16.955000   37.9700  \n",
       "MEDV      25.000000   50.0000  "
      ]
     },
     "execution_count": 7,
     "metadata": {},
     "output_type": "execute_result"
    }
   ],
   "source": [
    "#TRANSFORM ROWS TO COLUMNS to get a view of the descriptive statistics for dataset\n",
    "\n",
    "boston.describe().T"
   ]
  },
  {
   "cell_type": "markdown",
   "metadata": {},
   "source": [
    "From the above summary statistics below is a description of the stats for the target variable MEDV. "
   ]
  },
  {
   "cell_type": "markdown",
   "metadata": {},
   "source": [
    "***"
   ]
  },
  {
   "cell_type": "markdown",
   "metadata": {},
   "source": [
    "### MEDV - Median House Value"
   ]
  },
  {
   "cell_type": "code",
   "execution_count": 8,
   "metadata": {},
   "outputs": [],
   "source": [
    "min_price = boston.MEDV.min()\n",
    "max_price = boston.MEDV.max()\n",
    "mean_price = boston.MEDV.mean()\n",
    "median_price = boston.MEDV.median()\n",
    "std_dev_price = boston.MEDV.std()"
   ]
  },
  {
   "cell_type": "code",
   "execution_count": 9,
   "metadata": {},
   "outputs": [
    {
     "name": "stdout",
     "output_type": "stream",
     "text": [
      "Min price: $5.0\n",
      "Max price: $50.0\n",
      "Mean price: $22.532806324110698\n",
      "Median price $21.2\n",
      "Standard deviation of prices: $9.19710408737982\n"
     ]
    }
   ],
   "source": [
    "print(\"Min price: ${}\".format(min_price)) \n",
    "print(\"Max price: ${}\".format(max_price))\n",
    "print(\"Mean price: ${}\".format(mean_price)) # error with round function unsure why (TO BE FIXED)\n",
    "print(\"Median price ${}\".format(median_price))\n",
    "print(\"Standard deviation of prices: ${}\".format(std_dev_price))"
   ]
  },
  {
   "cell_type": "code",
   "execution_count": 10,
   "metadata": {},
   "outputs": [
    {
     "data": {
      "image/png": "[encoded data removed]",
      "text/plain": [
       "<Figure size 842.4x595.44 with 1 Axes>"
      ]
     },
     "metadata": {},
     "output_type": "display_data"
    }
   ],
   "source": [
    "## plot histogram of median house prices to understand the distribution of the data\n",
    "sns.set(rc={'figure.figsize':(11.7,8.27)})\n",
    "sns.distplot(boston['MEDV'], bins=30)\n",
    "plt.show()"
   ]
  },
  {
   "cell_type": "markdown",
   "metadata": {},
   "source": [
    "The distribution of the data is close to a normall distribution with some skewness to the right between the 40,000 to 50,000 price range.Most of the data points are between the 10,000 to 30,000 range as per the descriptive statistics above the chart.\n",
    "\n",
    "Next I will get a more specific view of the outliers using a boxplot chart."
   ]
  },
  {
   "cell_type": "code",
   "execution_count": 11,
   "metadata": {},
   "outputs": [
    {
     "data": {
      "text/plain": [
       "<matplotlib.axes._subplots.AxesSubplot at 0x1469dcd5488>"
      ]
     },
     "execution_count": 11,
     "metadata": {},
     "output_type": "execute_result"
    },
    {
     "data": {
      "image/png": "[encoded data removed]",
      "text/plain": [
       "<Figure size 576x360 with 1 Axes>"
      ]
     },
     "metadata": {},
     "output_type": "display_data"
    }
   ],
   "source": [
    "# plot boxplot to understand outliers\n",
    "fig = plt.gcf()\n",
    "fig.set_size_inches( 8, 5)\n",
    "sns.set(style=\"whitegrid\")\n",
    "sns.boxplot(y=\"MEDV\",data=boston,color=\"red\")"
   ]
  },
  {
   "cell_type": "markdown",
   "metadata": {},
   "source": [
    "As per the histogram, I can see that the outliers are mostly in the range between 40 to 50 thousand. Interestingly,\n",
    "one outlier is priced at 5 housand which seems live a very low price for a home.\n",
    "\n",
    "As previous research into the data suggests that there is a correlation between RM, LSTAT and MEDV I will look at the plots for both of these independent variables."
   ]
  },
  {
   "cell_type": "markdown",
   "metadata": {},
   "source": [
    "***"
   ]
  },
  {
   "cell_type": "markdown",
   "metadata": {},
   "source": [
    "### LSTAT - Lower status of the population"
   ]
  },
  {
   "cell_type": "code",
   "execution_count": 12,
   "metadata": {},
   "outputs": [],
   "source": [
    "min_priceLSTAT = boston.LSTAT.min()\n",
    "max_priceLSTAT = boston.LSTAT.max()\n",
    "mean_priceLSTAT = boston.LSTAT.mean()\n",
    "median_priceLSTAT = boston.LSTAT.median()\n",
    "std_dev_priceLSTAT = boston.LSTAT.std()"
   ]
  },
  {
   "cell_type": "code",
   "execution_count": 13,
   "metadata": {},
   "outputs": [
    {
     "name": "stdout",
     "output_type": "stream",
     "text": [
      "Min: 1.73%\n",
      "Max: 37.97%\n",
      "Mean: 12.653063241106723%\n",
      "Median 11.36%\n",
      "Standard deviation: 7.141061511348571%\n"
     ]
    }
   ],
   "source": [
    "print(\"Min: {}%\".format(min_priceLSTAT)) \n",
    "print(\"Max: {}%\".format(max_priceLSTAT))\n",
    "print(\"Mean: {}%\".format(mean_priceLSTAT)) # error with round function unsure why (TO BE FIXED)\n",
    "print(\"Median {}%\".format(median_priceLSTAT))\n",
    "print(\"Standard deviation: {}%\".format(std_dev_priceLSTAT))"
   ]
  },
  {
   "cell_type": "code",
   "execution_count": 14,
   "metadata": {
    "scrolled": true
   },
   "outputs": [
    {
     "data": {
      "image/png": "[encoded data removed]",
      "text/plain": [
       "<Figure size 842.4x595.44 with 1 Axes>"
      ]
     },
     "metadata": {},
     "output_type": "display_data"
    }
   ],
   "source": [
    "sns.set(rc={'figure.figsize':(11.7,8.27)})\n",
    "sns.distplot(boston['LSTAT'], bins=50)\n",
    "plt.show()"
   ]
  },
  {
   "cell_type": "markdown",
   "metadata": {},
   "source": [
    "The distribution of the LSTAT is right skewed and this can be seen visually through the longer tail to the right \n",
    "and typicaaly the mean is greater than the median in right skewed distributions and this is the case here.\n",
    "\n",
    "Mean 12.65% > Median 11.36%\n",
    "\n",
    "LSTAT indicates the proportion of the population in that neigbourhood that are deemed to be of lower status. We can see that \n",
    "on average 11% of the population in these neighborhoods are deemed to be of lower status with some outliers in the 30 to 40% range[6]\n",
    "\n",
    "Next I will get a more specific view of the outliers using a boxplot chart."
   ]
  },
  {
   "cell_type": "code",
   "execution_count": 15,
   "metadata": {},
   "outputs": [
    {
     "data": {
      "text/plain": [
       "<matplotlib.axes._subplots.AxesSubplot at 0x1469dbe1808>"
      ]
     },
     "execution_count": 15,
     "metadata": {},
     "output_type": "execute_result"
    },
    {
     "data": {
      "image/png": "[encoded data removed]",
      "text/plain": [
       "<Figure size 576x360 with 1 Axes>"
      ]
     },
     "metadata": {},
     "output_type": "display_data"
    }
   ],
   "source": [
    "# plot boxplot to understand outliers\n",
    "fig = plt.gcf()\n",
    "fig.set_size_inches( 8, 5)\n",
    "sns.set(style=\"whitegrid\")\n",
    "sns.boxplot(y=\"LSTAT\",data=boston,color=\"orange\")"
   ]
  },
  {
   "cell_type": "markdown",
   "metadata": {},
   "source": [
    "We can see that the outliers exist in the 30 to 35% range and most of the neighbourhoods have an LSTAT between 7 and 17%.\n",
    "\n",
    "The final variable I will investigate is RM average number of rooms per dwellling as this variable also had a strong correlation with MEDV according to previous articles."
   ]
  },
  {
   "cell_type": "markdown",
   "metadata": {},
   "source": [
    "***"
   ]
  },
  {
   "cell_type": "markdown",
   "metadata": {},
   "source": [
    "### RM - Average number of rooms per dwelling"
   ]
  },
  {
   "cell_type": "code",
   "execution_count": 16,
   "metadata": {},
   "outputs": [],
   "source": [
    "min_priceRM = boston.RM.min()\n",
    "max_priceRM = boston.RM.max()\n",
    "mean_priceRM = boston.RM.mean()\n",
    "median_priceRM = boston.RM.median()\n",
    "std_dev_priceRM = boston.RM.std()"
   ]
  },
  {
   "cell_type": "code",
   "execution_count": 17,
   "metadata": {},
   "outputs": [
    {
     "name": "stdout",
     "output_type": "stream",
     "text": [
      "Min: 3.561\n",
      "Max: 8.78\n",
      "Mean: 6.284634387351787\n",
      "Median 6.2085\n",
      "Standard deviation: 0.7026171434153237\n"
     ]
    }
   ],
   "source": [
    "print(\"Min: {}\".format(min_priceRM)) \n",
    "print(\"Max: {}\".format(max_priceRM))\n",
    "print(\"Mean: {}\".format(mean_priceRM)) # error with round function unsure why (TO BE FIXED)\n",
    "print(\"Median {}\".format(median_priceRM))\n",
    "print(\"Standard deviation: {}\".format(std_dev_priceRM))"
   ]
  },
  {
   "cell_type": "code",
   "execution_count": 18,
   "metadata": {},
   "outputs": [
    {
     "data": {
      "image/png": "[encoded data removed]",
      "text/plain": [
       "<Figure size 842.4x595.44 with 1 Axes>"
      ]
     },
     "metadata": {},
     "output_type": "display_data"
    }
   ],
   "source": [
    "sns.set(rc={'figure.figsize':(11.7,8.27)})\n",
    "sns.distplot(boston['RM'], bins=30)\n",
    "plt.show()"
   ]
  },
  {
   "cell_type": "markdown",
   "metadata": {},
   "source": [
    "We can see from the above histogram that population is normally distributed and very little skewness. A typical normally distribution\n",
    "would have an equal median and mean and this case both mean and median are at 6.2 rooms per dwelling. \n",
    "\n",
    "Next I will get a more specific view of the outliers using a boxplot chart."
   ]
  },
  {
   "cell_type": "code",
   "execution_count": 19,
   "metadata": {},
   "outputs": [
    {
     "data": {
      "text/plain": [
       "<matplotlib.axes._subplots.AxesSubplot at 0x1469db725c8>"
      ]
     },
     "execution_count": 19,
     "metadata": {},
     "output_type": "execute_result"
    },
    {
     "data": {
      "image/png": "[encoded data removed]",
      "text/plain": [
       "<Figure size 576x360 with 1 Axes>"
      ]
     },
     "metadata": {},
     "output_type": "display_data"
    }
   ],
   "source": [
    "# plot boxplot to understand outliers\n",
    "fig = plt.gcf()\n",
    "fig.set_size_inches( 8, 5)\n",
    "sns.set(style=\"whitegrid\")\n",
    "sns.boxplot(y=\"RM\",data=boston,color=\"purple\")"
   ]
  },
  {
   "cell_type": "markdown",
   "metadata": {},
   "source": [
    "Boxplot indicates that the population centres around 6.2 rooms with outliers at over 8 rooms and less than 5. "
   ]
  },
  {
   "cell_type": "markdown",
   "metadata": {},
   "source": [
    "Next I will briefly look at the relationships btween the variables and then focus on the category variable CHAS Charles River dummy variable (= 1 if tract bounds river; 0 otherwise) and\n",
    "its relationship to MEDV."
   ]
  },
  {
   "cell_type": "markdown",
   "metadata": {},
   "source": [
    "***"
   ]
  },
  {
   "cell_type": "markdown",
   "metadata": {},
   "source": [
    "# Inferential Statistics"
   ]
  },
  {
   "cell_type": "markdown",
   "metadata": {},
   "source": [
    "Intuitively, one would expect the following relationships between LSTAT, RM, CHAS and MEDV:\n",
    "\n",
    "- linear relationship as more rooms equals more space, hence a higher MEDV\n",
    "\n",
    "- Where the LSTAT is lower one would expect the MEDV to be lowere as the neighborhhod may have issue with crime etc.\n",
    "\n",
    "- Houses in neighbourhoods that tracts the river would have higher values due to views of the river and poosibly less \n",
    "  congestion\n",
    "  \n",
    "Following on from those intuitions I will model the relationships bwtween the variables focusing on CHAS and MEDV relationship."
   ]
  },
  {
   "cell_type": "markdown",
   "metadata": {},
   "source": [
    "***"
   ]
  },
  {
   "cell_type": "markdown",
   "metadata": {},
   "source": [
    "### Correlation"
   ]
  },
  {
   "cell_type": "markdown",
   "metadata": {},
   "source": [
    "As already mentioned, previous research has indicated a strong relationship between LSTAT, RM and MEDV and the following\n",
    "heatmap replicates that view. "
   ]
  },
  {
   "cell_type": "code",
   "execution_count": 20,
   "metadata": {},
   "outputs": [
    {
     "data": {
      "text/plain": [
       "<matplotlib.axes._subplots.AxesSubplot at 0x1469dbd9408>"
      ]
     },
     "execution_count": 20,
     "metadata": {},
     "output_type": "execute_result"
    },
    {
     "data": {
      "image/png": "[encoded data removed]",
      "text/plain": [
       "<Figure size 914.4x595.44 with 2 Axes>"
      ]
     },
     "metadata": {},
     "output_type": "display_data"
    }
   ],
   "source": [
    "#set plot size\n",
    "sns.set(rc={'figure.figsize':(12.7,8.27)})\n",
    "# heatmap for correlation analysis\n",
    "sns.heatmap(boston.corr().round(2), square=True, annot=True,cmap ='coolwarm')\n"
   ]
  },
  {
   "cell_type": "markdown",
   "metadata": {},
   "source": [
    "The strongest positive correlations are displayed in dark green and the strongest negative correlations are displayed\n",
    "in red - between 1 and minus 1\n",
    "\n",
    "The dependent variable (target variable) is MEDV (median house value) and the strongest correlation is with\n",
    "LSTAT (lowest status of the poulation) -0.74 and RM 0.7. A correlation can also be seen between MEDV and RM (0.7) RM and LSTAT (-0.61), but there is no correlation between MEDV and CHAS. \n",
    "\n"
   ]
  },
  {
   "cell_type": "markdown",
   "metadata": {},
   "source": [
    " Following on from the correlation matrix we can look at a pairplot chart that models the linear relationship between \n",
    " MEDV, LSTAT and RM."
   ]
  },
  {
   "cell_type": "markdown",
   "metadata": {},
   "source": [
    "***"
   ]
  },
  {
   "cell_type": "markdown",
   "metadata": {},
   "source": [
    "### **Regression**"
   ]
  },
  {
   "cell_type": "code",
   "execution_count": 21,
   "metadata": {},
   "outputs": [
    {
     "data": {
      "image/png": "[encoded data removed]",
      "text/plain": [
       "<Figure size 576x360 with 2 Axes>"
      ]
     },
     "metadata": {},
     "output_type": "display_data"
    }
   ],
   "source": [
    "# regression plots\n",
    "sns.pairplot(boston, x_vars=[\"LSTAT\", \"RM\"], y_vars=[\"MEDV\"],\n",
    "            height=5, aspect=.8, kind=\"reg\",palette=\"husl\");\n"
   ]
  },
  {
   "cell_type": "code",
   "execution_count": 22,
   "metadata": {},
   "outputs": [
    {
     "data": {
      "text/plain": [
       "[<matplotlib.lines.Line2D at 0x1469e10d788>]"
      ]
     },
     "execution_count": 22,
     "metadata": {},
     "output_type": "execute_result"
    },
    {
     "data": {
      "image/png": "[encoded data removed]",
      "text/plain": [
       "<Figure size 576x360 with 1 Axes>"
      ]
     },
     "metadata": {},
     "output_type": "display_data"
    }
   ],
   "source": [
    "fig = plt.gcf()\n",
    "fig.set_size_inches( 8, 5)\n",
    "trend = np.polyfit(boston['RM'],boston['MEDV'],2)\n",
    "plt.plot(boston['RM'],boston['MEDV'],'.')\n",
    "trendpoly = np.poly1d(trend) \n",
    "plt.plot(boston['RM'],trendpoly(boston['RM']))\n"
   ]
  },
  {
   "cell_type": "code",
   "execution_count": 23,
   "metadata": {},
   "outputs": [
    {
     "data": {
      "text/plain": [
       "[<matplotlib.lines.Line2D at 0x1469e14a348>]"
      ]
     },
     "execution_count": 23,
     "metadata": {},
     "output_type": "execute_result"
    },
    {
     "data": {
      "image/png": "[encoded data removed]",
      "text/plain": [
       "<Figure size 576x360 with 1 Axes>"
      ]
     },
     "metadata": {},
     "output_type": "display_data"
    }
   ],
   "source": [
    "fig = plt.gcf()\n",
    "fig.set_size_inches( 8, 5)\n",
    "trend2 = np.polyfit(boston['LSTAT'],boston['MEDV'],2)\n",
    "plt.plot(boston['LSTAT'],boston['MEDV'],'.')\n",
    "trendpoly2 = np.poly1d(trend2) \n",
    "plt.plot(boston['LSTAT'],trendpoly2(boston['LSTAT']))"
   ]
  },
  {
   "cell_type": "markdown",
   "metadata": {},
   "source": [
    "We can see that there is a linear relationship between both variables and MEDV, although the population does not completely\n",
    "follow linearly with some outliers. A negative linear relationship exists between LSTAT and MEDV indicating that house prices\n",
    "are higher where the LSTAT is lower. \n",
    "A positive linear relationship exists between RM and MEDV indicating that house prices are higher for homes with more rooms. \n",
    "We can see see outlier in both charts e.g. houses with between 5 and 9 rooms commanding the max MEDV and this could be associated \n",
    "with location and build of the house."
   ]
  },
  {
   "cell_type": "markdown",
   "metadata": {},
   "source": [
    "***"
   ]
  },
  {
   "cell_type": "markdown",
   "metadata": {},
   "source": [
    "### CHAS - Charles River dummy variable (= 1 if tract bounds river; 0 otherwise)"
   ]
  },
  {
   "cell_type": "markdown",
   "metadata": {},
   "source": [
    "To start analysing the CHAS variable and its association with MEDV I need to first create a new category variable called CHAScat"
   ]
  },
  {
   "cell_type": "code",
   "execution_count": 24,
   "metadata": {},
   "outputs": [],
   "source": [
    "## create a new category variable to analyse CHAS\n",
    "boston[\"CHAScat\"] = boston[\"CHAS\"].astype('category')\n"
   ]
  },
  {
   "cell_type": "markdown",
   "metadata": {},
   "source": [
    "Next I want to know how many neighbourhoods bound the river"
   ]
  },
  {
   "cell_type": "code",
   "execution_count": 25,
   "metadata": {
    "scrolled": true
   },
   "outputs": [
    {
     "data": {
      "text/plain": [
       "CHAScat\n",
       "0.0    471\n",
       "1.0     35\n",
       "Name: MEDV, dtype: int64"
      ]
     },
     "execution_count": 25,
     "metadata": {},
     "output_type": "execute_result"
    }
   ],
   "source": [
    "## get count of neighbourhoods with houses that bounds or does not bound the river\n",
    "boston.groupby('CHAScat')['MEDV'].count()"
   ]
  },
  {
   "cell_type": "markdown",
   "metadata": {},
   "source": [
    "I can see that 35 neighbourhoods bound the river while 471 do not. Next I will mean and median to compare house prices and use boxplots to compare the \n",
    "median price of houses against the CHAScat variable to see if there is a difference in price. It will also give me a \n",
    "a view of the maximum and minimum values of both. \n"
   ]
  },
  {
   "cell_type": "code",
   "execution_count": 26,
   "metadata": {},
   "outputs": [
    {
     "name": "stdout",
     "output_type": "stream",
     "text": [
      "The median house price is: CHAScat\n",
      "0.0    20.9\n",
      "1.0    23.3\n",
      "Name: MEDV, dtype: float64\n",
      "The average house price is: CHAS\n",
      "0.0    22.093843\n",
      "1.0    28.440000\n",
      "Name: MEDV, dtype: float64\n"
     ]
    }
   ],
   "source": [
    "print(\"The median house price is:\",boston.groupby('CHAScat')['MEDV'].median())\n",
    "print(\"The average house price is:\",boston.groupby('CHAS')['MEDV'].mean())"
   ]
  },
  {
   "cell_type": "code",
   "execution_count": 27,
   "metadata": {
    "scrolled": true
   },
   "outputs": [
    {
     "data": {
      "text/plain": [
       "<matplotlib.axes._subplots.AxesSubplot at 0x1469e1c5bc8>"
      ]
     },
     "execution_count": 27,
     "metadata": {},
     "output_type": "execute_result"
    },
    {
     "data": {
      "image/png": "[encoded data removed]",
      "text/plain": [
       "<Figure size 432x288 with 1 Axes>"
      ]
     },
     "metadata": {
      "needs_background": "light"
     },
     "output_type": "display_data"
    }
   ],
   "source": [
    "%matplotlib inline\n",
    "sns.boxplot(x='CHAScat', y='MEDV', data=boston)"
   ]
  },
  {
   "cell_type": "markdown",
   "metadata": {},
   "source": [
    "The category labels X are defined as follows:\n",
    "- 1 represents neighbourhoods with land that bounds the river while;\n",
    "- 0 represents neighbourhoods that don't bound the river.\n",
    "\n",
    "One would expect that houses closer to the river would have higher median prices and we can see that the median house price is higher for 1 i.e. box plot on the right, although not significantly. \n",
    "\n",
    "The interquartile range (25 - 75% percentile) illustrated by the rectangle for category 1 starts and ends much higher, at over 200,000 up to over 300,000 for houses that tract the land. This indicates that land that tracts the river have higher median house values. "
   ]
  },
  {
   "cell_type": "markdown",
   "metadata": {},
   "source": [
    "Add commentary on distpolts - kutosis value and so on"
   ]
  },
  {
   "cell_type": "code",
   "execution_count": 28,
   "metadata": {},
   "outputs": [],
   "source": [
    "tract0 = boston['MEDV'][boston['CHAScat'] == 0]"
   ]
  },
  {
   "cell_type": "code",
   "execution_count": 29,
   "metadata": {},
   "outputs": [],
   "source": [
    "tract1 = boston['MEDV'][boston['CHAScat'] == 1]"
   ]
  },
  {
   "cell_type": "code",
   "execution_count": 30,
   "metadata": {
    "scrolled": false
   },
   "outputs": [
    {
     "data": {
      "image/png": "[encoded data removed]",
      "text/plain": [
       "<Figure size 1080x576 with 1 Axes>"
      ]
     },
     "metadata": {},
     "output_type": "display_data"
    }
   ],
   "source": [
    "sns.set(rc={'figure.figsize':(15,8)})\n",
    "sns.distplot(tract0, bins=50, label='Bounds river')\n",
    "sns.distplot(tract1, bins=50, label='Otherwise')\n",
    "plt.legend()\n",
    "plt.show()"
   ]
  },
  {
   "cell_type": "markdown",
   "metadata": {},
   "source": [
    "***"
   ]
  },
  {
   "cell_type": "markdown",
   "metadata": {},
   "source": [
    "### T-Test"
   ]
  },
  {
   "cell_type": "markdown",
   "metadata": {},
   "source": [
    "The following code cells give us an understanding of both populations i.e. mean, standard deviation of the distribution and\n",
    "how skewness of the distribution. When conducting a Ttest it is importand understand these basic statistics to choose the\n",
    "correct TTest. \n",
    "\n",
    "I decided to use a welch's Ttest to perform my analysis as the sample sizes will be different, will be unpaired and the  \n",
    "variance is also different. See cells below for sample sizes, standard devaiation and skewness\n",
    "\n",
    "The null hypoteseis for this Ttest is that the populations being tested tract 0 (houses not on the river tract) and tract1 (houses on river tract) are not statisticallly significantly different. \n",
    "\n",
    "If the P Value is less than 0.5 then we reject the null hypotesis and have more than 95% confidence that the conclusion of the test will be valid and not just down to random chance."
   ]
  },
  {
   "cell_type": "code",
   "execution_count": 31,
   "metadata": {},
   "outputs": [
    {
     "data": {
      "text/plain": [
       "CHAScat\n",
       "0.0     8.831362\n",
       "1.0    11.816643\n",
       "Name: MEDV, dtype: float64"
      ]
     },
     "execution_count": 31,
     "metadata": {},
     "output_type": "execute_result"
    }
   ],
   "source": [
    "##check for similar standard deviations \n",
    "boston.groupby('CHAScat')['MEDV'].std()"
   ]
  },
  {
   "cell_type": "code",
   "execution_count": 32,
   "metadata": {},
   "outputs": [
    {
     "data": {
      "text/plain": [
       "CHAScat\n",
       "0.0    22.093843\n",
       "1.0    28.440000\n",
       "Name: MEDV, dtype: float64"
      ]
     },
     "execution_count": 32,
     "metadata": {},
     "output_type": "execute_result"
    }
   ],
   "source": [
    "##check for similar means\n",
    "boston.groupby('CHAScat')['MEDV'].mean()"
   ]
  },
  {
   "cell_type": "code",
   "execution_count": 33,
   "metadata": {},
   "outputs": [
    {
     "data": {
      "text/plain": [
       "CHAScat\n",
       "0.0    471\n",
       "1.0     35\n",
       "Name: MEDV, dtype: int64"
      ]
     },
     "execution_count": 33,
     "metadata": {},
     "output_type": "execute_result"
    }
   ],
   "source": [
    "##check population sizes\n",
    "boston.groupby('CHAScat')['MEDV'].count()"
   ]
  },
  {
   "cell_type": "code",
   "execution_count": 34,
   "metadata": {},
   "outputs": [
    {
     "data": {
      "text/plain": [
       "CHAScat\n",
       "0.0    1.056908\n",
       "1.0    0.943012\n",
       "Name: MEDV, dtype: float64"
      ]
     },
     "execution_count": 34,
     "metadata": {},
     "output_type": "execute_result"
    }
   ],
   "source": [
    "##check for similar variances in population\n",
    "boston.groupby('CHAScat')['MEDV'].skew()"
   ]
  },
  {
   "cell_type": "code",
   "execution_count": 35,
   "metadata": {},
   "outputs": [],
   "source": [
    "import matplotlib.patches as mpatches"
   ]
  },
  {
   "cell_type": "code",
   "execution_count": 36,
   "metadata": {},
   "outputs": [
    {
     "data": {
      "text/plain": [
       "<matplotlib.legend.Legend at 0x1469df88888>"
      ]
     },
     "execution_count": 36,
     "metadata": {},
     "output_type": "execute_result"
    },
    {
     "data": {
      "image/png": "[encoded data removed]",
      "text/plain": [
       "<Figure size 1080x576 with 1 Axes>"
      ]
     },
     "metadata": {},
     "output_type": "display_data"
    }
   ],
   "source": [
    "green_patch = mpatches.Patch(color='g', label='Not on River tract')\n",
    "blue_patch = mpatches.Patch(color='b', label='On River tract')\n",
    "\n",
    "plt.hist(tract0, density=True, color='g', alpha=0.25)\n",
    "plt.hist(tract1, density=True, color='b', alpha=0.25)\n",
    "\n",
    "plt.legend(handles=[green_patch,blue_patch])"
   ]
  },
  {
   "cell_type": "code",
   "execution_count": 37,
   "metadata": {},
   "outputs": [
    {
     "data": {
      "text/plain": [
       "Ttest_indResult(statistic=-3.113291312794837, pvalue=0.003567170098137517)"
      ]
     },
     "execution_count": 37,
     "metadata": {},
     "output_type": "execute_result"
    }
   ],
   "source": [
    "#implement independent ttest\n",
    "ss.ttest_ind(tract0,tract1,equal_var = False)"
   ]
  },
  {
   "cell_type": "markdown",
   "metadata": {},
   "source": [
    "We can see that the pvalue is less than 0.5 and the null hypotesis can be rejected. Although both distributions\n",
    "over the median house values in both populations is statistically siginificantly different. "
   ]
  },
  {
   "cell_type": "markdown",
   "metadata": {},
   "source": [
    "## Predict using Keras Neural Networks"
   ]
  },
  {
   "cell_type": "markdown",
   "metadata": {},
   "source": [
    "![Neuron](https://s3.amazonaws.com/assets.datacamp.com/blog_assets/Keras+Python+Tutorial/content_content_neuron.png)"
   ]
  },
  {
   "cell_type": "markdown",
   "metadata": {},
   "source": [
    "#### What is a Neural Network? "
   ]
  },
  {
   "cell_type": "markdown",
   "metadata": {},
   "source": [
    "\"Neural networks are a set of *algorithms*, modeled loosely after the human brain, that are designed to *recognize patterns*. \n",
    "They interpret sensory data through a kind of machine perception, labeling or clustering raw input. \n",
    "The patterns they recognize are *numerical*, contained in *vectors*, into which all real-world data, be it images, sound, text or \n",
    "time series, must be translated.\" [9]\n",
    "\n",
    "Neural networks were first proposed in 1944 by Warren McCullough and Walter Pitts, two University of Chicago researchers who moved to MIT in 1952 as founding members of what’s sometimes called the first cognitive science department. [10] \n",
    "\n",
    "Although neural networks have been around for 70 years their application has been bolstored by the increasing processing power of computer chips."
   ]
  },
  {
   "cell_type": "markdown",
   "metadata": {},
   "source": [
    "#### How does a Neural Network work?"
   ]
  },
  {
   "cell_type": "markdown",
   "metadata": {},
   "source": [
    "Modeled loosely on the human brain, a neural net consists of thousands or even millions of simple processing **nodes** that are densely interconnected. Most of today’s neural nets are organized into **layers of nodes**, \n",
    "and they’re **feed-forward,** meaning that data moves through them in only one direction. \n",
    "An individual node might be **connected to several nodes** in the layer beneath it, from which it receives data, and several nodes in the layer above it, to which it sends data.\n",
    "\n",
    "\n"
   ]
  },
  {
   "cell_type": "markdown",
   "metadata": {},
   "source": [
    "To each of its incoming connections, a node will assign a number known as a **weight**. \n",
    "When the network is active, the node receives a different data item — a different number — over each of its connections and multiplies it by the associated weight. \n",
    "\n",
    "It then adds the resulting products together, yielding a single number. \n",
    "\n",
    "If that number is below a threshold value, the node passes no data to the next layer. \n",
    "\n",
    "If the number exceeds the threshold value,the node **fires** which in today’s neural nets generally means\n",
    "sending the number — the **sum of the weighted inputs** — along all its outgoing connections.[10]"
   ]
  },
  {
   "cell_type": "markdown",
   "metadata": {},
   "source": [
    "It is important to explain two functions that can radically change the output from your nodes and they are called the:\n",
    "\n",
    "     -  activation function and;\n",
    "     -  optimisation function\n",
    "    \n"
   ]
  },
  {
   "cell_type": "markdown",
   "metadata": {},
   "source": [
    "#### Activation function"
   ]
  },
  {
   "cell_type": "markdown",
   "metadata": {},
   "source": [
    "It is important to apply an activation function to introduce **non-linear** processing between the nodes otherwise\n",
    "nodes would do their processing linearly paasing output to to the next node and you would end up with a linear model i.e. \n",
    "linear regression. If the relationships between the variables are non-linear ther model will not train correctly as it will bypass datapoints not following a linear pattern resultung in **underfitting** which I will discuss shortly. Some commonly used activation functions are:\n",
    "    - CUBE\n",
    "    - RELU\n",
    "    - SIGMOID\n",
    "    - SOFTMAX\n",
    "    - TANH\n",
    "    \n",
    "Further on I will explain more about these functions as I will be using **RELU** as the activation function for my neural\n",
    "."
   ]
  },
  {
   "cell_type": "markdown",
   "metadata": {},
   "source": [
    "#### Optimisation function"
   ]
  },
  {
   "cell_type": "markdown",
   "metadata": {},
   "source": [
    "Optimisation functions play an important role in **minimising the loss** in the neural networks training process by for example \n",
    "rebalancing the weights according to the error produced from the output in each node. [11] Some commonly used functions are:\n",
    "\n",
    "    - ADADELTA\n",
    "    - ADAGRAD\n",
    "    - ADAM\n",
    "    - SGD\n",
    "    - LINE GRADIENT DESCENT\n",
    "       \n",
    "Further on I will explain more about these functions as I will be using **Adam** as the optimisation function for my neural\n",
    "network"
   ]
  },
  {
   "cell_type": "markdown",
   "metadata": {},
   "source": [
    "#### Loss , Epochs and Batch size"
   ]
  },
  {
   "cell_type": "markdown",
   "metadata": {},
   "source": [
    "**Loss:** It is a method to evaluate how well an algorithm models the data passed into the neural network.\n",
    "      Loss is usually classifed into two categories: **Classification** and **regression**; and depending on the relationships\n",
    "      between the variables you will choose an appropriate loss function, although not an exact science, yet! \n",
    "      Loss functions go hand in hand with optimisation function and ideally they should **learn to reduce error in predictions**\n",
    "      as neural network goes through various iterations of learning. [13] I will be using **Mean Absolute error** as the loss function for my model with an explanation of the function further on.\n",
    "\n",
    "**Epochs:** Epochs is the number of times the the learning algorithm will work through the entire dataset. For each epoch the learning algorithm's internal paramaters will ideally be fine tuned resulting in an improved loss on each iteration. \n",
    "\n",
    "**Batch:** The batch size determines how many samples the learning algorithm should pass over before the model is updated. Learning algorithm passes through each batch updating model parameters before moving onto the next epoch. As with epochs you need to adjust the batch sizes to see if the loss improves. [14]"
   ]
  },
  {
   "cell_type": "markdown",
   "metadata": {},
   "source": [
    "#### Underfitting and Overfitting models"
   ]
  },
  {
   "cell_type": "markdown",
   "metadata": {},
   "source": [
    "In lahmens terms a model is underfitted when it **fails to learn the relationships** between the data i.e. \n",
    "we get a linear relationship rather than a more curve linear relationship.\n",
    "\n",
    "A model is overfitted when there is **too much reliance** on the training data i.e. is too rigid and is of no use when random data\n",
    "is passed into the model. \n",
    "\n",
    "Therea are techniques to evaluate the performance of the model including holding back a **vaildation set** and a method called **cross-validation.** A validation set can be referred to as a pre-test where our training model is tested before being released on\n",
    "the test data. This gives the model a chance to improve its learning by validating the data on each iteration through the data. Using cross validation we split the training data into different subsets, or we can use multiple validation sets if we have lots of data.[15]"
   ]
  },
  {
   "cell_type": "markdown",
   "metadata": {},
   "source": [
    "#### Neural Networks and their application in real life"
   ]
  },
  {
   "cell_type": "markdown",
   "metadata": {},
   "source": [
    "**Classification**\n",
    "\n",
    "They typically use cross sectional data. Solving these problems entails ‘learning’ patterns in a data set and constructing a model that can recognize these patterns. Commercial artificial neural network applications of this nature include:\n",
    "\n",
    "    - Credit card fraud detection reportedly being used by Eurocard Nederland, Mellon Bank, First USA Bank\n",
    "    - Petroleum exploration being used by Texaco and Arco to determine locations of underground oil and gas deposits\n",
    "    \n",
    "**Time Series**\n",
    "\n",
    "Typically used build a forecasting model from the historical data set to predict future data points. Applications include:\n",
    "\n",
    "    - Foreign exchange trading systems: Citibank London\n",
    "    - Forecasting weather patterns\n",
    "    \n",
    "**Optimisation**\n",
    "\n",
    "Used for finding solutions for a set of very difficult problems known as Non-Polynomial (NP) complete problems. These problem require unsupervised learning approaches i.e. the model does not have outputs to train itself. Examples as follows:\n",
    "\n",
    "    - job-scheduling in manufacturing and; \n",
    "    - efficient routing problems involving vehicles or telecommunication [12]\n",
    "\n"
   ]
  },
  {
   "cell_type": "markdown",
   "metadata": {},
   "source": [
    "## Neural Network  - Median House Values"
   ]
  },
  {
   "cell_type": "markdown",
   "metadata": {},
   "source": [
    "In this section I build build three neural networks that are differentiated by how the variable are processed before being\n",
    "passed to the network.\n",
    "\n",
    "    - A neural network without preprocessing and standardisation of the variables\n",
    "    - A neural network with scaling and;\n",
    "    - A neural network with whitening\n",
    "\n",
    "I will use the independent variables RM and LSTAT my inputs as they have a **strong correlation** with **MEDV** which theoretically should assist the model in finding patterns in the data. These variables will then be trained on the target variable MEDV.\n",
    "\n",
    "It is important **not** to include features that are **highly intercorrelated** and as a rule of thumb variables with a correlation of higher than 0.7 should be excluded. RM and LSTAT have a correlation of -0.61. \n",
    "\n",
    "**Keras** library will be used as the **front-end API** for building the model and **tensorflow** library will carry out the calculations for the machine learning model. Keras has been broadly adopted by the\n",
    "research and industry community with over 250,000 users in 2018. [7] The single biggest benefit TensorFlow provides for machine learning development is **abstraction.** A user can concentrate on the logic of the model rather than the details of code.[16]\n",
    "\n",
    "**Sklearn** library will be used for splitting the data into training and testing samples while using the library for preprocessing\n",
    "in second and third neural network."
   ]
  },
  {
   "cell_type": "markdown",
   "metadata": {},
   "source": [
    "Now I will import the libraries mentioned above:"
   ]
  },
  {
   "cell_type": "code",
   "execution_count": 38,
   "metadata": {},
   "outputs": [
    {
     "name": "stderr",
     "output_type": "stream",
     "text": [
      "Using TensorFlow backend.\n"
     ]
    }
   ],
   "source": [
    "import keras as kr\n",
    "# For splitting the data\n",
    "import sklearn.preprocessing as pre\n",
    "# For splitting data sets.\n",
    "import sklearn.model_selection as mod\n",
    "# For whitening.\n",
    "import sklearn.decomposition as dec"
   ]
  },
  {
   "cell_type": "markdown",
   "metadata": {},
   "source": [
    "Next step is to assign the RM and LSTAT from the boston dataframe to 'Inputs' variable."
   ]
  },
  {
   "cell_type": "code",
   "execution_count": 39,
   "metadata": {
    "scrolled": true
   },
   "outputs": [
    {
     "data": {
      "text/html": [
       "<div>\n",
       "<style scoped>\n",
       "    .dataframe tbody tr th:only-of-type {\n",
       "        vertical-align: middle;\n",
       "    }\n",
       "\n",
       "    .dataframe tbody tr th {\n",
       "        vertical-align: top;\n",
       "    }\n",
       "\n",
       "    .dataframe thead th {\n",
       "        text-align: right;\n",
       "    }\n",
       "</style>\n",
       "<table border=\"1\" class=\"dataframe\">\n",
       "  <thead>\n",
       "    <tr style=\"text-align: right;\">\n",
       "      <th></th>\n",
       "      <th>RM</th>\n",
       "      <th>LSTAT</th>\n",
       "    </tr>\n",
       "  </thead>\n",
       "  <tbody>\n",
       "    <tr>\n",
       "      <td>0</td>\n",
       "      <td>6.575</td>\n",
       "      <td>4.98</td>\n",
       "    </tr>\n",
       "    <tr>\n",
       "      <td>1</td>\n",
       "      <td>6.421</td>\n",
       "      <td>9.14</td>\n",
       "    </tr>\n",
       "    <tr>\n",
       "      <td>2</td>\n",
       "      <td>7.185</td>\n",
       "      <td>4.03</td>\n",
       "    </tr>\n",
       "    <tr>\n",
       "      <td>3</td>\n",
       "      <td>6.998</td>\n",
       "      <td>2.94</td>\n",
       "    </tr>\n",
       "    <tr>\n",
       "      <td>4</td>\n",
       "      <td>7.147</td>\n",
       "      <td>5.33</td>\n",
       "    </tr>\n",
       "  </tbody>\n",
       "</table>\n",
       "</div>"
      ],
      "text/plain": [
       "      RM  LSTAT\n",
       "0  6.575   4.98\n",
       "1  6.421   9.14\n",
       "2  7.185   4.03\n",
       "3  6.998   2.94\n",
       "4  7.147   5.33"
      ]
     },
     "execution_count": 39,
     "metadata": {},
     "output_type": "execute_result"
    }
   ],
   "source": [
    "#inputs for training the model\n",
    "inputs = boston[['RM','LSTAT']]\n",
    "inputs.head()"
   ]
  },
  {
   "cell_type": "markdown",
   "metadata": {},
   "source": [
    "Then assign 'MEDV' to the outputs variable."
   ]
  },
  {
   "cell_type": "code",
   "execution_count": 40,
   "metadata": {
    "scrolled": true
   },
   "outputs": [
    {
     "data": {
      "text/plain": [
       "0    24.0\n",
       "1    21.6\n",
       "2    34.7\n",
       "3    33.4\n",
       "4    36.2\n",
       "Name: MEDV, dtype: float64"
      ]
     },
     "execution_count": 40,
     "metadata": {},
     "output_type": "execute_result"
    }
   ],
   "source": [
    "# outputs for training the neural network\n",
    "outputs = boston['MEDV']\n",
    "outputs.head()"
   ]
  },
  {
   "cell_type": "markdown",
   "metadata": {},
   "source": [
    "This is an important step as we need to set the variables for training our neural network while holding back a\n",
    "percentage of the samples in the dataset for testing the training data once the model is built."
   ]
  },
  {
   "cell_type": "code",
   "execution_count": 41,
   "metadata": {},
   "outputs": [],
   "source": [
    "## https://scikit-learn.org/stable/modules/generated/sklearn.model_selection.train_test_split.html [17]\n",
    "x_train, x_test, y_train, y_test = mod.train_test_split(inputs, outputs, test_size=0.3)"
   ]
  },
  {
   "cell_type": "markdown",
   "metadata": {},
   "source": [
    "After assigning the variables into training and testing data the following code shows the shape of the data. "
   ]
  },
  {
   "cell_type": "code",
   "execution_count": 42,
   "metadata": {
    "scrolled": true
   },
   "outputs": [
    {
     "name": "stdout",
     "output_type": "stream",
     "text": [
      "Training data:\n",
      "         RM  LSTAT\n",
      "449  6.417  19.31\n",
      "53   5.998   8.43\n",
      "440  5.818  22.11\n",
      "326  6.312   6.15\n",
      "309  5.972   9.97\n",
      "..     ...    ...\n",
      "455  6.525  18.13\n",
      "79   5.874   9.10\n",
      "399  5.852  29.97\n",
      "147  4.926  29.53\n",
      "126  5.613  27.26\n",
      "\n",
      "[354 rows x 2 columns] 449    13.0\n",
      "53     23.4\n",
      "440    10.5\n",
      "326    23.0\n",
      "309    20.3\n",
      "       ... \n",
      "455    14.1\n",
      "79     20.3\n",
      "399     6.3\n",
      "147    14.6\n",
      "126    15.7\n",
      "Name: MEDV, Length: 354, dtype: float64\n",
      "Test data:\n",
      "         RM  LSTAT\n",
      "13   5.949   8.26\n",
      "300  6.871   6.07\n",
      "289  6.565   9.51\n",
      "347  6.516   6.36\n",
      "278  6.482   7.19\n",
      "..     ...    ...\n",
      "437  6.152  26.45\n",
      "148  5.186  28.32\n",
      "281  6.968   4.59\n",
      "390  5.713  17.11\n",
      "230  5.981  11.65\n",
      "\n",
      "[152 rows x 2 columns] 13     20.4\n",
      "300    24.8\n",
      "289    24.8\n",
      "347    23.1\n",
      "278    29.1\n",
      "       ... \n",
      "437     8.7\n",
      "148    17.8\n",
      "281    35.4\n",
      "390    15.1\n",
      "230    24.3\n",
      "Name: MEDV, Length: 152, dtype: float64\n",
      "(354, 2) (354,)\n",
      "(152, 2) (152,)\n"
     ]
    }
   ],
   "source": [
    "## \n",
    "print (\"Training data:\\n\",x_train, y_train)\n",
    "print (\"Test data:\\n\" ,x_test, y_test)\n",
    "\n",
    "print (x_train.shape, y_train.shape)\n",
    "print (x_test.shape, y_test.shape)"
   ]
  },
  {
   "cell_type": "markdown",
   "metadata": {},
   "source": [
    "My data is now ready to be passed to be passed into the network but first I have to build the architecture\n",
    "of the network. The following points describe the methods chosen for building the model:\n",
    "\n",
    "**Sequential** \n",
    "A sequential model is a linear stack of layers that are compiled in sequence i.e. first layer is compiled, \n",
    "then the second layer and so on. I could of chosen a functional model that does not have to execute in sequence but as this\n",
    "is a regression problem I feel sequential is the best fit. [18][19]\n",
    "\n",
    "**Dense** \n",
    "Dense simply means that the layers are fully connected.\n",
    "\n",
    "**input_dim** \n",
    "Is the shape of the inputs to be passed into the model i.e. inputs RM and LSTAT\n",
    "\n",
    "**activation function:** \n",
    "I chose the activation function **relu** after some research and trials with other functions such as sigmiod and tanh. Relu function acts like a linear function, but is, in fact, a nonlinear function allowing complex relationships in the data to be learned. The function is linear for values greater than zero, meaning it has a lot of the desirable properties of a linear activation function when training a neural network. [20]. \n",
    "\n",
    "As the relationship between RM, LSTAT and MEDV has a high correlation and does have a linear relationship relu was chosen as the best fit for the first three hidden layers in the model. \n",
    "\n",
    "The ouput layer will be linear as the model output is one continuous variable, that is MEDV.\n",
    "\n",
    "**Loss**\n",
    "The mean absolute error **(MAE)** compares the actual values to the calculated values by summing up all the errors and dividing by the total number of errors [21]. \n",
    "MAE is an appropriate loss function if outliers exist and from earlier analysis we know that **outliers** do exist across all variables. Further, as the neural network is a a **regression model** MAE is an appropriate choice. [22]\n",
    "\n",
    "**Optimiser**\n",
    "I chose Adaptive Moment Estimation Algorithm **(ADAM)** as my optimizer for this model as it had a better loss outcome in combination with ReLU. Medium.Com explains how the fuction works:\n",
    "\n",
    "\"This algorithm simply estimates moments and uses them to optimize a function. It is essentially a combination of the gradient descent with momentum algorithm and the RMS (Root Mean Square) Prop algorithm.\n",
    "The Adam algorithm calculates an **exponential weighted moving average of the gradient** and then **squares the calculated gradient.** This algorithm has two decay parameters that control the decay rates of these calculated moving averages.\" [23]\n"
   ]
  },
  {
   "cell_type": "code",
   "execution_count": 65,
   "metadata": {},
   "outputs": [],
   "source": [
    "# Create a new neural network.\n",
    "m = kr.models.Sequential()\n",
    "\n",
    "m.add(kr.layers.Dense(100, input_dim=2, activation=\"relu\"))\n",
    "m.add(kr.layers.Dense(100, activation=\"relu\"))\n",
    "m.add(kr.layers.Dense(50, activation=\"relu\"))\n",
    "m.add(kr.layers.Dense(1))\n",
    "# Compile the model.\n",
    "m.compile(loss=\"mean_absolute_error\", optimizer=\"Adam\")"
   ]
  },
  {
   "cell_type": "markdown",
   "metadata": {},
   "source": [
    "Now I use the fit method to train the data. The algorithm will iterate over the training data 50 times (epochs). During\n",
    "each iteration the internal learning parameters of the model will be updated after each batch of 25 samples. \n",
    "\n",
    "I included the parameter **validation split** so that the model could validate its learning on the last 10% of the dataset, tunong its parameters before moving onto the next epoch. "
   ]
  },
  {
   "cell_type": "code",
   "execution_count": 66,
   "metadata": {
    "scrolled": true
   },
   "outputs": [
    {
     "name": "stdout",
     "output_type": "stream",
     "text": [
      "Train on 318 samples, validate on 36 samples\n",
      "Epoch 1/50\n",
      "318/318 [==============================] - 1s 3ms/step - loss: 18.1705 - val_loss: 13.0749\n",
      "Epoch 2/50\n",
      "318/318 [==============================] - 0s 173us/step - loss: 13.0473 - val_loss: 11.2874\n",
      "Epoch 3/50\n",
      "318/318 [==============================] - 0s 182us/step - loss: 11.4344 - val_loss: 10.0877\n",
      "Epoch 4/50\n",
      "318/318 [==============================] - 0s 192us/step - loss: 9.3644 - val_loss: 7.5104\n",
      "Epoch 5/50\n",
      "318/318 [==============================] - 0s 185us/step - loss: 6.5601 - val_loss: 4.2744\n",
      "Epoch 6/50\n",
      "318/318 [==============================] - 0s 185us/step - loss: 4.0041 - val_loss: 3.5284\n",
      "Epoch 7/50\n",
      "318/318 [==============================] - 0s 201us/step - loss: 3.7660 - val_loss: 3.7422\n",
      "Epoch 8/50\n",
      "318/318 [==============================] - 0s 201us/step - loss: 3.9002 - val_loss: 3.2940\n",
      "Epoch 9/50\n",
      "318/318 [==============================] - 0s 179us/step - loss: 3.6214 - val_loss: 3.2545\n",
      "Epoch 10/50\n",
      "318/318 [==============================] - 0s 176us/step - loss: 3.5878 - val_loss: 3.2863\n",
      "Epoch 11/50\n",
      "318/318 [==============================] - 0s 277us/step - loss: 3.5978 - val_loss: 3.3465\n",
      "Epoch 12/50\n",
      "318/318 [==============================] - 0s 217us/step - loss: 3.5231 - val_loss: 3.0892\n",
      "Epoch 13/50\n",
      "318/318 [==============================] - 0s 236us/step - loss: 3.5015 - val_loss: 3.2151\n",
      "Epoch 14/50\n",
      "318/318 [==============================] - 0s 248us/step - loss: 3.5362 - val_loss: 3.1310\n",
      "Epoch 15/50\n",
      "318/318 [==============================] - 0s 242us/step - loss: 3.4879 - val_loss: 3.0511\n",
      "Epoch 16/50\n",
      "318/318 [==============================] - 0s 207us/step - loss: 3.4884 - val_loss: 3.1557\n",
      "Epoch 17/50\n",
      "318/318 [==============================] - 0s 211us/step - loss: 3.4325 - val_loss: 3.0711\n",
      "Epoch 18/50\n",
      "318/318 [==============================] - 0s 242us/step - loss: 3.4397 - val_loss: 3.1305\n",
      "Epoch 19/50\n",
      "318/318 [==============================] - 0s 214us/step - loss: 3.4860 - val_loss: 3.1465\n",
      "Epoch 20/50\n",
      "318/318 [==============================] - 0s 226us/step - loss: 3.4447 - val_loss: 3.0574\n",
      "Epoch 21/50\n",
      "318/318 [==============================] - 0s 223us/step - loss: 3.4537 - val_loss: 3.0713\n",
      "Epoch 22/50\n",
      "318/318 [==============================] - 0s 229us/step - loss: 3.4313 - val_loss: 3.1552\n",
      "Epoch 23/50\n",
      "318/318 [==============================] - 0s 226us/step - loss: 3.4724 - val_loss: 3.0255\n",
      "Epoch 24/50\n",
      "318/318 [==============================] - 0s 236us/step - loss: 3.4738 - val_loss: 2.9897\n",
      "Epoch 25/50\n",
      "318/318 [==============================] - 0s 226us/step - loss: 3.4311 - val_loss: 3.1038\n",
      "Epoch 26/50\n",
      "318/318 [==============================] - 0s 229us/step - loss: 3.4649 - val_loss: 3.0236\n",
      "Epoch 27/50\n",
      "318/318 [==============================] - 0s 270us/step - loss: 3.5514 - val_loss: 3.2296\n",
      "Epoch 28/50\n",
      "318/318 [==============================] - 0s 273us/step - loss: 3.4257 - val_loss: 2.9718\n",
      "Epoch 29/50\n",
      "318/318 [==============================] - 0s 374us/step - loss: 3.3925 - val_loss: 2.9789\n",
      "Epoch 30/50\n",
      "318/318 [==============================] - 0s 255us/step - loss: 3.5092 - val_loss: 3.1299\n",
      "Epoch 31/50\n",
      "318/318 [==============================] - 0s 236us/step - loss: 3.6091 - val_loss: 2.9756\n",
      "Epoch 32/50\n",
      "318/318 [==============================] - 0s 251us/step - loss: 3.5608 - val_loss: 3.0495\n",
      "Epoch 33/50\n",
      "318/318 [==============================] - 0s 258us/step - loss: 3.5466 - val_loss: 3.1350\n",
      "Epoch 34/50\n",
      "318/318 [==============================] - 0s 248us/step - loss: 3.4536 - val_loss: 2.9506\n",
      "Epoch 35/50\n",
      "318/318 [==============================] - 0s 223us/step - loss: 3.4737 - val_loss: 3.0491\n",
      "Epoch 36/50\n",
      "318/318 [==============================] - 0s 283us/step - loss: 3.4241 - val_loss: 2.9714\n",
      "Epoch 37/50\n",
      "318/318 [==============================] - 0s 258us/step - loss: 3.5241 - val_loss: 2.9899\n",
      "Epoch 38/50\n",
      "318/318 [==============================] - 0s 229us/step - loss: 3.4760 - val_loss: 3.0547\n",
      "Epoch 39/50\n",
      "318/318 [==============================] - 0s 273us/step - loss: 3.4287 - val_loss: 2.9259\n",
      "Epoch 40/50\n",
      "318/318 [==============================] - 0s 280us/step - loss: 3.4094 - val_loss: 2.9935\n",
      "Epoch 41/50\n",
      "318/318 [==============================] - 0s 280us/step - loss: 3.5656 - val_loss: 3.1163\n",
      "Epoch 42/50\n",
      "318/318 [==============================] - 0s 471us/step - loss: 3.4929 - val_loss: 2.9386\n",
      "Epoch 43/50\n",
      "318/318 [==============================] - 0s 343us/step - loss: 3.4068 - val_loss: 3.0247\n",
      "Epoch 44/50\n",
      "318/318 [==============================] - 0s 270us/step - loss: 3.4774 - val_loss: 2.9666\n",
      "Epoch 45/50\n",
      "318/318 [==============================] - 0s 267us/step - loss: 3.4486 - val_loss: 2.9613\n",
      "Epoch 46/50\n",
      "318/318 [==============================] - 0s 264us/step - loss: 3.4170 - val_loss: 2.9771\n",
      "Epoch 47/50\n",
      "318/318 [==============================] - ETA: 0s - loss: 3.569 - 0s 270us/step - loss: 3.5817 - val_loss: 3.1343\n",
      "Epoch 48/50\n",
      "318/318 [==============================] - 0s 308us/step - loss: 3.4348 - val_loss: 3.0650\n",
      "Epoch 49/50\n",
      "318/318 [==============================] - 0s 280us/step - loss: 3.4823 - val_loss: 2.9782\n",
      "Epoch 50/50\n",
      "318/318 [==============================] - 0s 242us/step - loss: 3.3932 - val_loss: 2.9618\n"
     ]
    }
   ],
   "source": [
    "history = m.fit(x_train, y_train, epochs=50, batch_size=25,validation_split=0.1)"
   ]
  },
  {
   "cell_type": "markdown",
   "metadata": {},
   "source": [
    "So after fitting my model I can see that it starts off with a loss of about 17 and by the time it finishes learning\n",
    "I get a loss of about 3.5. The model learns quite quickly but the rate of learning slows down after tenth iteration.\n",
    "\n",
    "Initially after running the model multiple times ,the validation loss and loss were quite similar so the model seemed to fit correctly if not overfitted but after the last run you can see that the validation loss is slightly lower. Possible reasons\n",
    "for the validation test being lowere is that it is easier for the model to recognise patterns in test data. [24]\n",
    "\n",
    "The following graph is a visualisation of the learning rate on the training data, and also on thee\n",
    "test data after being paased through the trained model. "
   ]
  },
  {
   "cell_type": "code",
   "execution_count": 67,
   "metadata": {
    "scrolled": false
   },
   "outputs": [
    {
     "data": {
      "image/png": "[encoded data removed]",
      "text/plain": [
       "<Figure size 1080x576 with 1 Axes>"
      ]
     },
     "metadata": {},
     "output_type": "display_data"
    }
   ],
   "source": [
    "##https://keras.io/visualization/ [25]\n",
    "# Plot training & validation loss values\n",
    "plt.plot(history.history['loss'])\n",
    "plt.plot(history.history['val_loss'])\n",
    "plt.title('Model loss')\n",
    "plt.ylabel('Loss')\n",
    "plt.xlabel('Epoch')\n",
    "plt.legend(['Train', 'Test'], loc='upper left')\n",
    "plt.show()"
   ]
  },
  {
   "cell_type": "markdown",
   "metadata": {},
   "source": [
    "Next I will pass in the test data to the model and see if has a similar loss to the trained model:"
   ]
  },
  {
   "cell_type": "code",
   "execution_count": 76,
   "metadata": {
    "scrolled": true
   },
   "outputs": [
    {
     "name": "stdout",
     "output_type": "stream",
     "text": [
      "3.354320262607775\n"
     ]
    }
   ],
   "source": [
    "##calculates loss on test data\n",
    "scores = m.evaluate(x_test, y_test, verbose=0)\n",
    "print (scores)"
   ]
  },
  {
   "cell_type": "markdown",
   "metadata": {},
   "source": [
    "Model seems to be working well in the sense that test data has a similar loss to the trained data."
   ]
  },
  {
   "cell_type": "markdown",
   "metadata": {},
   "source": [
    "Next I want to predict the median house values using test data:"
   ]
  },
  {
   "cell_type": "code",
   "execution_count": 90,
   "metadata": {
    "scrolled": true
   },
   "outputs": [
    {
     "name": "stdout",
     "output_type": "stream",
     "text": [
      "Predictions:\n",
      " [[21.987284]\n",
      " [28.978283]\n",
      " [23.86167 ]\n",
      " [26.39218 ]\n",
      " [24.859991]\n",
      " [21.780268]\n",
      " [21.119547]\n",
      " [30.620718]\n",
      " [14.11467 ]\n",
      " [30.592033]]\n"
     ]
    }
   ],
   "source": [
    "predictions = m.predict(x_test)\n",
    "print(\"Predictions:\\n\",predictions[:10])\n"
   ]
  },
  {
   "cell_type": "markdown",
   "metadata": {},
   "source": [
    "If I compare the predicted values to the orignal test data I can that the results are similar - see below:"
   ]
  },
  {
   "cell_type": "code",
   "execution_count": 88,
   "metadata": {
    "scrolled": true
   },
   "outputs": [
    {
     "name": "stdout",
     "output_type": "stream",
     "text": [
      "Test:\n",
      " 13     20.4\n",
      "300    24.8\n",
      "289    24.8\n",
      "347    23.1\n",
      "278    29.1\n",
      "67     22.0\n",
      "71     21.7\n",
      "308    22.8\n",
      "23     14.5\n",
      "193    31.1\n",
      "Name: MEDV, dtype: float64\n"
     ]
    }
   ],
   "source": [
    "##turns pandas series into numpy array\n",
    "print(\"Test:\\n\",y_test[:10])"
   ]
  },
  {
   "cell_type": "code",
   "execution_count": 91,
   "metadata": {
    "scrolled": true
   },
   "outputs": [
    {
     "name": "stderr",
     "output_type": "stream",
     "text": [
      "C:\\Users\\Donal\\Anaconda3\\lib\\site-packages\\ipykernel_launcher.py:3: FutureWarning: Method .as_matrix will be removed in a future version. Use .values instead.\n",
      "  This is separate from the ipykernel package so we can avoid doing imports until\n"
     ]
    },
    {
     "data": {
      "text/plain": [
       "3635.1410395943053"
      ]
     },
     "execution_count": 91,
     "metadata": {},
     "output_type": "execute_result"
    }
   ],
   "source": [
    "##.T turns rows into columns / get squared mean difference to see difference between the output from predictions\n",
    "## and test data\n",
    "np.sum((m.predict(x_test).T - y_test.as_matrix())**2)"
   ]
  },
  {
   "cell_type": "markdown",
   "metadata": {},
   "source": [
    "Next I want to visualise the predicted values versus the test data to see if the values overlap; we can see that they do with similar distributions highlighted by the density plot below."
   ]
  },
  {
   "cell_type": "code",
   "execution_count": 71,
   "metadata": {},
   "outputs": [
    {
     "data": {
      "image/png": "[encoded data removed]",
      "text/plain": [
       "<Figure size 1080x576 with 1 Axes>"
      ]
     },
     "metadata": {},
     "output_type": "display_data"
    }
   ],
   "source": [
    "##https://towardsdatascience.com/histograms-and-density-plots-in-python-f6bda88f5ac0 [26]\n",
    "##Predicted MEDV vs Actual EDV\n",
    "sns.distplot(predictions, bins=40, label='Predicted MEDV')\n",
    "sns.distplot(y_test, bins=40, label='Actual MEDV')\n",
    "plt.legend()\n",
    "plt.show()"
   ]
  },
  {
   "cell_type": "markdown",
   "metadata": {},
   "source": [
    "## Neural Network 2 using Scaling"
   ]
  },
  {
   "cell_type": "code",
   "execution_count": 52,
   "metadata": {},
   "outputs": [],
   "source": [
    "scaler = pre.StandardScaler()\n",
    "scaler.fit(x_train)\n",
    "x_train_scaled = scaler.transform(x_train)"
   ]
  },
  {
   "cell_type": "code",
   "execution_count": 53,
   "metadata": {},
   "outputs": [],
   "source": [
    "# Create a new neural network.\n",
    "m = kr.models.Sequential()\n",
    "\n",
    "# Add a single neuron in a single layer, initialised with weight 1 and bias 0.\n",
    "m.add(kr.layers.Dense(100, input_dim=2, activation=\"relu\"))\n",
    "m.add(kr.layers.Dense(100, activation=\"relu\"))\n",
    "m.add(kr.layers.Dense(50, activation=\"relu\"))\n",
    "m.add(kr.layers.Dense(1))\n",
    "# Compile the model.\n",
    "m.compile(loss=\"mse\", optimizer=\"Adam\",metrics=['mae'])"
   ]
  },
  {
   "cell_type": "code",
   "execution_count": 54,
   "metadata": {},
   "outputs": [
    {
     "name": "stdout",
     "output_type": "stream",
     "text": [
      "Epoch 1/50\n",
      "354/354 [==============================] - 1s 2ms/step - loss: 562.8906 - mae: 21.9524\n",
      "Epoch 2/50\n",
      "354/354 [==============================] - 0s 181us/step - loss: 508.3985 - mae: 20.6327\n",
      "Epoch 3/50\n",
      "354/354 [==============================] - 0s 184us/step - loss: 368.2717 - mae: 17.3488\n",
      "Epoch 4/50\n",
      "354/354 [==============================] - 0s 186us/step - loss: 157.7884 - mae: 10.9620\n",
      "Epoch 5/50\n",
      "354/354 [==============================] - 0s 203us/step - loss: 68.5628 - mae: 6.1671\n",
      "Epoch 6/50\n",
      "354/354 [==============================] - 0s 237us/step - loss: 49.8515 - mae: 5.3556\n",
      "Epoch 7/50\n",
      "354/354 [==============================] - 0s 186us/step - loss: 42.9894 - mae: 4.9501\n",
      "Epoch 8/50\n",
      "354/354 [==============================] - 0s 189us/step - loss: 36.5793 - mae: 4.5347\n",
      "Epoch 9/50\n",
      "354/354 [==============================] - 0s 175us/step - loss: 33.0763 - mae: 4.2838\n",
      "Epoch 10/50\n",
      "354/354 [==============================] - 0s 184us/step - loss: 31.1245 - mae: 4.1167\n",
      "Epoch 11/50\n",
      "354/354 [==============================] - 0s 175us/step - loss: 28.6298 - mae: 3.9068\n",
      "Epoch 12/50\n",
      "354/354 [==============================] - 0s 192us/step - loss: 27.3191 - mae: 3.7539\n",
      "Epoch 13/50\n",
      "354/354 [==============================] - 0s 169us/step - loss: 25.9467 - mae: 3.6553\n",
      "Epoch 14/50\n",
      "354/354 [==============================] - 0s 215us/step - loss: 25.0245 - mae: 3.5582\n",
      "Epoch 15/50\n",
      "354/354 [==============================] - 0s 195us/step - loss: 24.2197 - mae: 3.5194\n",
      "Epoch 16/50\n",
      "354/354 [==============================] - 0s 181us/step - loss: 23.7095 - mae: 3.4279\n",
      "Epoch 17/50\n",
      "354/354 [==============================] - 0s 167us/step - loss: 23.1353 - mae: 3.4215\n",
      "Epoch 18/50\n",
      "354/354 [==============================] - 0s 192us/step - loss: 22.0345 - mae: 3.3031\n",
      "Epoch 19/50\n",
      "354/354 [==============================] - 0s 169us/step - loss: 22.2905 - mae: 3.3687\n",
      "Epoch 20/50\n",
      "354/354 [==============================] - 0s 184us/step - loss: 26.4408 - mae: 3.5632\n",
      "Epoch 21/50\n",
      "354/354 [==============================] - 0s 246us/step - loss: 22.5266 - mae: 3.4319\n",
      "Epoch 22/50\n",
      "354/354 [==============================] - 0s 200us/step - loss: 21.8336 - mae: 3.3303\n",
      "Epoch 23/50\n",
      "354/354 [==============================] - 0s 175us/step - loss: 20.9284 - mae: 3.1809\n",
      "Epoch 24/50\n",
      "354/354 [==============================] - 0s 158us/step - loss: 22.3075 - mae: 3.2686\n",
      "Epoch 25/50\n",
      "354/354 [==============================] - 0s 209us/step - loss: 20.9392 - mae: 3.2036\n",
      "Epoch 26/50\n",
      "354/354 [==============================] - 0s 189us/step - loss: 20.5530 - mae: 3.1745\n",
      "Epoch 27/50\n",
      "354/354 [==============================] - 0s 161us/step - loss: 20.4636 - mae: 3.1272\n",
      "Epoch 28/50\n",
      "354/354 [==============================] - 0s 212us/step - loss: 20.3562 - mae: 3.0927\n",
      "Epoch 29/50\n",
      "354/354 [==============================] - 0s 158us/step - loss: 20.2855 - mae: 3.1644\n",
      "Epoch 30/50\n",
      "354/354 [==============================] - 0s 175us/step - loss: 20.2180 - mae: 3.0681\n",
      "Epoch 31/50\n",
      "354/354 [==============================] - 0s 164us/step - loss: 23.4738 - mae: 3.2362\n",
      "Epoch 32/50\n",
      "354/354 [==============================] - 0s 186us/step - loss: 20.9061 - mae: 3.2381\n",
      "Epoch 33/50\n",
      "354/354 [==============================] - 0s 217us/step - loss: 19.9625 - mae: 3.1360\n",
      "Epoch 34/50\n",
      "354/354 [==============================] - 0s 184us/step - loss: 19.4783 - mae: 3.0291\n",
      "Epoch 35/50\n",
      "354/354 [==============================] - 0s 195us/step - loss: 19.6183 - mae: 3.0258\n",
      "Epoch 36/50\n",
      "354/354 [==============================] - 0s 198us/step - loss: 19.9372 - mae: 2.9845\n",
      "Epoch 37/50\n",
      "354/354 [==============================] - 0s 223us/step - loss: 19.8586 - mae: 3.0875\n",
      "Epoch 38/50\n",
      "354/354 [==============================] - 0s 215us/step - loss: 19.5419 - mae: 2.9944\n",
      "Epoch 39/50\n",
      "354/354 [==============================] - 0s 192us/step - loss: 19.2946 - mae: 3.0049\n",
      "Epoch 40/50\n",
      "354/354 [==============================] - 0s 195us/step - loss: 19.0854 - mae: 2.9426\n",
      "Epoch 41/50\n",
      "354/354 [==============================] - 0s 181us/step - loss: 19.0634 - mae: 2.9312\n",
      "Epoch 42/50\n",
      "354/354 [==============================] - 0s 189us/step - loss: 18.9612 - mae: 2.9201\n",
      "Epoch 43/50\n",
      "354/354 [==============================] - 0s 167us/step - loss: 18.8725 - mae: 2.9338\n",
      "Epoch 44/50\n",
      "354/354 [==============================] - 0s 189us/step - loss: 18.9194 - mae: 2.9026\n",
      "Epoch 45/50\n",
      "354/354 [==============================] - 0s 189us/step - loss: 18.9562 - mae: 2.9661\n",
      "Epoch 46/50\n",
      "354/354 [==============================] - 0s 161us/step - loss: 18.8994 - mae: 2.8937\n",
      "Epoch 47/50\n",
      "354/354 [==============================] - 0s 200us/step - loss: 19.1767 - mae: 2.9011\n",
      "Epoch 48/50\n",
      "354/354 [==============================] - 0s 181us/step - loss: 19.4763 - mae: 2.9539\n",
      "Epoch 49/50\n",
      "354/354 [==============================] - 0s 183us/step - loss: 19.0970 - mae: 2.8884\n",
      "Epoch 50/50\n",
      "354/354 [==============================] - 0s 172us/step - loss: 18.9437 - mae: 2.8851\n"
     ]
    },
    {
     "data": {
      "text/plain": [
       "<keras.callbacks.callbacks.History at 0x146a8231f48>"
      ]
     },
     "execution_count": 54,
     "metadata": {},
     "output_type": "execute_result"
    }
   ],
   "source": [
    "m.fit(x_train_scaled, y_train, epochs=50, batch_size=25)"
   ]
  },
  {
   "cell_type": "code",
   "execution_count": 55,
   "metadata": {
    "scrolled": true
   },
   "outputs": [
    {
     "data": {
      "text/plain": [
       "array([[22., 30., 24., 26., 25., 22., 21., 29., 16., 30., 43., 25., 32.,\n",
       "        27., 22., 23., 21., 41., 25., 28., 22., 26., 10., 23., 20., 29.,\n",
       "        13., 14., 23., 22., 25., 22., 24., 33., 19., 20., 26., 13., 22.,\n",
       "        16., 20., 20., 21., 22., 17., 22., 42., 43., 32., 45., 22., 33.,\n",
       "        17., 29., 20., 29., 25., 24., 19., 17., 13., 10., 15., 15., 16.,\n",
       "        20., 22., 29., 17., 10., 23., 26., 42., 22., 17., 34., 22., 12.,\n",
       "        25., 14., 12., 19., 26., 45., 17., 22., 12., 38., 19., 20., 17.,\n",
       "        21., 20., 20., 16., 22., 14., 12., 18., 31., 40., 21., 40., 21.,\n",
       "        27., 34., 25., 18., 18., 15., 30., 17., 20., 20., 24., 22., 20.,\n",
       "        19., 24., 17., 18., 35., 16., 43., 10., 21., 20., 17., 19., 20.,\n",
       "        35., 24., 28., 26., 17., 26., 23., 19., 25., 21., 21., 19., 20.,\n",
       "        30., 16., 14., 22., 11., 11., 32., 18., 20.]], dtype=float32)"
      ]
     },
     "execution_count": 55,
     "metadata": {},
     "output_type": "execute_result"
    }
   ],
   "source": [
    "x_test_scaled = scaler.transform(x_test)\n",
    "m.predict(x_test_scaled).round().T"
   ]
  },
  {
   "cell_type": "code",
   "execution_count": 56,
   "metadata": {},
   "outputs": [
    {
     "name": "stderr",
     "output_type": "stream",
     "text": [
      "C:\\Users\\Donal\\Anaconda3\\lib\\site-packages\\ipykernel_launcher.py:1: FutureWarning: Method .as_matrix will be removed in a future version. Use .values instead.\n",
      "  \"\"\"Entry point for launching an IPython kernel.\n"
     ]
    },
    {
     "data": {
      "text/plain": [
       "array([20.4, 24.8, 24.8, 23.1, 29.1, 22. , 21.7, 22.8, 14.5, 31.1, 50. ,\n",
       "       25. , 36. , 23.9, 19.2, 28.1, 20.2, 46. , 22.8, 24. , 18.2, 50. ,\n",
       "       14.4, 21.1, 21.2, 33.8, 17.2, 19.1, 23.1, 19.6, 24.8, 23. , 22. ,\n",
       "       34.9, 19.1, 21.4, 22.2, 10.9, 18.2,  8.5, 20.1, 19.5, 19.6, 20.6,\n",
       "       21.5, 25. , 43.8, 50. , 33.1, 44.8, 20.9, 36.1, 13.1, 30.1, 17.1,\n",
       "       30.8, 24.6, 23.4, 19.3,  8.3, 12. , 23.7, 15.4, 12.5, 19.5, 22.2,\n",
       "       20.6, 22. , 19.1, 13.8, 11.9, 22.9, 45.4, 20.8, 15.2, 32.9, 20.8,\n",
       "       13.4, 27. , 13.3, 10.4, 17.1, 24.7, 50. , 13.6, 36.2, 13.3, 44. ,\n",
       "       22. , 17.6, 14.3, 19.6, 19.6, 21.7, 14.6, 22.3,  7. ,  8.3, 21.7,\n",
       "       25. , 50. , 15. , 42.3, 19.4, 32.5, 37.9, 22.2, 15.6, 13.9, 13.5,\n",
       "       50. , 18.1, 17.4, 19.3, 22.1, 16.1, 20.6, 23.1, 25. , 18.4, 17.4,\n",
       "       33.4, 14.5, 38.7, 13.8, 24.7, 18.9, 14.8, 13.8, 23.8, 37.3, 24.7,\n",
       "       32. , 23.7, 20.5, 27.1, 18.6, 10.9, 24.4, 18.9, 20.1, 16. , 19.9,\n",
       "       30.1, 17.8,  7.2, 20.5,  8.7, 17.8, 35.4, 15.1, 24.3],\n",
       "      dtype=float32)"
      ]
     },
     "execution_count": 56,
     "metadata": {},
     "output_type": "execute_result"
    }
   ],
   "source": [
    "y_test.as_matrix().astype(np.float32)"
   ]
  },
  {
   "cell_type": "code",
   "execution_count": 57,
   "metadata": {},
   "outputs": [
    {
     "name": "stdout",
     "output_type": "stream",
     "text": [
      "[20.216431667930202, 3.127284288406372]\n"
     ]
    }
   ],
   "source": [
    "scores = m.evaluate(x_test_scaled, y_test, verbose=0)\n",
    "print (scores)"
   ]
  },
  {
   "cell_type": "markdown",
   "metadata": {},
   "source": [
    "## Neural Network 3 using Whitening"
   ]
  },
  {
   "cell_type": "code",
   "execution_count": 58,
   "metadata": {},
   "outputs": [
    {
     "data": {
      "text/html": [
       "<div>\n",
       "<style scoped>\n",
       "    .dataframe tbody tr th:only-of-type {\n",
       "        vertical-align: middle;\n",
       "    }\n",
       "\n",
       "    .dataframe tbody tr th {\n",
       "        vertical-align: top;\n",
       "    }\n",
       "\n",
       "    .dataframe thead th {\n",
       "        text-align: right;\n",
       "    }\n",
       "</style>\n",
       "<table border=\"1\" class=\"dataframe\">\n",
       "  <thead>\n",
       "    <tr style=\"text-align: right;\">\n",
       "      <th></th>\n",
       "      <th>RM</th>\n",
       "      <th>LSTAT</th>\n",
       "    </tr>\n",
       "  </thead>\n",
       "  <tbody>\n",
       "    <tr>\n",
       "      <td>0</td>\n",
       "      <td>0.877702</td>\n",
       "      <td>-0.906141</td>\n",
       "    </tr>\n",
       "    <tr>\n",
       "      <td>1</td>\n",
       "      <td>-0.615641</td>\n",
       "      <td>0.968438</td>\n",
       "    </tr>\n",
       "    <tr>\n",
       "      <td>2</td>\n",
       "      <td>1.267987</td>\n",
       "      <td>-0.169244</td>\n",
       "    </tr>\n",
       "    <tr>\n",
       "      <td>3</td>\n",
       "      <td>-0.931977</td>\n",
       "      <td>0.668134</td>\n",
       "    </tr>\n",
       "    <tr>\n",
       "      <td>4</td>\n",
       "      <td>-0.403547</td>\n",
       "      <td>0.850262</td>\n",
       "    </tr>\n",
       "    <tr>\n",
       "      <td>...</td>\n",
       "      <td>...</td>\n",
       "      <td>...</td>\n",
       "    </tr>\n",
       "    <tr>\n",
       "      <td>349</td>\n",
       "      <td>0.714445</td>\n",
       "      <td>-0.967530</td>\n",
       "    </tr>\n",
       "    <tr>\n",
       "      <td>350</td>\n",
       "      <td>-0.522415</td>\n",
       "      <td>1.111418</td>\n",
       "    </tr>\n",
       "    <tr>\n",
       "      <td>351</td>\n",
       "      <td>2.349086</td>\n",
       "      <td>-1.059971</td>\n",
       "    </tr>\n",
       "    <tr>\n",
       "      <td>352</td>\n",
       "      <td>2.296369</td>\n",
       "      <td>0.584014</td>\n",
       "    </tr>\n",
       "    <tr>\n",
       "      <td>353</td>\n",
       "      <td>1.978260</td>\n",
       "      <td>-0.360795</td>\n",
       "    </tr>\n",
       "  </tbody>\n",
       "</table>\n",
       "<p>354 rows × 2 columns</p>\n",
       "</div>"
      ],
      "text/plain": [
       "           RM     LSTAT\n",
       "0    0.877702 -0.906141\n",
       "1   -0.615641  0.968438\n",
       "2    1.267987 -0.169244\n",
       "3   -0.931977  0.668134\n",
       "4   -0.403547  0.850262\n",
       "..        ...       ...\n",
       "349  0.714445 -0.967530\n",
       "350 -0.522415  1.111418\n",
       "351  2.349086 -1.059971\n",
       "352  2.296369  0.584014\n",
       "353  1.978260 -0.360795\n",
       "\n",
       "[354 rows x 2 columns]"
      ]
     },
     "execution_count": 58,
     "metadata": {},
     "output_type": "execute_result"
    }
   ],
   "source": [
    "pca = dec.PCA(n_components=2, whiten=True)\n",
    "pca.fit(x_train)\n",
    "x_train_white = pd.DataFrame(pca.transform(x_train), columns=inputs.columns)\n",
    "x_train_white\n"
   ]
  },
  {
   "cell_type": "code",
   "execution_count": 59,
   "metadata": {},
   "outputs": [],
   "source": [
    "# Create a new neural network.\n",
    "m = kr.models.Sequential()\n",
    "\n",
    "# Add a single neuron in a single layer, initialised with weight 1 and bias 0.\n",
    "m.add(kr.layers.Dense(100, input_dim=2, activation=\"relu\"))\n",
    "m.add(kr.layers.Dense(100, activation=\"relu\"))\n",
    "m.add(kr.layers.Dense(50, activation=\"relu\"))\n",
    "m.add(kr.layers.Dense(1))\n",
    "# Compile the model.\n",
    "m.compile(loss=\"mse\", optimizer=\"Adam\",metrics=['mae'])"
   ]
  },
  {
   "cell_type": "code",
   "execution_count": 60,
   "metadata": {},
   "outputs": [
    {
     "name": "stdout",
     "output_type": "stream",
     "text": [
      "Epoch 1/50\n",
      "354/354 [==============================] - 1s 2ms/step - loss: 562.8815 - mae: 21.9743\n",
      "Epoch 2/50\n",
      "354/354 [==============================] - 0s 158us/step - loss: 507.5497 - mae: 20.6882\n",
      "Epoch 3/50\n",
      "354/354 [==============================] - 0s 206us/step - loss: 392.8235 - mae: 17.8939\n",
      "Epoch 4/50\n",
      "354/354 [==============================] - 0s 169us/step - loss: 213.0080 - mae: 12.8429\n",
      "Epoch 5/50\n",
      "354/354 [==============================] - 0s 164us/step - loss: 88.4921 - mae: 7.3648\n",
      "Epoch 6/50\n",
      "354/354 [==============================] - 0s 186us/step - loss: 61.4886 - mae: 5.4866\n",
      "Epoch 7/50\n",
      "354/354 [==============================] - 0s 217us/step - loss: 49.6216 - mae: 5.1845\n",
      "Epoch 8/50\n",
      "354/354 [==============================] - 0s 198us/step - loss: 45.0067 - mae: 4.9729\n",
      "Epoch 9/50\n",
      "354/354 [==============================] - 0s 175us/step - loss: 41.1631 - mae: 4.7146\n",
      "Epoch 10/50\n",
      "354/354 [==============================] - 0s 178us/step - loss: 37.6270 - mae: 4.4756\n",
      "Epoch 11/50\n",
      "354/354 [==============================] - 0s 164us/step - loss: 35.1962 - mae: 4.2750\n",
      "Epoch 12/50\n",
      "354/354 [==============================] - 0s 175us/step - loss: 32.9149 - mae: 4.1354\n",
      "Epoch 13/50\n",
      "354/354 [==============================] - 0s 200us/step - loss: 30.8371 - mae: 4.0177\n",
      "Epoch 14/50\n",
      "354/354 [==============================] - 0s 184us/step - loss: 29.2499 - mae: 3.8741\n",
      "Epoch 15/50\n",
      "354/354 [==============================] - 0s 203us/step - loss: 27.6805 - mae: 3.7591\n",
      "Epoch 16/50\n",
      "354/354 [==============================] - 0s 226us/step - loss: 26.6900 - mae: 3.6457\n",
      "Epoch 17/50\n",
      "354/354 [==============================] - 0s 192us/step - loss: 25.1318 - mae: 3.5578\n",
      "Epoch 18/50\n",
      "354/354 [==============================] - 0s 203us/step - loss: 24.8493 - mae: 3.5361\n",
      "Epoch 19/50\n",
      "354/354 [==============================] - 0s 195us/step - loss: 24.0087 - mae: 3.4857\n",
      "Epoch 20/50\n",
      "354/354 [==============================] - 0s 212us/step - loss: 23.0779 - mae: 3.3644\n",
      "Epoch 21/50\n",
      "354/354 [==============================] - 0s 209us/step - loss: 22.4666 - mae: 3.3239\n",
      "Epoch 22/50\n",
      "354/354 [==============================] - 0s 231us/step - loss: 22.2556 - mae: 3.2863\n",
      "Epoch 23/50\n",
      "354/354 [==============================] - 0s 240us/step - loss: 21.6074 - mae: 3.2371\n",
      "Epoch 24/50\n",
      "354/354 [==============================] - 0s 260us/step - loss: 21.2051 - mae: 3.2250\n",
      "Epoch 25/50\n",
      "354/354 [==============================] - 0s 251us/step - loss: 21.7340 - mae: 3.17800s - loss: 25.1417 - mae: 3.37\n",
      "Epoch 26/50\n",
      "354/354 [==============================] - 0s 234us/step - loss: 20.6292 - mae: 3.1690\n",
      "Epoch 27/50\n",
      "354/354 [==============================] - 0s 231us/step - loss: 20.4275 - mae: 3.0816\n",
      "Epoch 28/50\n",
      "354/354 [==============================] - 0s 203us/step - loss: 20.2960 - mae: 3.0845\n",
      "Epoch 29/50\n",
      "354/354 [==============================] - 0s 220us/step - loss: 20.2052 - mae: 3.1157\n",
      "Epoch 30/50\n",
      "354/354 [==============================] - 0s 192us/step - loss: 19.8447 - mae: 3.0179\n",
      "Epoch 31/50\n",
      "354/354 [==============================] - 0s 220us/step - loss: 19.9241 - mae: 3.0622\n",
      "Epoch 32/50\n",
      "354/354 [==============================] - 0s 237us/step - loss: 19.9002 - mae: 2.9929\n",
      "Epoch 33/50\n",
      "354/354 [==============================] - 0s 263us/step - loss: 19.6365 - mae: 3.0408\n",
      "Epoch 34/50\n",
      "354/354 [==============================] - 0s 268us/step - loss: 19.4563 - mae: 3.0026\n",
      "Epoch 35/50\n",
      "354/354 [==============================] - 0s 200us/step - loss: 19.3492 - mae: 2.9827\n",
      "Epoch 36/50\n",
      "354/354 [==============================] - 0s 240us/step - loss: 19.2853 - mae: 2.9642\n",
      "Epoch 37/50\n",
      "354/354 [==============================] - 0s 186us/step - loss: 19.2272 - mae: 2.9780\n",
      "Epoch 38/50\n",
      "354/354 [==============================] - 0s 178us/step - loss: 19.2244 - mae: 2.9638\n",
      "Epoch 39/50\n",
      "354/354 [==============================] - 0s 206us/step - loss: 19.1525 - mae: 2.9697\n",
      "Epoch 40/50\n",
      "354/354 [==============================] - 0s 175us/step - loss: 19.3405 - mae: 2.9576\n",
      "Epoch 41/50\n",
      "354/354 [==============================] - 0s 169us/step - loss: 19.6308 - mae: 3.0305\n",
      "Epoch 42/50\n",
      "354/354 [==============================] - 0s 169us/step - loss: 19.1468 - mae: 2.9380\n",
      "Epoch 43/50\n",
      "354/354 [==============================] - 0s 184us/step - loss: 19.1646 - mae: 2.9679\n",
      "Epoch 44/50\n",
      "354/354 [==============================] - 0s 248us/step - loss: 18.8937 - mae: 2.9201\n",
      "Epoch 45/50\n",
      "354/354 [==============================] - 0s 251us/step - loss: 18.9033 - mae: 2.9052\n",
      "Epoch 46/50\n",
      "354/354 [==============================] - 0s 189us/step - loss: 18.8238 - mae: 2.9217\n",
      "Epoch 47/50\n",
      "354/354 [==============================] - 0s 189us/step - loss: 19.0267 - mae: 2.9581\n",
      "Epoch 48/50\n",
      "354/354 [==============================] - 0s 186us/step - loss: 18.9752 - mae: 2.8728\n",
      "Epoch 49/50\n",
      "354/354 [==============================] - 0s 186us/step - loss: 19.8928 - mae: 3.1177\n",
      "Epoch 50/50\n",
      "354/354 [==============================] - 0s 243us/step - loss: 19.1391 - mae: 2.9139\n"
     ]
    },
    {
     "data": {
      "text/plain": [
       "<keras.callbacks.callbacks.History at 0x146aa108bc8>"
      ]
     },
     "execution_count": 60,
     "metadata": {},
     "output_type": "execute_result"
    }
   ],
   "source": [
    "m.fit(x_train_white, y_train, epochs=50, batch_size=25)"
   ]
  },
  {
   "cell_type": "code",
   "execution_count": 61,
   "metadata": {},
   "outputs": [
    {
     "data": {
      "text/plain": [
       "array([[28., 16., 19., 20., 20., 29., 26., 19., 23., 17., 10., 24., 13.,\n",
       "        17., 20., 21., 32., 11., 27., 20., 25., 47., 28., 27., 24., 14.,\n",
       "        18., 21., 21., 27., 23., 23., 20., 13., 22., 22., 21., 19., 32.,\n",
       "        23., 24., 21., 21., 25., 22., 25., 11., 11., 15.,  9., 28., 13.,\n",
       "        19., 16., 28., 19., 23., 23., 27., 27., 26., 25., 19., 20., 23.,\n",
       "        24., 26., 16., 22., 28., 27., 20., 11., 35., 27., 14., 24., 25.,\n",
       "        24., 22., 26., 20., 22., 10., 22., 24., 21., 12., 25., 29., 25.,\n",
       "        22., 31., 22., 21., 20., 25., 22., 24., 14., 12., 29., 11., 28.,\n",
       "        19., 14., 23., 26., 26., 21., 18., 20., 29., 23., 26., 20., 25.,\n",
       "        28., 21., 21., 23., 13., 20., 10., 21., 26., 24., 22., 21., 26.,\n",
       "        14., 24., 16., 22., 22., 19., 21., 21., 19., 27., 23., 24., 21.,\n",
       "        18., 21., 20., 25., 21., 27., 15., 25., 25.]], dtype=float32)"
      ]
     },
     "execution_count": 61,
     "metadata": {},
     "output_type": "execute_result"
    }
   ],
   "source": [
    "x_test_white = scaler.transform(x_test)\n",
    "m.predict(x_test_white).round().T"
   ]
  },
  {
   "cell_type": "code",
   "execution_count": 62,
   "metadata": {},
   "outputs": [
    {
     "name": "stderr",
     "output_type": "stream",
     "text": [
      "C:\\Users\\Donal\\Anaconda3\\lib\\site-packages\\ipykernel_launcher.py:1: FutureWarning: Method .as_matrix will be removed in a future version. Use .values instead.\n",
      "  \"\"\"Entry point for launching an IPython kernel.\n"
     ]
    },
    {
     "data": {
      "text/plain": [
       "array([20.4, 24.8, 24.8, 23.1, 29.1, 22. , 21.7, 22.8, 14.5, 31.1, 50. ,\n",
       "       25. , 36. , 23.9, 19.2, 28.1, 20.2, 46. , 22.8, 24. , 18.2, 50. ,\n",
       "       14.4, 21.1, 21.2, 33.8, 17.2, 19.1, 23.1, 19.6, 24.8, 23. , 22. ,\n",
       "       34.9, 19.1, 21.4, 22.2, 10.9, 18.2,  8.5, 20.1, 19.5, 19.6, 20.6,\n",
       "       21.5, 25. , 43.8, 50. , 33.1, 44.8, 20.9, 36.1, 13.1, 30.1, 17.1,\n",
       "       30.8, 24.6, 23.4, 19.3,  8.3, 12. , 23.7, 15.4, 12.5, 19.5, 22.2,\n",
       "       20.6, 22. , 19.1, 13.8, 11.9, 22.9, 45.4, 20.8, 15.2, 32.9, 20.8,\n",
       "       13.4, 27. , 13.3, 10.4, 17.1, 24.7, 50. , 13.6, 36.2, 13.3, 44. ,\n",
       "       22. , 17.6, 14.3, 19.6, 19.6, 21.7, 14.6, 22.3,  7. ,  8.3, 21.7,\n",
       "       25. , 50. , 15. , 42.3, 19.4, 32.5, 37.9, 22.2, 15.6, 13.9, 13.5,\n",
       "       50. , 18.1, 17.4, 19.3, 22.1, 16.1, 20.6, 23.1, 25. , 18.4, 17.4,\n",
       "       33.4, 14.5, 38.7, 13.8, 24.7, 18.9, 14.8, 13.8, 23.8, 37.3, 24.7,\n",
       "       32. , 23.7, 20.5, 27.1, 18.6, 10.9, 24.4, 18.9, 20.1, 16. , 19.9,\n",
       "       30.1, 17.8,  7.2, 20.5,  8.7, 17.8, 35.4, 15.1, 24.3],\n",
       "      dtype=float32)"
      ]
     },
     "execution_count": 62,
     "metadata": {},
     "output_type": "execute_result"
    }
   ],
   "source": [
    "y_test.as_matrix().astype(np.float32)"
   ]
  },
  {
   "cell_type": "code",
   "execution_count": 63,
   "metadata": {},
   "outputs": [
    {
     "name": "stdout",
     "output_type": "stream",
     "text": [
      "[181.49170202957956, 9.654067993164062]\n"
     ]
    }
   ],
   "source": [
    "scores = m.evaluate(x_test_white, y_test, verbose=0)\n",
    "print (scores)"
   ]
  },
  {
   "cell_type": "markdown",
   "metadata": {},
   "source": [
    "## References"
   ]
  },
  {
   "cell_type": "markdown",
   "metadata": {},
   "source": [
    "[1] Delve 1996, 'The Boston Housing Datset', retrieved from https://www.cs.toronto.edu/~delve/data/boston/bostonDetail.html\n"
   ]
  },
  {
   "cell_type": "markdown",
   "metadata": {},
   "source": [
    "[2] Harrison, D. & Rubinfeld, D.L. (1978). \"Hedonic prices and the demand for clean air\", J. Environ. Economics & Management, vol.5, 81-102"
   ]
  },
  {
   "cell_type": "markdown",
   "metadata": {},
   "source": [
    "[3] Haydar A, \"learning-data-science-day-9-linear-regression-on-boston-housing-dataset\", retrieved from https://medium.com/@haydar_ai/learning-data-science-day-9-linear-regression-on-boston-housing-dataset-cd62a80775ef"
   ]
  },
  {
   "cell_type": "markdown",
   "metadata": {},
   "source": [
    "[4] Animesh A, \"Linear Regression on Boston Housing Dataset\", retrieved from https://towardsdatascience.com/linear-regression-on-boston-housing-dataset-f409b7e4a155"
   ]
  },
  {
   "cell_type": "markdown",
   "metadata": {},
   "source": [
    "[5] Randerson, \"Predict Boston House Prices Using Python & Linear Regression\", retrieved from https://levelup.gitconnected.com/predict-boston-house-prices-using-python-linear-regression-90469e0a341"
   ]
  },
  {
   "cell_type": "markdown",
   "metadata": {},
   "source": [
    "[6] Ng R, \"Machine-learning-project-boston-home-prices\", retrieved from https://www.ritchieng.com/machine-learning-project-boston-home-prices/"
   ]
  },
  {
   "cell_type": "markdown",
   "metadata": {},
   "source": [
    "[7] 'Why use Keras', retrieved from https://keras.io/why-use-keras/"
   ]
  },
  {
   "cell_type": "markdown",
   "metadata": {},
   "source": [
    "[8] Sharma AV, 'the-theory-of-everything/understanding-activation-functions-in-neural-networks' retrieved from https://medium.com/the-theory-of-everything/understanding-activation-functions-in-neural-networks-9491262884e0"
   ]
  },
  {
   "cell_type": "markdown",
   "metadata": {},
   "source": [
    "[9] Nicholson, C, \"A Beginner's Guide to Neural Networks and Deep Learning\", retrieved from https://skymind.ai/wiki/neural-network"
   ]
  },
  {
   "cell_type": "markdown",
   "metadata": {},
   "source": [
    "[10] Hardesty, L, \"Explained: Neural networks\" retrieved from http://news.mit.edu/2017/explained-neural-networks-deep-learning-0414"
   ]
  },
  {
   "cell_type": "markdown",
   "metadata": {},
   "source": [
    "[11] Walia, A, \"Types of Optimization Algorithms used in Neural Networks and Ways to Optimize Gradient Descent\",retreived from\n",
    "https://towardsdatascience.com/types-of-optimization-algorithms-used-in-neural-networks-and-ways-to-optimize-gradient-95ae5d39529f"
   ]
  },
  {
   "cell_type": "markdown",
   "metadata": {},
   "source": [
    "[12] Ahire J, \"Real world Applications of Artificial Neural Networks\", retrieved from https://medium.com/@jayeshbahire/real-world-applications-of-artificial-neural-networks-a6a6bc17ad6a"
   ]
  },
  {
   "cell_type": "markdown",
   "metadata": {},
   "source": [
    "[13] Parmar, R, \"Common Loss functions in machine learning\" retrieved from https://towardsdatascience.com/common-loss-functions-in-machine-learning-46af0ffc4d23"
   ]
  },
  {
   "cell_type": "markdown",
   "metadata": {},
   "source": [
    "[14] Brownlee, J, \"difference-between-a-batch-and-an-epoch\", retrieved from, https://machinelearningmastery.com/difference-between-a-batch-and-an-epoch/"
   ]
  },
  {
   "cell_type": "markdown",
   "metadata": {},
   "source": [
    "[15] Koehrsen, W,\"Overfitting vs. Underfitting: A Complete Example\" retrieved from https://towardsdatascience.com/overfitting-vs-underfitting-a-complete-example-d05dd7e19765"
   ]
  },
  {
   "cell_type": "markdown",
   "metadata": {},
   "source": [
    "[16] Yegulalp, S, \"what-is-tensorflow-the-machine-learning-library-explained\", retrieved from, https://www.infoworld.com/article/3278008/what-is-tensorflow-the-machine-learning-library-explained.html"
   ]
  },
  {
   "cell_type": "markdown",
   "metadata": {},
   "source": [
    "[17] Unknown, code retrieved from https://scikit-learn.org/stable/modules/generated/sklearn.model_selection.train_test_split.html"
   ]
  },
  {
   "cell_type": "markdown",
   "metadata": {},
   "source": [
    "[18] Unknown, \"Guide to the Sequential model\", retrieved from https://keras.io/getting-started/sequential-model-guide/"
   ]
  },
  {
   "cell_type": "markdown",
   "metadata": {},
   "source": [
    "[19] Lin, J, \"keras-models-sequential-vs-functional\", retrieved from https://jovianlin.io/keras-models-sequential-vs-functional/"
   ]
  },
  {
   "cell_type": "markdown",
   "metadata": {},
   "source": [
    "[20] Brownlee, J, \"A Gentle Introduction to the Rectified Linear Unit (ReLU)\", retrieved from https://machinelearningmastery.com/rectified-linear-activation-function-for-deep-learning-neural-networks/"
   ]
  },
  {
   "cell_type": "markdown",
   "metadata": {},
   "source": [
    "[21] Stephanie,\"Absolute Error & Mean Absolute Error (MAE)\", retrieved from, https://www.statisticshowto.datasciencecentral.com/absolute-error/"
   ]
  },
  {
   "cell_type": "markdown",
   "metadata": {},
   "source": [
    "[22] Brownlee, J, \"How to Choose Loss Functions When Training Deep Learning Neural Networks\", retrieved from https://machinelearningmastery.com/how-to-choose-loss-functions-when-training-deep-learning-neural-networks/"
   ]
  },
  {
   "cell_type": "markdown",
   "metadata": {},
   "source": [
    "[23] Sultanov, J, \"Adam optimization algorithm in Deep Learning\", retrieved from https://medium.com/ai%C2%B3-theory-practice-business/adam-optimization-algorithm-in-deep-learning-9b775dacbc9f"
   ]
  },
  {
   "cell_type": "markdown",
   "metadata": {},
   "source": [
    "[24] Unknown, \"Determining when you are overfitting, underfitting, or just right?\", retrieved from https://forums.fast.ai/t/determining-when-you-are-overfitting-underfitting-or-just-right/7732"
   ]
  },
  {
   "cell_type": "markdown",
   "metadata": {},
   "source": [
    "[25] Unknown, code retrieved from https://keras.io/visualization/"
   ]
  },
  {
   "cell_type": "markdown",
   "metadata": {},
   "source": [
    "[26] W, Koehrsen, \"Histograms and Density Plots in Python\",retrieved from https://towardsdatascience.com/histograms-and-density-plots-in-python-f6bda88f5ac0"
   ]
  },
  {
   "cell_type": "code",
   "execution_count": null,
   "metadata": {},
   "outputs": [],
   "source": []
  }
 ],
 "metadata": {
  "kernelspec": {
   "display_name": "Python 3",
   "language": "python",
   "name": "python3"
  },
  "language_info": {
   "codemirror_mode": {
    "name": "ipython",
    "version": 3
   },
   "file_extension": ".py",
   "mimetype": "text/x-python",
   "name": "python",
   "nbconvert_exporter": "python",
   "pygments_lexer": "ipython3",
   "version": "3.7.4"
  }
 },
 "nbformat": 4,
 "nbformat_minor": 2
}
